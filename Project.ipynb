{
 "cells": [
  {
   "cell_type": "code",
   "execution_count": 27,
   "metadata": {},
   "outputs": [
    {
     "data": {
      "text/html": [
       "<div>\n",
       "<style scoped>\n",
       "    .dataframe tbody tr th:only-of-type {\n",
       "        vertical-align: middle;\n",
       "    }\n",
       "\n",
       "    .dataframe tbody tr th {\n",
       "        vertical-align: top;\n",
       "    }\n",
       "\n",
       "    .dataframe thead th {\n",
       "        text-align: right;\n",
       "    }\n",
       "</style>\n",
       "<table border=\"1\" class=\"dataframe\">\n",
       "  <thead>\n",
       "    <tr style=\"text-align: right;\">\n",
       "      <th></th>\n",
       "      <th>MSSubClass</th>\n",
       "      <th>MSZoning</th>\n",
       "      <th>LotFrontage</th>\n",
       "      <th>LotArea</th>\n",
       "      <th>Street</th>\n",
       "      <th>Alley</th>\n",
       "      <th>LotShape</th>\n",
       "      <th>LandContour</th>\n",
       "      <th>Utilities</th>\n",
       "      <th>LotConfig</th>\n",
       "      <th>...</th>\n",
       "      <th>PoolArea</th>\n",
       "      <th>PoolQC</th>\n",
       "      <th>Fence</th>\n",
       "      <th>MiscFeature</th>\n",
       "      <th>MiscVal</th>\n",
       "      <th>MoSold</th>\n",
       "      <th>YrSold</th>\n",
       "      <th>SaleType</th>\n",
       "      <th>SaleCondition</th>\n",
       "      <th>SalePrice</th>\n",
       "    </tr>\n",
       "    <tr>\n",
       "      <th>Id</th>\n",
       "      <th></th>\n",
       "      <th></th>\n",
       "      <th></th>\n",
       "      <th></th>\n",
       "      <th></th>\n",
       "      <th></th>\n",
       "      <th></th>\n",
       "      <th></th>\n",
       "      <th></th>\n",
       "      <th></th>\n",
       "      <th></th>\n",
       "      <th></th>\n",
       "      <th></th>\n",
       "      <th></th>\n",
       "      <th></th>\n",
       "      <th></th>\n",
       "      <th></th>\n",
       "      <th></th>\n",
       "      <th></th>\n",
       "      <th></th>\n",
       "      <th></th>\n",
       "    </tr>\n",
       "  </thead>\n",
       "  <tbody>\n",
       "    <tr>\n",
       "      <th>1</th>\n",
       "      <td>60</td>\n",
       "      <td>RL</td>\n",
       "      <td>65.0</td>\n",
       "      <td>8450</td>\n",
       "      <td>Pave</td>\n",
       "      <td>NaN</td>\n",
       "      <td>Reg</td>\n",
       "      <td>Lvl</td>\n",
       "      <td>AllPub</td>\n",
       "      <td>Inside</td>\n",
       "      <td>...</td>\n",
       "      <td>0</td>\n",
       "      <td>NaN</td>\n",
       "      <td>NaN</td>\n",
       "      <td>NaN</td>\n",
       "      <td>0</td>\n",
       "      <td>2</td>\n",
       "      <td>2008</td>\n",
       "      <td>WD</td>\n",
       "      <td>Normal</td>\n",
       "      <td>208500</td>\n",
       "    </tr>\n",
       "    <tr>\n",
       "      <th>2</th>\n",
       "      <td>20</td>\n",
       "      <td>RL</td>\n",
       "      <td>80.0</td>\n",
       "      <td>9600</td>\n",
       "      <td>Pave</td>\n",
       "      <td>NaN</td>\n",
       "      <td>Reg</td>\n",
       "      <td>Lvl</td>\n",
       "      <td>AllPub</td>\n",
       "      <td>FR2</td>\n",
       "      <td>...</td>\n",
       "      <td>0</td>\n",
       "      <td>NaN</td>\n",
       "      <td>NaN</td>\n",
       "      <td>NaN</td>\n",
       "      <td>0</td>\n",
       "      <td>5</td>\n",
       "      <td>2007</td>\n",
       "      <td>WD</td>\n",
       "      <td>Normal</td>\n",
       "      <td>181500</td>\n",
       "    </tr>\n",
       "    <tr>\n",
       "      <th>3</th>\n",
       "      <td>60</td>\n",
       "      <td>RL</td>\n",
       "      <td>68.0</td>\n",
       "      <td>11250</td>\n",
       "      <td>Pave</td>\n",
       "      <td>NaN</td>\n",
       "      <td>IR1</td>\n",
       "      <td>Lvl</td>\n",
       "      <td>AllPub</td>\n",
       "      <td>Inside</td>\n",
       "      <td>...</td>\n",
       "      <td>0</td>\n",
       "      <td>NaN</td>\n",
       "      <td>NaN</td>\n",
       "      <td>NaN</td>\n",
       "      <td>0</td>\n",
       "      <td>9</td>\n",
       "      <td>2008</td>\n",
       "      <td>WD</td>\n",
       "      <td>Normal</td>\n",
       "      <td>223500</td>\n",
       "    </tr>\n",
       "    <tr>\n",
       "      <th>4</th>\n",
       "      <td>70</td>\n",
       "      <td>RL</td>\n",
       "      <td>60.0</td>\n",
       "      <td>9550</td>\n",
       "      <td>Pave</td>\n",
       "      <td>NaN</td>\n",
       "      <td>IR1</td>\n",
       "      <td>Lvl</td>\n",
       "      <td>AllPub</td>\n",
       "      <td>Corner</td>\n",
       "      <td>...</td>\n",
       "      <td>0</td>\n",
       "      <td>NaN</td>\n",
       "      <td>NaN</td>\n",
       "      <td>NaN</td>\n",
       "      <td>0</td>\n",
       "      <td>2</td>\n",
       "      <td>2006</td>\n",
       "      <td>WD</td>\n",
       "      <td>Abnorml</td>\n",
       "      <td>140000</td>\n",
       "    </tr>\n",
       "    <tr>\n",
       "      <th>5</th>\n",
       "      <td>60</td>\n",
       "      <td>RL</td>\n",
       "      <td>84.0</td>\n",
       "      <td>14260</td>\n",
       "      <td>Pave</td>\n",
       "      <td>NaN</td>\n",
       "      <td>IR1</td>\n",
       "      <td>Lvl</td>\n",
       "      <td>AllPub</td>\n",
       "      <td>FR2</td>\n",
       "      <td>...</td>\n",
       "      <td>0</td>\n",
       "      <td>NaN</td>\n",
       "      <td>NaN</td>\n",
       "      <td>NaN</td>\n",
       "      <td>0</td>\n",
       "      <td>12</td>\n",
       "      <td>2008</td>\n",
       "      <td>WD</td>\n",
       "      <td>Normal</td>\n",
       "      <td>250000</td>\n",
       "    </tr>\n",
       "    <tr>\n",
       "      <th>...</th>\n",
       "      <td>...</td>\n",
       "      <td>...</td>\n",
       "      <td>...</td>\n",
       "      <td>...</td>\n",
       "      <td>...</td>\n",
       "      <td>...</td>\n",
       "      <td>...</td>\n",
       "      <td>...</td>\n",
       "      <td>...</td>\n",
       "      <td>...</td>\n",
       "      <td>...</td>\n",
       "      <td>...</td>\n",
       "      <td>...</td>\n",
       "      <td>...</td>\n",
       "      <td>...</td>\n",
       "      <td>...</td>\n",
       "      <td>...</td>\n",
       "      <td>...</td>\n",
       "      <td>...</td>\n",
       "      <td>...</td>\n",
       "      <td>...</td>\n",
       "    </tr>\n",
       "    <tr>\n",
       "      <th>1456</th>\n",
       "      <td>60</td>\n",
       "      <td>RL</td>\n",
       "      <td>62.0</td>\n",
       "      <td>7917</td>\n",
       "      <td>Pave</td>\n",
       "      <td>NaN</td>\n",
       "      <td>Reg</td>\n",
       "      <td>Lvl</td>\n",
       "      <td>AllPub</td>\n",
       "      <td>Inside</td>\n",
       "      <td>...</td>\n",
       "      <td>0</td>\n",
       "      <td>NaN</td>\n",
       "      <td>NaN</td>\n",
       "      <td>NaN</td>\n",
       "      <td>0</td>\n",
       "      <td>8</td>\n",
       "      <td>2007</td>\n",
       "      <td>WD</td>\n",
       "      <td>Normal</td>\n",
       "      <td>175000</td>\n",
       "    </tr>\n",
       "    <tr>\n",
       "      <th>1457</th>\n",
       "      <td>20</td>\n",
       "      <td>RL</td>\n",
       "      <td>85.0</td>\n",
       "      <td>13175</td>\n",
       "      <td>Pave</td>\n",
       "      <td>NaN</td>\n",
       "      <td>Reg</td>\n",
       "      <td>Lvl</td>\n",
       "      <td>AllPub</td>\n",
       "      <td>Inside</td>\n",
       "      <td>...</td>\n",
       "      <td>0</td>\n",
       "      <td>NaN</td>\n",
       "      <td>MnPrv</td>\n",
       "      <td>NaN</td>\n",
       "      <td>0</td>\n",
       "      <td>2</td>\n",
       "      <td>2010</td>\n",
       "      <td>WD</td>\n",
       "      <td>Normal</td>\n",
       "      <td>210000</td>\n",
       "    </tr>\n",
       "    <tr>\n",
       "      <th>1458</th>\n",
       "      <td>70</td>\n",
       "      <td>RL</td>\n",
       "      <td>66.0</td>\n",
       "      <td>9042</td>\n",
       "      <td>Pave</td>\n",
       "      <td>NaN</td>\n",
       "      <td>Reg</td>\n",
       "      <td>Lvl</td>\n",
       "      <td>AllPub</td>\n",
       "      <td>Inside</td>\n",
       "      <td>...</td>\n",
       "      <td>0</td>\n",
       "      <td>NaN</td>\n",
       "      <td>GdPrv</td>\n",
       "      <td>Shed</td>\n",
       "      <td>2500</td>\n",
       "      <td>5</td>\n",
       "      <td>2010</td>\n",
       "      <td>WD</td>\n",
       "      <td>Normal</td>\n",
       "      <td>266500</td>\n",
       "    </tr>\n",
       "    <tr>\n",
       "      <th>1459</th>\n",
       "      <td>20</td>\n",
       "      <td>RL</td>\n",
       "      <td>68.0</td>\n",
       "      <td>9717</td>\n",
       "      <td>Pave</td>\n",
       "      <td>NaN</td>\n",
       "      <td>Reg</td>\n",
       "      <td>Lvl</td>\n",
       "      <td>AllPub</td>\n",
       "      <td>Inside</td>\n",
       "      <td>...</td>\n",
       "      <td>0</td>\n",
       "      <td>NaN</td>\n",
       "      <td>NaN</td>\n",
       "      <td>NaN</td>\n",
       "      <td>0</td>\n",
       "      <td>4</td>\n",
       "      <td>2010</td>\n",
       "      <td>WD</td>\n",
       "      <td>Normal</td>\n",
       "      <td>142125</td>\n",
       "    </tr>\n",
       "    <tr>\n",
       "      <th>1460</th>\n",
       "      <td>20</td>\n",
       "      <td>RL</td>\n",
       "      <td>75.0</td>\n",
       "      <td>9937</td>\n",
       "      <td>Pave</td>\n",
       "      <td>NaN</td>\n",
       "      <td>Reg</td>\n",
       "      <td>Lvl</td>\n",
       "      <td>AllPub</td>\n",
       "      <td>Inside</td>\n",
       "      <td>...</td>\n",
       "      <td>0</td>\n",
       "      <td>NaN</td>\n",
       "      <td>NaN</td>\n",
       "      <td>NaN</td>\n",
       "      <td>0</td>\n",
       "      <td>6</td>\n",
       "      <td>2008</td>\n",
       "      <td>WD</td>\n",
       "      <td>Normal</td>\n",
       "      <td>147500</td>\n",
       "    </tr>\n",
       "  </tbody>\n",
       "</table>\n",
       "<p>1460 rows × 80 columns</p>\n",
       "</div>"
      ],
      "text/plain": [
       "      MSSubClass MSZoning  LotFrontage  LotArea Street Alley LotShape  \\\n",
       "Id                                                                      \n",
       "1             60       RL         65.0     8450   Pave   NaN      Reg   \n",
       "2             20       RL         80.0     9600   Pave   NaN      Reg   \n",
       "3             60       RL         68.0    11250   Pave   NaN      IR1   \n",
       "4             70       RL         60.0     9550   Pave   NaN      IR1   \n",
       "5             60       RL         84.0    14260   Pave   NaN      IR1   \n",
       "...          ...      ...          ...      ...    ...   ...      ...   \n",
       "1456          60       RL         62.0     7917   Pave   NaN      Reg   \n",
       "1457          20       RL         85.0    13175   Pave   NaN      Reg   \n",
       "1458          70       RL         66.0     9042   Pave   NaN      Reg   \n",
       "1459          20       RL         68.0     9717   Pave   NaN      Reg   \n",
       "1460          20       RL         75.0     9937   Pave   NaN      Reg   \n",
       "\n",
       "     LandContour Utilities LotConfig  ... PoolArea PoolQC  Fence MiscFeature  \\\n",
       "Id                                    ...                                      \n",
       "1            Lvl    AllPub    Inside  ...        0    NaN    NaN         NaN   \n",
       "2            Lvl    AllPub       FR2  ...        0    NaN    NaN         NaN   \n",
       "3            Lvl    AllPub    Inside  ...        0    NaN    NaN         NaN   \n",
       "4            Lvl    AllPub    Corner  ...        0    NaN    NaN         NaN   \n",
       "5            Lvl    AllPub       FR2  ...        0    NaN    NaN         NaN   \n",
       "...          ...       ...       ...  ...      ...    ...    ...         ...   \n",
       "1456         Lvl    AllPub    Inside  ...        0    NaN    NaN         NaN   \n",
       "1457         Lvl    AllPub    Inside  ...        0    NaN  MnPrv         NaN   \n",
       "1458         Lvl    AllPub    Inside  ...        0    NaN  GdPrv        Shed   \n",
       "1459         Lvl    AllPub    Inside  ...        0    NaN    NaN         NaN   \n",
       "1460         Lvl    AllPub    Inside  ...        0    NaN    NaN         NaN   \n",
       "\n",
       "     MiscVal MoSold  YrSold  SaleType  SaleCondition  SalePrice  \n",
       "Id                                                               \n",
       "1          0      2    2008        WD         Normal     208500  \n",
       "2          0      5    2007        WD         Normal     181500  \n",
       "3          0      9    2008        WD         Normal     223500  \n",
       "4          0      2    2006        WD        Abnorml     140000  \n",
       "5          0     12    2008        WD         Normal     250000  \n",
       "...      ...    ...     ...       ...            ...        ...  \n",
       "1456       0      8    2007        WD         Normal     175000  \n",
       "1457       0      2    2010        WD         Normal     210000  \n",
       "1458    2500      5    2010        WD         Normal     266500  \n",
       "1459       0      4    2010        WD         Normal     142125  \n",
       "1460       0      6    2008        WD         Normal     147500  \n",
       "\n",
       "[1460 rows x 80 columns]"
      ]
     },
     "execution_count": 27,
     "metadata": {},
     "output_type": "execute_result"
    }
   ],
   "source": [
    "import pandas as pd \n",
    "import numpy as np \n",
    "import plotly.graph_objects as go\n",
    "import plotly.express as px\n",
    "import scipy.stats as stats\n",
    "from IPython.display import display\n",
    "\n",
    "df_train = pd.read_csv('train.csv', index_col='Id')\n",
    "df_test = pd.read_csv('test.csv', index_col='Id')\n",
    "df_train"
   ]
  },
  {
   "cell_type": "code",
   "execution_count": 28,
   "metadata": {},
   "outputs": [],
   "source": [
    "obj_cols = df_train.select_dtypes(include='object').columns\n",
    "numeric_cols = df_train.select_dtypes(exclude='object').columns"
   ]
  },
  {
   "cell_type": "code",
   "execution_count": 29,
   "metadata": {},
   "outputs": [
    {
     "name": "stdout",
     "output_type": "stream",
     "text": [
      "LotFrontage    259\n",
      "MasVnrArea       8\n",
      "GarageYrBlt     81\n",
      "dtype: int64\n"
     ]
    }
   ],
   "source": [
    "missing_numeric = df_train[numeric_cols].isnull().sum()\n",
    "missing_numeric = missing_numeric[missing_numeric > 0]  # Keep only columns with missing values\n",
    "print(missing_numeric)\n"
   ]
  },
  {
   "cell_type": "code",
   "execution_count": 30,
   "metadata": {},
   "outputs": [],
   "source": [
    "#fill obj columns with None\n",
    "df_train[obj_cols] = df_train[obj_cols].fillna('None')"
   ]
  },
  {
   "cell_type": "code",
   "execution_count": 31,
   "metadata": {},
   "outputs": [],
   "source": [
    "# fill numeric columns with median or with 0 if absence\n",
    "df_train['LotFrontage'] = df_train['LotFrontage'].fillna(df_train['LotFrontage'].median())\n",
    "df_train['MasVnrArea'] = df_train['MasVnrArea'].fillna(0)\n",
    "df_train['GarageYrBlt'] = df_train['GarageYrBlt'].fillna(0)"
   ]
  },
  {
   "cell_type": "code",
   "execution_count": 32,
   "metadata": {},
   "outputs": [],
   "source": [
    "#convert categorical columns into numeric format\n",
    "#df_train = pd.get_dummies(df_train, columns=obj_cols)\n"
   ]
  },
  {
   "cell_type": "code",
   "execution_count": 33,
   "metadata": {},
   "outputs": [
    {
     "data": {
      "text/html": [
       "<div>\n",
       "<style scoped>\n",
       "    .dataframe tbody tr th:only-of-type {\n",
       "        vertical-align: middle;\n",
       "    }\n",
       "\n",
       "    .dataframe tbody tr th {\n",
       "        vertical-align: top;\n",
       "    }\n",
       "\n",
       "    .dataframe thead th {\n",
       "        text-align: right;\n",
       "    }\n",
       "</style>\n",
       "<table border=\"1\" class=\"dataframe\">\n",
       "  <thead>\n",
       "    <tr style=\"text-align: right;\">\n",
       "      <th></th>\n",
       "      <th>MSSubClass</th>\n",
       "      <th>LotFrontage</th>\n",
       "      <th>LotArea</th>\n",
       "      <th>OverallQual</th>\n",
       "      <th>OverallCond</th>\n",
       "      <th>YearBuilt</th>\n",
       "      <th>YearRemodAdd</th>\n",
       "      <th>MasVnrArea</th>\n",
       "      <th>BsmtFinSF1</th>\n",
       "      <th>BsmtFinSF2</th>\n",
       "      <th>...</th>\n",
       "      <th>WoodDeckSF</th>\n",
       "      <th>OpenPorchSF</th>\n",
       "      <th>EnclosedPorch</th>\n",
       "      <th>3SsnPorch</th>\n",
       "      <th>ScreenPorch</th>\n",
       "      <th>PoolArea</th>\n",
       "      <th>MiscVal</th>\n",
       "      <th>MoSold</th>\n",
       "      <th>YrSold</th>\n",
       "      <th>SalePrice</th>\n",
       "    </tr>\n",
       "  </thead>\n",
       "  <tbody>\n",
       "    <tr>\n",
       "      <th>count</th>\n",
       "      <td>1460.000000</td>\n",
       "      <td>1460.000000</td>\n",
       "      <td>1460.000000</td>\n",
       "      <td>1460.000000</td>\n",
       "      <td>1460.000000</td>\n",
       "      <td>1460.000000</td>\n",
       "      <td>1460.000000</td>\n",
       "      <td>1460.000000</td>\n",
       "      <td>1460.000000</td>\n",
       "      <td>1460.000000</td>\n",
       "      <td>...</td>\n",
       "      <td>1460.000000</td>\n",
       "      <td>1460.000000</td>\n",
       "      <td>1460.000000</td>\n",
       "      <td>1460.000000</td>\n",
       "      <td>1460.000000</td>\n",
       "      <td>1460.000000</td>\n",
       "      <td>1460.000000</td>\n",
       "      <td>1460.000000</td>\n",
       "      <td>1460.000000</td>\n",
       "      <td>1460.000000</td>\n",
       "    </tr>\n",
       "    <tr>\n",
       "      <th>mean</th>\n",
       "      <td>56.897260</td>\n",
       "      <td>69.863699</td>\n",
       "      <td>10516.828082</td>\n",
       "      <td>6.099315</td>\n",
       "      <td>5.575342</td>\n",
       "      <td>1971.267808</td>\n",
       "      <td>1984.865753</td>\n",
       "      <td>103.117123</td>\n",
       "      <td>443.639726</td>\n",
       "      <td>46.549315</td>\n",
       "      <td>...</td>\n",
       "      <td>94.244521</td>\n",
       "      <td>46.660274</td>\n",
       "      <td>21.954110</td>\n",
       "      <td>3.409589</td>\n",
       "      <td>15.060959</td>\n",
       "      <td>2.758904</td>\n",
       "      <td>43.489041</td>\n",
       "      <td>6.321918</td>\n",
       "      <td>2007.815753</td>\n",
       "      <td>180921.195890</td>\n",
       "    </tr>\n",
       "    <tr>\n",
       "      <th>std</th>\n",
       "      <td>42.300571</td>\n",
       "      <td>22.027677</td>\n",
       "      <td>9981.264932</td>\n",
       "      <td>1.382997</td>\n",
       "      <td>1.112799</td>\n",
       "      <td>30.202904</td>\n",
       "      <td>20.645407</td>\n",
       "      <td>180.731373</td>\n",
       "      <td>456.098091</td>\n",
       "      <td>161.319273</td>\n",
       "      <td>...</td>\n",
       "      <td>125.338794</td>\n",
       "      <td>66.256028</td>\n",
       "      <td>61.119149</td>\n",
       "      <td>29.317331</td>\n",
       "      <td>55.757415</td>\n",
       "      <td>40.177307</td>\n",
       "      <td>496.123024</td>\n",
       "      <td>2.703626</td>\n",
       "      <td>1.328095</td>\n",
       "      <td>79442.502883</td>\n",
       "    </tr>\n",
       "    <tr>\n",
       "      <th>min</th>\n",
       "      <td>20.000000</td>\n",
       "      <td>21.000000</td>\n",
       "      <td>1300.000000</td>\n",
       "      <td>1.000000</td>\n",
       "      <td>1.000000</td>\n",
       "      <td>1872.000000</td>\n",
       "      <td>1950.000000</td>\n",
       "      <td>0.000000</td>\n",
       "      <td>0.000000</td>\n",
       "      <td>0.000000</td>\n",
       "      <td>...</td>\n",
       "      <td>0.000000</td>\n",
       "      <td>0.000000</td>\n",
       "      <td>0.000000</td>\n",
       "      <td>0.000000</td>\n",
       "      <td>0.000000</td>\n",
       "      <td>0.000000</td>\n",
       "      <td>0.000000</td>\n",
       "      <td>1.000000</td>\n",
       "      <td>2006.000000</td>\n",
       "      <td>34900.000000</td>\n",
       "    </tr>\n",
       "    <tr>\n",
       "      <th>25%</th>\n",
       "      <td>20.000000</td>\n",
       "      <td>60.000000</td>\n",
       "      <td>7553.500000</td>\n",
       "      <td>5.000000</td>\n",
       "      <td>5.000000</td>\n",
       "      <td>1954.000000</td>\n",
       "      <td>1967.000000</td>\n",
       "      <td>0.000000</td>\n",
       "      <td>0.000000</td>\n",
       "      <td>0.000000</td>\n",
       "      <td>...</td>\n",
       "      <td>0.000000</td>\n",
       "      <td>0.000000</td>\n",
       "      <td>0.000000</td>\n",
       "      <td>0.000000</td>\n",
       "      <td>0.000000</td>\n",
       "      <td>0.000000</td>\n",
       "      <td>0.000000</td>\n",
       "      <td>5.000000</td>\n",
       "      <td>2007.000000</td>\n",
       "      <td>129975.000000</td>\n",
       "    </tr>\n",
       "    <tr>\n",
       "      <th>50%</th>\n",
       "      <td>50.000000</td>\n",
       "      <td>69.000000</td>\n",
       "      <td>9478.500000</td>\n",
       "      <td>6.000000</td>\n",
       "      <td>5.000000</td>\n",
       "      <td>1973.000000</td>\n",
       "      <td>1994.000000</td>\n",
       "      <td>0.000000</td>\n",
       "      <td>383.500000</td>\n",
       "      <td>0.000000</td>\n",
       "      <td>...</td>\n",
       "      <td>0.000000</td>\n",
       "      <td>25.000000</td>\n",
       "      <td>0.000000</td>\n",
       "      <td>0.000000</td>\n",
       "      <td>0.000000</td>\n",
       "      <td>0.000000</td>\n",
       "      <td>0.000000</td>\n",
       "      <td>6.000000</td>\n",
       "      <td>2008.000000</td>\n",
       "      <td>163000.000000</td>\n",
       "    </tr>\n",
       "    <tr>\n",
       "      <th>75%</th>\n",
       "      <td>70.000000</td>\n",
       "      <td>79.000000</td>\n",
       "      <td>11601.500000</td>\n",
       "      <td>7.000000</td>\n",
       "      <td>6.000000</td>\n",
       "      <td>2000.000000</td>\n",
       "      <td>2004.000000</td>\n",
       "      <td>164.250000</td>\n",
       "      <td>712.250000</td>\n",
       "      <td>0.000000</td>\n",
       "      <td>...</td>\n",
       "      <td>168.000000</td>\n",
       "      <td>68.000000</td>\n",
       "      <td>0.000000</td>\n",
       "      <td>0.000000</td>\n",
       "      <td>0.000000</td>\n",
       "      <td>0.000000</td>\n",
       "      <td>0.000000</td>\n",
       "      <td>8.000000</td>\n",
       "      <td>2009.000000</td>\n",
       "      <td>214000.000000</td>\n",
       "    </tr>\n",
       "    <tr>\n",
       "      <th>max</th>\n",
       "      <td>190.000000</td>\n",
       "      <td>313.000000</td>\n",
       "      <td>215245.000000</td>\n",
       "      <td>10.000000</td>\n",
       "      <td>9.000000</td>\n",
       "      <td>2010.000000</td>\n",
       "      <td>2010.000000</td>\n",
       "      <td>1600.000000</td>\n",
       "      <td>5644.000000</td>\n",
       "      <td>1474.000000</td>\n",
       "      <td>...</td>\n",
       "      <td>857.000000</td>\n",
       "      <td>547.000000</td>\n",
       "      <td>552.000000</td>\n",
       "      <td>508.000000</td>\n",
       "      <td>480.000000</td>\n",
       "      <td>738.000000</td>\n",
       "      <td>15500.000000</td>\n",
       "      <td>12.000000</td>\n",
       "      <td>2010.000000</td>\n",
       "      <td>755000.000000</td>\n",
       "    </tr>\n",
       "  </tbody>\n",
       "</table>\n",
       "<p>8 rows × 37 columns</p>\n",
       "</div>"
      ],
      "text/plain": [
       "        MSSubClass  LotFrontage        LotArea  OverallQual  OverallCond  \\\n",
       "count  1460.000000  1460.000000    1460.000000  1460.000000  1460.000000   \n",
       "mean     56.897260    69.863699   10516.828082     6.099315     5.575342   \n",
       "std      42.300571    22.027677    9981.264932     1.382997     1.112799   \n",
       "min      20.000000    21.000000    1300.000000     1.000000     1.000000   \n",
       "25%      20.000000    60.000000    7553.500000     5.000000     5.000000   \n",
       "50%      50.000000    69.000000    9478.500000     6.000000     5.000000   \n",
       "75%      70.000000    79.000000   11601.500000     7.000000     6.000000   \n",
       "max     190.000000   313.000000  215245.000000    10.000000     9.000000   \n",
       "\n",
       "         YearBuilt  YearRemodAdd   MasVnrArea   BsmtFinSF1   BsmtFinSF2  ...  \\\n",
       "count  1460.000000   1460.000000  1460.000000  1460.000000  1460.000000  ...   \n",
       "mean   1971.267808   1984.865753   103.117123   443.639726    46.549315  ...   \n",
       "std      30.202904     20.645407   180.731373   456.098091   161.319273  ...   \n",
       "min    1872.000000   1950.000000     0.000000     0.000000     0.000000  ...   \n",
       "25%    1954.000000   1967.000000     0.000000     0.000000     0.000000  ...   \n",
       "50%    1973.000000   1994.000000     0.000000   383.500000     0.000000  ...   \n",
       "75%    2000.000000   2004.000000   164.250000   712.250000     0.000000  ...   \n",
       "max    2010.000000   2010.000000  1600.000000  5644.000000  1474.000000  ...   \n",
       "\n",
       "        WoodDeckSF  OpenPorchSF  EnclosedPorch    3SsnPorch  ScreenPorch  \\\n",
       "count  1460.000000  1460.000000    1460.000000  1460.000000  1460.000000   \n",
       "mean     94.244521    46.660274      21.954110     3.409589    15.060959   \n",
       "std     125.338794    66.256028      61.119149    29.317331    55.757415   \n",
       "min       0.000000     0.000000       0.000000     0.000000     0.000000   \n",
       "25%       0.000000     0.000000       0.000000     0.000000     0.000000   \n",
       "50%       0.000000    25.000000       0.000000     0.000000     0.000000   \n",
       "75%     168.000000    68.000000       0.000000     0.000000     0.000000   \n",
       "max     857.000000   547.000000     552.000000   508.000000   480.000000   \n",
       "\n",
       "          PoolArea       MiscVal       MoSold       YrSold      SalePrice  \n",
       "count  1460.000000   1460.000000  1460.000000  1460.000000    1460.000000  \n",
       "mean      2.758904     43.489041     6.321918  2007.815753  180921.195890  \n",
       "std      40.177307    496.123024     2.703626     1.328095   79442.502883  \n",
       "min       0.000000      0.000000     1.000000  2006.000000   34900.000000  \n",
       "25%       0.000000      0.000000     5.000000  2007.000000  129975.000000  \n",
       "50%       0.000000      0.000000     6.000000  2008.000000  163000.000000  \n",
       "75%       0.000000      0.000000     8.000000  2009.000000  214000.000000  \n",
       "max     738.000000  15500.000000    12.000000  2010.000000  755000.000000  \n",
       "\n",
       "[8 rows x 37 columns]"
      ]
     },
     "execution_count": 33,
     "metadata": {},
     "output_type": "execute_result"
    }
   ],
   "source": [
    "df_train.describe()"
   ]
  },
  {
   "cell_type": "code",
   "execution_count": 34,
   "metadata": {},
   "outputs": [],
   "source": [
    "#df_train['SalePrice'] = np.log1p(df_train['SalePrice'])"
   ]
  },
  {
   "cell_type": "code",
   "execution_count": 35,
   "metadata": {},
   "outputs": [
    {
     "data": {
      "application/vnd.plotly.v1+json": {
       "config": {
        "plotlyServerURL": "https://plot.ly"
       },
       "data": [
        {
         "histnorm": "probability density",
         "marker": {
          "color": "purple"
         },
         "name": "Histogram",
         "nbinsx": 50,
         "opacity": 0.75,
         "type": "histogram",
         "x": {
          "bdata": "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",
          "dtype": "i4"
         }
        },
        {
         "line": {
          "color": "green"
         },
         "mode": "lines",
         "name": "Normal dist. (μ=180921.20, σ=79415.29)",
         "type": "scatter",
         "x": {
          "bdata": "AAAAAIAK4UDezpCYt5fkQL2dITHvJOhAm2yyySay60B6O0NiXj/vQCwFav1KZvFAm2yyyeYs80AK1PqVgvP0QHo7Q2IeuvZA6KKLLrqA+EBYCtT6VUf6QMdxHMfxDfxANtlkk43U/UClQK1fKZv/QArU+pXisABBwgcffDCUAUF6O0NifncCQTFvZ0jMWgNB6KKLLho+BEGg1q8UaCEFQVgK1Pq1BAZBDz744APoBkHHcRzHUcsHQX+lQK2frghBNtlkk+2RCUHuDIl5O3UKQaVArV+JWAtBXXTRRdc7DEEVqPUrJR8NQczbGRJzAg5BhA8++MDlDkE7Q2LeDskPQXo7Q2IuVhBBVlVVVdXHEEExb2dIfDkRQQ2JeTsjqxFB6KKLLsocEkHEvJ0hcY4SQaDWrxQYABNBfPDBB79xE0FYCtT6ZeMTQTQk5u0MVRRBDz744LPGFEHrVwrUWjgVQcdxHMcBqhVBo4suuqgbFkF/pUCtT40WQVq/UqD2/hZBNtlkk51wF0ES83aGROIXQe4MiXnrUxhByiabbJLFGEGlQK1fOTcZQYFav1LgqBlBXXTRRYcaGkE5juM4LowaQRWo9SvV/RpB8MEHH3xvG0HM2xkSI+EbQaj1KwXKUhxBhA8++HDEHEFgKVDrFzYdQTtDYt6+px1BF1100WUZHkHzdobEDIseQc+QmLez/B5Bq6qqqlpuH0GGxLydAeAfQTFvZ0jUKCBBH3zwwadhIEENiXk7e5ogQfuVArVO0yBB6KKLLiIMIUHXrxSo9UQhQcS8nSHJfSFBsskmm5y2IUGg1q8UcO8hQY7jOI5DKCJBfPDBBxdhIkFq/UqB6pkiQVgK1Pq90iJBRhdddJELI0E0JObtZEQjQSIxb2c4fSNBDz744Au2I0H9SoFa3+4jQetXCtSyJyRB2WSTTYZgJEHHcRzHWZkkQbV+pUAt0iRBo4suugALJUGRmLcz1EMlQX+lQK2nfCVBbbLJJnu1JUFav1KgTu4lQUjM2xkiJyZBNtlkk/VfJkEk5u0MyZgmQRLzdoac0SZBAAAAAHAKJ0E=",
          "dtype": "f8"
         },
         "y": {
          "bdata": "iOJ1hPsWrz4QuSkOs1GyPrCKjNB8aLU+Zm7B8x3PuD5/GbLZkYK8PkU3bdilPsA+RAvNboRbwj5XT8XeXZLEPouKW6RJ3MY+OKD5chExyT5nvtIaVofLPkMxRFrF1M0+rsG8wC8H0D69+lxeZRTRPlurk2pYDNI+X23jqpHp0j6oFtGrAKfTPoiAVeosQNQ+wu7jqGKx1D6kC0r92PfUPraij/XOEdU+0nIPKp7+1D7zOzyqwb7UPgkpE93QU9Q+Y8t2oW7A0z6xoTmoLQjTPtlGppxrL9I+gPOrLSU70T4QEf1gxTDQPln9dIrlK84+qXOJLrrgyz6atW+GG4vJPjuW9rF6Ncc+SGCwPV/pxD7us07YLq/CPiAJENsFjsA+FSqZtkEXvT4sedcKrVi5PhXgr2NA5rU+gSyqCl7Dsj76F6ATLOKvPl1glEvl3Ko+SqBTLJtxpj5URkKAUZiiPreff1QXjp4+yxndDeTkmD79Heg2zxyUPlX88icYHZA+iSi4Wp+aiT7tZBIHBiyEPhiIwc/rhH8+QxqEkElreD61CYVFpMJyPmSgFErAlWw+fMiLGG6YZT5IANAzvS1gPjTAWTDmCVg+NOBlwJ21UT7rWAeaFeBJPmICzMDPvkI+FYzRkOfuOj6ubTKF5i8zPuGYX0j4Gys+rj0XNL/9Ij7PWTQg0mIaPvYbe4xPLRI+Fq+S2qfVCD4cqlvp1tIAPi2CrcdhmvY9eeDvfkAd7j2RPGBBp+TjPZhHAkUaENo96nT36jDu0D0Y6nWV7s/FPd3oNF/u3bs9ifL7mAWnsT1DZyEMXS2mPdJG/nMIoZs9A+vRHBgRkT2IdB2nluiEPUPfNJSwZnk9dAQCp+qZbj3ABvVPakdiPSo6F5OWp1U9zyBzaX1wST3KbGxu0qI9PYnOX/lFHjE9/t/ZN0GcIz3hgpAvEkcWPYT4cdqiGAk94C81yQgJ/DxQ5LzMkQ7vPB+QICHzDuE8pbSC3CCV0jyo/Qiv4BLEPMp+fxvjgLU80SLQ6LPXpjwZ7Xxj+Q+YPE0cDbC2Iok8O4I79o0Jejw=",
          "dtype": "f8"
         }
        }
       ],
       "layout": {
        "font": {
         "color": "white"
        },
        "legend": {
         "title": {
          "text": "Fitted Normal Distribution"
         }
        },
        "paper_bgcolor": "rgba(32, 32, 32, 1)",
        "plot_bgcolor": "rgba(32, 32, 32, 1)",
        "template": {
         "data": {
          "bar": [
           {
            "error_x": {
             "color": "#2a3f5f"
            },
            "error_y": {
             "color": "#2a3f5f"
            },
            "marker": {
             "line": {
              "color": "#E5ECF6",
              "width": 0.5
             },
             "pattern": {
              "fillmode": "overlay",
              "size": 10,
              "solidity": 0.2
             }
            },
            "type": "bar"
           }
          ],
          "barpolar": [
           {
            "marker": {
             "line": {
              "color": "#E5ECF6",
              "width": 0.5
             },
             "pattern": {
              "fillmode": "overlay",
              "size": 10,
              "solidity": 0.2
             }
            },
            "type": "barpolar"
           }
          ],
          "carpet": [
           {
            "aaxis": {
             "endlinecolor": "#2a3f5f",
             "gridcolor": "white",
             "linecolor": "white",
             "minorgridcolor": "white",
             "startlinecolor": "#2a3f5f"
            },
            "baxis": {
             "endlinecolor": "#2a3f5f",
             "gridcolor": "white",
             "linecolor": "white",
             "minorgridcolor": "white",
             "startlinecolor": "#2a3f5f"
            },
            "type": "carpet"
           }
          ],
          "choropleth": [
           {
            "colorbar": {
             "outlinewidth": 0,
             "ticks": ""
            },
            "type": "choropleth"
           }
          ],
          "contour": [
           {
            "colorbar": {
             "outlinewidth": 0,
             "ticks": ""
            },
            "colorscale": [
             [
              0,
              "#0d0887"
             ],
             [
              0.1111111111111111,
              "#46039f"
             ],
             [
              0.2222222222222222,
              "#7201a8"
             ],
             [
              0.3333333333333333,
              "#9c179e"
             ],
             [
              0.4444444444444444,
              "#bd3786"
             ],
             [
              0.5555555555555556,
              "#d8576b"
             ],
             [
              0.6666666666666666,
              "#ed7953"
             ],
             [
              0.7777777777777778,
              "#fb9f3a"
             ],
             [
              0.8888888888888888,
              "#fdca26"
             ],
             [
              1,
              "#f0f921"
             ]
            ],
            "type": "contour"
           }
          ],
          "contourcarpet": [
           {
            "colorbar": {
             "outlinewidth": 0,
             "ticks": ""
            },
            "type": "contourcarpet"
           }
          ],
          "heatmap": [
           {
            "colorbar": {
             "outlinewidth": 0,
             "ticks": ""
            },
            "colorscale": [
             [
              0,
              "#0d0887"
             ],
             [
              0.1111111111111111,
              "#46039f"
             ],
             [
              0.2222222222222222,
              "#7201a8"
             ],
             [
              0.3333333333333333,
              "#9c179e"
             ],
             [
              0.4444444444444444,
              "#bd3786"
             ],
             [
              0.5555555555555556,
              "#d8576b"
             ],
             [
              0.6666666666666666,
              "#ed7953"
             ],
             [
              0.7777777777777778,
              "#fb9f3a"
             ],
             [
              0.8888888888888888,
              "#fdca26"
             ],
             [
              1,
              "#f0f921"
             ]
            ],
            "type": "heatmap"
           }
          ],
          "histogram": [
           {
            "marker": {
             "pattern": {
              "fillmode": "overlay",
              "size": 10,
              "solidity": 0.2
             }
            },
            "type": "histogram"
           }
          ],
          "histogram2d": [
           {
            "colorbar": {
             "outlinewidth": 0,
             "ticks": ""
            },
            "colorscale": [
             [
              0,
              "#0d0887"
             ],
             [
              0.1111111111111111,
              "#46039f"
             ],
             [
              0.2222222222222222,
              "#7201a8"
             ],
             [
              0.3333333333333333,
              "#9c179e"
             ],
             [
              0.4444444444444444,
              "#bd3786"
             ],
             [
              0.5555555555555556,
              "#d8576b"
             ],
             [
              0.6666666666666666,
              "#ed7953"
             ],
             [
              0.7777777777777778,
              "#fb9f3a"
             ],
             [
              0.8888888888888888,
              "#fdca26"
             ],
             [
              1,
              "#f0f921"
             ]
            ],
            "type": "histogram2d"
           }
          ],
          "histogram2dcontour": [
           {
            "colorbar": {
             "outlinewidth": 0,
             "ticks": ""
            },
            "colorscale": [
             [
              0,
              "#0d0887"
             ],
             [
              0.1111111111111111,
              "#46039f"
             ],
             [
              0.2222222222222222,
              "#7201a8"
             ],
             [
              0.3333333333333333,
              "#9c179e"
             ],
             [
              0.4444444444444444,
              "#bd3786"
             ],
             [
              0.5555555555555556,
              "#d8576b"
             ],
             [
              0.6666666666666666,
              "#ed7953"
             ],
             [
              0.7777777777777778,
              "#fb9f3a"
             ],
             [
              0.8888888888888888,
              "#fdca26"
             ],
             [
              1,
              "#f0f921"
             ]
            ],
            "type": "histogram2dcontour"
           }
          ],
          "mesh3d": [
           {
            "colorbar": {
             "outlinewidth": 0,
             "ticks": ""
            },
            "type": "mesh3d"
           }
          ],
          "parcoords": [
           {
            "line": {
             "colorbar": {
              "outlinewidth": 0,
              "ticks": ""
             }
            },
            "type": "parcoords"
           }
          ],
          "pie": [
           {
            "automargin": true,
            "type": "pie"
           }
          ],
          "scatter": [
           {
            "fillpattern": {
             "fillmode": "overlay",
             "size": 10,
             "solidity": 0.2
            },
            "type": "scatter"
           }
          ],
          "scatter3d": [
           {
            "line": {
             "colorbar": {
              "outlinewidth": 0,
              "ticks": ""
             }
            },
            "marker": {
             "colorbar": {
              "outlinewidth": 0,
              "ticks": ""
             }
            },
            "type": "scatter3d"
           }
          ],
          "scattercarpet": [
           {
            "marker": {
             "colorbar": {
              "outlinewidth": 0,
              "ticks": ""
             }
            },
            "type": "scattercarpet"
           }
          ],
          "scattergeo": [
           {
            "marker": {
             "colorbar": {
              "outlinewidth": 0,
              "ticks": ""
             }
            },
            "type": "scattergeo"
           }
          ],
          "scattergl": [
           {
            "marker": {
             "colorbar": {
              "outlinewidth": 0,
              "ticks": ""
             }
            },
            "type": "scattergl"
           }
          ],
          "scattermap": [
           {
            "marker": {
             "colorbar": {
              "outlinewidth": 0,
              "ticks": ""
             }
            },
            "type": "scattermap"
           }
          ],
          "scattermapbox": [
           {
            "marker": {
             "colorbar": {
              "outlinewidth": 0,
              "ticks": ""
             }
            },
            "type": "scattermapbox"
           }
          ],
          "scatterpolar": [
           {
            "marker": {
             "colorbar": {
              "outlinewidth": 0,
              "ticks": ""
             }
            },
            "type": "scatterpolar"
           }
          ],
          "scatterpolargl": [
           {
            "marker": {
             "colorbar": {
              "outlinewidth": 0,
              "ticks": ""
             }
            },
            "type": "scatterpolargl"
           }
          ],
          "scatterternary": [
           {
            "marker": {
             "colorbar": {
              "outlinewidth": 0,
              "ticks": ""
             }
            },
            "type": "scatterternary"
           }
          ],
          "surface": [
           {
            "colorbar": {
             "outlinewidth": 0,
             "ticks": ""
            },
            "colorscale": [
             [
              0,
              "#0d0887"
             ],
             [
              0.1111111111111111,
              "#46039f"
             ],
             [
              0.2222222222222222,
              "#7201a8"
             ],
             [
              0.3333333333333333,
              "#9c179e"
             ],
             [
              0.4444444444444444,
              "#bd3786"
             ],
             [
              0.5555555555555556,
              "#d8576b"
             ],
             [
              0.6666666666666666,
              "#ed7953"
             ],
             [
              0.7777777777777778,
              "#fb9f3a"
             ],
             [
              0.8888888888888888,
              "#fdca26"
             ],
             [
              1,
              "#f0f921"
             ]
            ],
            "type": "surface"
           }
          ],
          "table": [
           {
            "cells": {
             "fill": {
              "color": "#EBF0F8"
             },
             "line": {
              "color": "white"
             }
            },
            "header": {
             "fill": {
              "color": "#C8D4E3"
             },
             "line": {
              "color": "white"
             }
            },
            "type": "table"
           }
          ]
         },
         "layout": {
          "annotationdefaults": {
           "arrowcolor": "#2a3f5f",
           "arrowhead": 0,
           "arrowwidth": 1
          },
          "autotypenumbers": "strict",
          "coloraxis": {
           "colorbar": {
            "outlinewidth": 0,
            "ticks": ""
           }
          },
          "colorscale": {
           "diverging": [
            [
             0,
             "#8e0152"
            ],
            [
             0.1,
             "#c51b7d"
            ],
            [
             0.2,
             "#de77ae"
            ],
            [
             0.3,
             "#f1b6da"
            ],
            [
             0.4,
             "#fde0ef"
            ],
            [
             0.5,
             "#f7f7f7"
            ],
            [
             0.6,
             "#e6f5d0"
            ],
            [
             0.7,
             "#b8e186"
            ],
            [
             0.8,
             "#7fbc41"
            ],
            [
             0.9,
             "#4d9221"
            ],
            [
             1,
             "#276419"
            ]
           ],
           "sequential": [
            [
             0,
             "#0d0887"
            ],
            [
             0.1111111111111111,
             "#46039f"
            ],
            [
             0.2222222222222222,
             "#7201a8"
            ],
            [
             0.3333333333333333,
             "#9c179e"
            ],
            [
             0.4444444444444444,
             "#bd3786"
            ],
            [
             0.5555555555555556,
             "#d8576b"
            ],
            [
             0.6666666666666666,
             "#ed7953"
            ],
            [
             0.7777777777777778,
             "#fb9f3a"
            ],
            [
             0.8888888888888888,
             "#fdca26"
            ],
            [
             1,
             "#f0f921"
            ]
           ],
           "sequentialminus": [
            [
             0,
             "#0d0887"
            ],
            [
             0.1111111111111111,
             "#46039f"
            ],
            [
             0.2222222222222222,
             "#7201a8"
            ],
            [
             0.3333333333333333,
             "#9c179e"
            ],
            [
             0.4444444444444444,
             "#bd3786"
            ],
            [
             0.5555555555555556,
             "#d8576b"
            ],
            [
             0.6666666666666666,
             "#ed7953"
            ],
            [
             0.7777777777777778,
             "#fb9f3a"
            ],
            [
             0.8888888888888888,
             "#fdca26"
            ],
            [
             1,
             "#f0f921"
            ]
           ]
          },
          "colorway": [
           "#636efa",
           "#EF553B",
           "#00cc96",
           "#ab63fa",
           "#FFA15A",
           "#19d3f3",
           "#FF6692",
           "#B6E880",
           "#FF97FF",
           "#FECB52"
          ],
          "font": {
           "color": "#2a3f5f"
          },
          "geo": {
           "bgcolor": "white",
           "lakecolor": "white",
           "landcolor": "#E5ECF6",
           "showlakes": true,
           "showland": true,
           "subunitcolor": "white"
          },
          "hoverlabel": {
           "align": "left"
          },
          "hovermode": "closest",
          "mapbox": {
           "style": "light"
          },
          "paper_bgcolor": "white",
          "plot_bgcolor": "#E5ECF6",
          "polar": {
           "angularaxis": {
            "gridcolor": "white",
            "linecolor": "white",
            "ticks": ""
           },
           "bgcolor": "#E5ECF6",
           "radialaxis": {
            "gridcolor": "white",
            "linecolor": "white",
            "ticks": ""
           }
          },
          "scene": {
           "xaxis": {
            "backgroundcolor": "#E5ECF6",
            "gridcolor": "white",
            "gridwidth": 2,
            "linecolor": "white",
            "showbackground": true,
            "ticks": "",
            "zerolinecolor": "white"
           },
           "yaxis": {
            "backgroundcolor": "#E5ECF6",
            "gridcolor": "white",
            "gridwidth": 2,
            "linecolor": "white",
            "showbackground": true,
            "ticks": "",
            "zerolinecolor": "white"
           },
           "zaxis": {
            "backgroundcolor": "#E5ECF6",
            "gridcolor": "white",
            "gridwidth": 2,
            "linecolor": "white",
            "showbackground": true,
            "ticks": "",
            "zerolinecolor": "white"
           }
          },
          "shapedefaults": {
           "line": {
            "color": "#2a3f5f"
           }
          },
          "ternary": {
           "aaxis": {
            "gridcolor": "white",
            "linecolor": "white",
            "ticks": ""
           },
           "baxis": {
            "gridcolor": "white",
            "linecolor": "white",
            "ticks": ""
           },
           "bgcolor": "#E5ECF6",
           "caxis": {
            "gridcolor": "white",
            "linecolor": "white",
            "ticks": ""
           }
          },
          "title": {
           "x": 0.05
          },
          "xaxis": {
           "automargin": true,
           "gridcolor": "white",
           "linecolor": "white",
           "ticks": "",
           "title": {
            "standoff": 15
           },
           "zerolinecolor": "white",
           "zerolinewidth": 2
          },
          "yaxis": {
           "automargin": true,
           "gridcolor": "white",
           "linecolor": "white",
           "ticks": "",
           "title": {
            "standoff": 15
           },
           "zerolinecolor": "white",
           "zerolinewidth": 2
          }
         }
        },
        "title": {
         "text": "SalePrice Distribution"
        },
        "xaxis": {
         "title": {
          "text": "SalePrice"
         }
        },
        "yaxis": {
         "title": {
          "text": "Density"
         }
        }
       }
      }
     },
     "metadata": {},
     "output_type": "display_data"
    },
    {
     "data": {
      "application/vnd.plotly.v1+json": {
       "config": {
        "plotlyServerURL": "https://plot.ly"
       },
       "data": [
        {
         "hovertemplate": "Theoretical Quantiles=%{x}<br>Ordered Values=%{y}<extra></extra>",
         "legendgroup": "",
         "marker": {
          "color": "purple",
          "symbol": "circle"
         },
         "mode": "markers",
         "name": "",
         "showlegend": false,
         "type": "scattergl",
         "x": {
          "bdata": "ZVmq/OxwCsAew+1RKmIIwDw7tqo6PQfABkG5mB5vBsCIwi3voM4FwHJJRzV9SgXADGKEl8PZBMBmt+xDNXcEwMq3bJV4HwTAoHJ9WEfQA8CiI/KmA4gDwGaijmR8RQPAtWYW+8kHA8DWyqZZOM4CwAtvMaM4mALAZ4bVh1dlAsB4H1KRNjUCwLiI/VyHBwLACGfIIQjcAcAUWF4bgbIBwEQp6pbCigHAsYomdKNkAcBmDpf7/z8BwK5vGfS4HAHA30NC6LL6AMDCcUGQ1dkAwL0SB1gLugDAWFB++0CbAMDtTzg0ZX0AwAYJ/HRoYADAzkqAsDxEAMDpjzAp1SgAwLZKUkgmDgDAv8Jy9kro/79V5f0qkrX/v5TkxG4QhP+/4gpNb7VT/79HH7cgciT/vwRLR5w49v6/BFQgA/zI/r97tJNksJz+v8C9gqdKcf6/C5hidsBG/r/8moYtCB3+vzD6YssY9P2/DLWF4unL/b8zoA2Nc6T9v9qbb2Guff2/5+xgaJNX/b/BdMMTHDL9v9pgdTZCDf2/Vwfq/P/o/L85InXmT8X8v56SNL8sovy/g12HmpF//L9MvwLOeV38v14Q2OzgO/y/u8+fw8Ia/L9GjH9UG/r7v0yYodPm2fu/Vn72oyG6+7/BFjlUyJr7v2foLpzXe/u/QTAfWkxd+79vh3uQIz/7v6intWNaIfu/sUY+GO4D+79aa6kQ3Ob6v2789Mshyvq/L53u47yt+r+bNLYLq5H6vzW+Wg7qdfq/fj2PzXda+r844XVAUj/6vyCSf3J3JPq/UFJeguUJ+r+29wihmu/5v6jtzhCV1fm/dMd6JNO7+b8BiYI+U6L5vwSjRNATifm//LVQWRNw+b+XQ7tmUFf5v46He5LJPvm/s8HSgn0m+b+rSbzpag75vxHSZYSQ9vi/M02vGu3e+L9c8LF+f8f4v2zdTYxGsPi/vgK+KEGZ+L/iyjFCboL4v4w8bM/Ma/i/pDJoz1tV+L+4WgFJGj/4v/+toUoHKfi/bx7z6SET+L/ONpVDaf33v5xw1nrc5/e/ogdxuXrS979LFksvQ733v8nJORI1qPe/VYDHnU+T97/IpvwSkn73v9MtK7j7afe/bnG82ItV97/pbwHFQUH3v8ovBdIcLfe/RTZhWRwZ97928RO5PwX3v9v7WFOG8fa/qB+Dju/d9r/CAtjUesr2v9dkbZQnt/a/LdsHP/Wj9r9L9vpJ45D2v1G/Ci7xffa/ontOZx5r9r+BphR1alj2v24RyNnURfa/uxzWGl0z9r+W+pXAAiH2v+3vMFbFDva/yIaLaaT89b/Jpi+Ln+r1v86IN0622PW/s3s5SOjG9b9CcDQRNbX1v2RDfUOco/W/pb2sex2S9b8LQI5YuID1v04WD3tsb/W/NWcuhjle9b/nu+0eH031v78XQuwcPPW/PJoFlzIr9b8GpenJXxr1v3mAaTGkCfW/Snm9e//49L8Hcs5Ycej0v6rjKXr51/S/oUj2kpfH9L/l7edXS7f0v74lNn8Up/S/etiQwPKW9L8HbxbV5Yb0vwAUSnftdvS/p0cKYwln9L9ew4dVOVf0v8ipPA19R/S/MQDkSdQ39L+kbnHMPij0v/ZDCVe8GPS/47r4rEwJ9L8efq6S7/nzv55os82k6vO/FoCjJGzb879UJydfRczzv3SG7EUwvfO/+Cahoiyu87+8wes/Op/zvwg9ZulYkPO/HtmXa4iB879Iie+TyHLzvyZ4vjAZZPO/YLUyEXpV87+cC1IF60bzv+v89N1rOPO/peTBbPwp8787PSiEnBvzv8oIXPdLDfO/SFtRmgr/8r8OBbhB2PDyv8Jc98K04vK/bicq9J/U8r/mnRqsmcbyv2SOPsKhuPK/cJmzDriq8r9eiTtq3JzyvwbDOK4Oj/K/hc+qtE6B8r+0/SpYnHPyv9oa6XP3ZfK/p0Go419Y8r8Ev7uD1Uryv7YLBDFYPfK/dNrryOcv8r+KOWUphCLyv7fH5jAtFfK/WvtovuIH8r+ie2OxpPrxvwiLyuly7fG/noIMSE3g8b+3XQ+tM9Pxv0lVLvolxvG/soo3ESS58b9bwWnULazxv8EmciZDn/G/lShq6mOS8b9DWNUDkIXxv+Jbn1bHePG/wesZxwls8b+B3Po5V1/xvyw1WpSvUvG/C1GwuxJG8b/nDNSVgDnxv0b/+Aj5LPG/b7ut+3sg8b/rHtpUCRTxvxGpvfugB/G/i9zt10L78L9RqlTR7u7wvxjmLtCk4vC/vMMKvWTW8L92XcaALsrwv7FCjgQCvvC/PQ/cMd+x8L+BCnXyxaXwv7LOaDC2mfC/p/cP1q+N8L8i2QrOsoHwv3o8QAO/dfC/NiXcYNRp8L+rnE7S8l3wv02ESkMaUvC/dW7En0pG8L+hffHTgzrwv9lJRszFLvC/I8x1dRAj8L/fT3C8Yxfwv9hpYo6/C/C/8/Sz2CMA8L+gKA4SIenvv351bhoL0u+/sW6wpgW7779gjmqTEKTvv9dXoL0rje+/SY7AAld2778NdaNAkl/vv+AYiVXdSO+/JKIXIDgy77/Br1l/ohvvv5K6vFIcBe+/FYEPeqXu7r8he4DVPdjuv5VVnEXlwe6/qHVMq5ur7r/Lg9XnYJXuv8791dw0f+6/QdBEbBdp7r/E9m94CFPuv0Qj++MHPe6/vGvekRUn7r+e/mRlMRHuv4rdK0Jb++2/QZ4gDJPl7b+fMYCn2M/tv5qw1fgruu2/+S755Iyk7b/Hkw5R+47tvz53hCJ3ee2/NQYTPwBk7b/A6rqMlk7tvww6xPE5Oe2/TGe9VOoj7b+JO3qcpw7tv2DSErBx+ey/Y5vidkjk7L8oYIfYK8/sv+xO4Lwbuuy/ggkNDBil7L+4uGyuIJDsv+EjnYw1e+y/l8x5j1Zm7L+DDhugg1Hsvx5D1ae8POy/VOk3kAEo7L/60AxDUhPsv/hJV6qu/uu/HVdTsBbq67+C5HQ/itXrv2wBZ0IJweu/lh0LpJOs67/eSXhPKZjrvzF8+i/Kg+u/sdYRMXZv678F8nE+LVvrv7QqAUTvRuu/jfHXLbwy678IH0Dokx7rv3tJtF92Cuu/PB7fgGP26r+EvZo4W+LqvwAZ8HNdzuq/H1UWIGq66r/zLHIqgabqv6pYlYCikuq/i/Y9EM5+6r9h9lXHA2vqv1+H8pNDV+q/VohTZI1D6r9K+uIm4S/qv0J1NMo+HOq/X58EPaYI6r8dpjhuF/Xpv7q53UyS4em/yIooyBbO6b+yyXTPpLrpv2OoRFI8p+m/411AQN2T6b/eqzWJh4DpvyhmFx07bem/D/z86/dZ6b+MAyLmvUbpv0jG5fuMM+m/ZNDKHWUg6b/8gHY8Rg3pv1+csEgw+ui/A+BiMyPn6L8HmJjtHtTov2Y2fmgjwei/t+tglTCu6L+FQa5lRpvovx2288pkiOi/9Vnetot16L94bjobu2Lov00G8+nyT+i/DacRFTM96L9T7L2Oeyrovz8sPUnMF+i/Qx3yNiUF6L9AfVxKhvLnv/i5GHbv3+e/zprfrGDN57+x64Xh2brnv1sp/AZbqOe/sS5OEOSV579p46LwdIPnv8TrO5sNcee/f1l1A65e57/jXcUcVkznv+b8u9oFOue/dcECMb0n57+8clwTfBXnv5LKpHVCA+e/0yzQSxDx5r/cX+uJ5d7mv/FFGyTCzOa/qJecDqa65r9Pn8M9kajmvzn1+6WDlua/Bj3IO32E5r/V48HzfXLmv1bfmMKFYOa/xW0TnZRO5r/M1g14qjzmvywtekjHKua/VhFgA+sY5r/LdNydFQfmv1JeIQ1H9eW/+a51Rn/j5b/m5zQ/vtHlv+fwzuwDwOW/1N/HRFCu5b+iwLc8o5zlvzdeSsr8iuW/CAw/41x55b9ZcGh9w2flv0hPrI4wVuW/b1YDDaRE5b9T6XjuHTPlv2juKimeIeW/yJxJsyQQ5b+USheDsf7kv/M76I5E7eS/tXIizd3b5L+bfj00fcrkvylOwroiueS/LwBLV86n5L/TtYIAgJbkvzdlJa03heS/tKz/U/Vz5L+mpu7ruGLkv8S932uCUeS/C4LQylFA5L8nfs7/Ji/kv3IN9wECHuS/cTJ3yOIM5L/WbYtKyfvjvwmWf3+16uO/Ka+uXqfZ47+Rw4Lfnsjjv9q8dPmbt+O/VD0MpJ6m47/6ed/WppXjv9kUk4m0hOO/9vfZs8dz47+YMHVN4GLjvxPLM07+UeO/+K7yrSFB47+4e5xkSjDjv7RlKWp4H+O/thOftqsO47/WfBBC5P3iv8TGnQQi7eK/eyR09mTc4r9Wtc0Prcviv49k8Uj6uuK/Fskymkyq4r/UBfL7o5nivz+qm2YAieK/XpOo0mF44r8ZzZ04yGfiv+9zDJEzV+K/AJeR1KNG4r9yGtb7GDbivymajv+SJeK/6Ex72BEV4r+j52d/lQTiv0iBK+0d9OG/yHaoGqvj4b92T8wAPdPhv7ihj5jTwuG/Afj12m6y4b8htg3BDqLhv9v+70OzkeG/zpnAXFyB4b+h2a0ECnHhv3uC8DS8YOG/zbDL5nJQ4b9UwIwTLkDhv24zi7TtL+G/r5oow7Ef4b++fNA4eg/hv3E++A5H/+C/OQsfPxjv4L+3vc3C7d7gv7DIlpPHzuC/KiAWq6W+4L/WIvECiK7gv7OD1pRunuC/7TN+WlmO4L8BTalNSH7gvxT7IWg7buC/hme7ozJe4L/Mo1H6LU7gv3GUyWUtPuC/XtwQ4DAu4L9RyB1jOB7gv5c67+hDDuC/3S0Z16b8379XXQvKzdzfvxVa5Z78vN+/cgfoSTOd378xr2S/cX3fv0zbvPO3Xd+/RjBi2wU+37/XR9ZqWx7fv/CLqpa4/t6/LxKAUx3f3r+rdweWib/evyG9AFP9n96/fSM7f3iA3r+9CJUP+2Dev0HF+/iEQd6/U4lrMBYi3r8hO++qrgLevxRVoF1O492/ZcSmPfXD3b8XyDhAo6Tdv0zQmlpYhd2/2F0fghRm3b884ias10bdv+afH86hJ92/w4qF3XII3b8gKeLPSuncv9t0zJopyty/47zoMw+r3L8Ah+iQ+4vcv+dxiqfubNy/mheabehN3L8P8O/Y6C7cvyg0cd/vD9y/38APd/3w27/R+smVEdLbv/2xqjEss9u/0QXJQE2U2792SUi5dHXbv2HoV5GiVtu/KUszv9Y327+dvCE5ERnbvxRPdvVR+tq/EcKP6pjb2r8HaNgO5rzav3oMxlg5ntq/R9rZvpJ/2r88QqA38mDav9/hsLlXQtq/bmquO8Mj2r8riEa0NAXav8zJMRqs5tm/PYgzZCnI2b99zhmJrKnZv89BvX81i9m/DQoBP8Rs2b9FutK9WE7Zv3g5KvPyL9m/oqsJ1pIR2b/fWn1dOPPYv+Ogm4Dj1Ni/gdCENpS22L+QH2N2SpjYv9GQajcGeti/MN7YcMdb2L8eY/UZjj3YvywHESpaH9i/wiiGmCsB2L8aiLhcAuPXv1oyFW7exNe/5GwSxL+m17/XoC9WpojXv7BG9RuSate/JNL0DINM178ensggeS7Xv/XYE090ENe/uXCCj3Ty1r++/8jZedTWv0W5pCWEtta/UVbbapOY1r+uAjuhp3rWvwxKmsDAXNa/WgXYwN4+1r84SNuZASHWv5ROk0MpA9a/eWr3tVXl1b/t8QbphsfVvw4tydS8qdW/P0RNcfeL1b+JLqq2Nm7VvyKg/px6UNW//vhwHMMy1b+sMy8tEBXVvy7Ubsdh99S/F9ds47fZ1L+zoG15ErzUv1jsvIFxntS/3but9NSA1L8wR5rKPGPUvw7s4/uoRdS/zx3zgBko1L9nVTdSjgrUv3kBJ2gH7dO/i3Y/u4TP079f3wREBrLTv2EtAvuLlNO/OwnJ2BV307+Ew/HVo1nTv5JFG+s1PNO/XQLrEMwe07+H5wxAZgHTv4ZOM3EE5NK/3u0WnabG0r+Ayna8TKnSv0ApGMj2i9K/bIDGuKRu0r9zaVOHVlHSv7CSliwMNNK/WLFtocUW0r9kc7zegvnRv7FxbN1D3NG/NSJtlgi/0b9AyrMC0aHRv+NwOxudhNG/adEE2Wxn0b/qTRY1QErRv/XheygXLdG/WhVHrPEP0b/67o65z/LQv73nb0mx1dC/nd0LVZa40L++BorVfpvQv6zkFsRqftC/ojfkGVph0L/q8SjQTETQv1YrIeBCJ9C/yxQOQzwK0L/Z12vkcdrPv33dx81xoM+/Bp/QNHhmz78gUTAMhSzPv4vgmkaY8s6/L9rN1rG4zr9HU5Cv0X7Ov8vRssP3RM6/4DQPBiQLzr+lnYhpVtHNv9lXC+GOl82/58KMX81dzb/4OgvYESTNvzUCjj1c6sy/IColg6ywzL8dfembAnfMvxxo/HpePcy/U+SHE8ADzL9IYb5YJ8rLv7uu2j2UkMu/6+YftgZXy7/fWNm0fh3Lv9RyWi3848q/0Kz+En+qyr9RcylZB3HKvxgSRvOUN8q/Ip/H1Cf+yb+d5Sjxv8TJvzdR7Dtdi8m/Q9mbqP9Ryb8t7MgqpxjJvwBbDLZT38i/AUUGPgWmyL9rA162u2zIv0kVwhJ3M8i/ZAvoRjf6x79RdIxG/MDHv7HIcgXGh8e/UFdld5ROx7+cMTWQZxXHvxUYukM/3Ma/5mbShRujxr+EAmNK/GnGv3xEV4XhMMa/T+igKsv3xb9X+Dcuub7Fv/i6GoSrhcW/l59NIKJMxb/0K9v2nBPFv3Hp0/ub2sS/gFJOI5+hxL8ewGZhpmjEv29XP6qxL8S/Yvf/8cD2w793JtYs1L3Dv40A9U7rhMO/5SSVTAZMw7//o/QZJRPDv8LtVqtH2sK/o78E9W2hwr/dEkzrl2jCv8AKgILFL8K/FOP4rvb2wb+N3hNlK77Bv1E1M5ljhcG/ngO+P59Mwb9iOCBN3hPBvwKEyrUg28C/L0cybmaiwL+7gdFqr2nAv5XBJqD7MMC/hiNqBZbwv7/w0gcOO3+/v202PkPmDb+/+Yctjpecvr83df7XTiu+v9X94QkMur2/eFIRDc9Ivb+Os83Kl9e8v0xQYCxmZry/yiUaGzr1u7803lOAE4S7vxqwbUXyEru/3T3PU9ahur9SdeeUvzC6vyxvLPKtv7m/5E4bVaFOub+AIjinmd24v37CDdKWbLi/4rEtv5j7t79M/i9Yn4q3vzUgs4aqGbe/LNtbNLqotr9iHtVKzje2v+/kz7PmxrW/fhYDWQNWtb/rZyskJOW0vwM8C/9IdLS/RoRq03EDtL/RoRaLnpKzv0xG4g/PIbO/9VSlSwOxsr+wwzwoO0Cyv1h8io92z7G/xD11a7Vesb85feil9+2wv8ZH1Cg9fbC/rSMt3oUMsL/I49dfozevv1KfGxBBVq6/NPAnoeR0rb+wSwfnjZOsv9vpy7U8squ/roiP4fDQqr8FMHM+qu+pv0/1nqBoDqm/a79B3CstqL+gCpHF80unv6esyDDAaqa/0pgq8pCJpb9EpP7dZaikvyhKksg+x6O/Z3A4hhvmor+eK0nr+wSiv/+DIczfI6G/zDkj/cZCoL8IFGmlYsOevzvmf0I9AZ2/kfNneh0/m7+V2wX2An2Zv5JdRV7tupe/FeMYXNz4lb/4CHmYzzaUvwYqZLzGdJK/+ujdcMGykL9fdd29fuGNv87gRl+AXYq/LoQZGIfZhr+isX06klWDvwhkQzFCo3+/MbZxCWabeL9gRfWhjpNxv8LThj51F2W/SpKwLkUfTL9KkrAuRR9MP8LThj51F2U/YEX1oY6TcT8xtnEJZpt4PwhkQzFCo38/UbF9OpJVgz/dgxkYh9mGP37gRl+AXYo/D3XdvX7hjT8i6d1wwbKQPy4qZLzGdJI/IAl5mM82lD894xhc3PiVP7pdRV7tupc/ldsF9gJ9mT+R82d6HT+bPzvmf0I9AZ0/CBRppWLDnj/MOSP9xkKgP/+DIczfI6E/nitJ6/sEoj9ncDiGG+aiPyhKksg+x6M/MKT+3WWopD++mCrykImlP5OsyDDAaqY/jAqRxfNLpz9Xv0HcKy2oP2P1nqBoDqk/GTBzPqrvqT/CiI/h8NCqP+/py7U8sqs/xEsH542TrD808Ceh5HStP1KfGxBBVq4/yOPXX6M3rz+tIy3ehQywP8ZH1Cg9fbA/OX3opfftsD/EPXVrtV6xP1h8io92z7E/sMM8KDtAsj/rVKVLA7GyP0JG4g/PIbM/x6EWi56Ssz88hGrTcQO0P/k7C/9IdLQ/9WcrJCTltD+IFgNZA1a1P/nkz7PmxrU/bB7VSs43tj8221s0uqi2PzUgs4aqGbc/TP4vWJ+Ktz/isS2/mPu3P37CDdKWbLg/gCI4p5nduD/kThtVoU65PyxvLPKtv7k/UnXnlL8wuj/dPc9T1qG6PxCwbUXyErs/Kt5TgBOEuz/AJRobOvW7P0JQYCxmZrw/hLPNypfXvD+CUhENz0i9P9/94QkMur0/QXX+104rvj8DiC2Ol5y+P202PkPmDb8/8NIHDjt/vz+GI2oFlvC/P5XBJqD7MMA/u4HRaq9pwD8vRzJuZqLAPwKEyrUg28A/YjggTd4TwT+eA74/n0zBP1E1M5ljhcE/iN4TZSu+wT8P4/iu9vbBP7sKgILFL8I/2BJM65dowj+ovwT1baHCP8ftVqtH2sI/BKT0GSUTwz/qJJVMBkzDP5IA9U7rhMM/dybWLNS9wz9i9//xwPbDP29XP6qxL8Q/HsBmYaZoxD+AUk4jn6HEP3Hp0/ub2sQ/9Cvb9pwTxT+Xn00gokzFP/i6GoSrhcU/V/g3Lrm+xT9K6KAqy/fFP3dEV4XhMMY/fwJjSvxpxj/hZtKFG6PGPxoYukM/3MY/oTE1kGcVxz9VV2V3lE7HP7bIcgXGh8c/VnSMRvzAxz9kC+hGN/rHP0kVwhJ3M8g/awNetrtsyD8BRQY+BabIPwBbDLZT38g/LezIKqcYyT9D2Zuo/1HJPzdR7Dtdi8k/neUo8b/EyT8dn8fUJ/7JPxMSRvOUN8o/S3MpWQdxyj/LrP4Sf6rKP89yWi3848o/5FjZtH4dyz/y5h+2BlfLP8Cu2j2UkMs/TWG+WCfKyz9Y5IcTwAPMPxxo/HpePcw/HX3pmwJ3zD8gKiWDrLDMPzUCjj1c6sw/+DoL2BEkzT/nwoxfzV3NP9lXC+GOl80/pZ2IaVbRzT/gNA8GJAvOP8bRssP3RM4/QlOQr9F+zj8q2s3WsbjOP4bgmkaY8s4/GlEwDIUszz8Mn9A0eGbPP4Ldx81xoM8/3tdr5HHazz/OFA5DPArQP1YrIeBCJ9A/6vEo0ExE0D+iN+QZWmHQP6zkFsRqftA/vgaK1X6b0D+d3QtVlrjQP73nb0mx1dA/+u6Ouc/y0D9aFUes8Q/RP/XheygXLdE/500WNUBK0T9n0QTZbGfRP+BwOxudhNE/PsqzAtGh0T8zIm2WCL/RP7RxbN1D3NE/ZnO83oL50T9bsW2hxRbSP7OSliwMNNI/c2lTh1ZR0j9sgMa4pG7SP0ApGMj2i9I/gMp2vEyp0j/e7RadpsbSP4ZOM3EE5NI/h+cMQGYB0z9dAusQzB7TP5JFG+s1PNM/hMPx1aNZ0z85CcnYFXfTP18tAvuLlNM/Xd8ERAay0z+Jdj+7hM/TP3sBJ2gH7dM/aVU3Uo4K1D/RHfOAGSjUPxHs4/uoRdQ/M0eayjxj1D/du6301IDUP1jsvIFxntQ/s6BteRK81D8X12zjt9nUPy7Ubsdh99Q/rDMvLRAV1T/++HAcwzLVPyKg/px6UNU/iS6qtjZu1T89RE1x94vVPwwtydS8qdU/6/EG6YbH1T92ave1VeXVP5JOk0MpA9Y/OkjbmQEh1j9dBdjA3j7WPxBKmsDAXNY/sAI7oad61j9UVttqk5jWP0W5pCWEttY/vv/I2XnU1j+5cIKPdPLWP/XYE090ENc/Hp7IIHku1z8k0vQMg0zXP7BG9RuSatc/16AvVqaI1z/kbBLEv6bXP1gyFW7exNc/GIi4XALj1z/AKIaYKwHYPykHESpaH9g/G2P1GY492D8y3thwx1vYP9WQajcGetg/kx9jdkqY2D+F0IQ2lLbYP+Ogm4Dj1Ng/31p9XTjz2D+iqwnWkhHZP3g5KvPyL9k/RbrSvVhO2T8NCgE/xGzZP89BvX81i9k/fc4Ziayp2T89iDNkKcjZP8zJMRqs5tk/KIhGtDQF2j9raq47wyPaP9zhsLlXQto/OkKgN/Jg2j9F2tm+kn/aP3wMxlg5nto/CmjYDua82j8Uwo/qmNvaPxdPdvVR+to/nbwhOREZ2z8pSzO/1jfbP2HoV5GiVts/dklIuXR12z/RBclATZTbP/2xqjEss9s/0frJlRHS2z/fwA93/fDbPyg0cd/vD9w/D/Dv2Ogu3D+YF5pt6E3cP+RxiqfubNw//YbokPuL3D/hvOgzD6vcP910zJopytw/Iiniz0rp3D/GioXdcgjdP+mfH86hJ90/PuImrNdG3T/YXR+CFGbdP0zQmlpYhd0/F8g4QKOk3T9lxKY99cPdPxRVoF1O490/ITvvqq4C3j9TiWswFiLeP0HF+/iEQd4/vQiVD/tg3j96Izt/eIDePx69AFP9n94/qHcHlom/3j8sEoBTHd/eP+2Lqpa4/t4/2kfWalse3z9KMGLbBT7fP07bvPO3Xd8/Na9kv3F93z92B+hJM53fPxVa5Z78vN8/V10Lys3c3z/dLRnXpvzfP5c67+hDDuA/UcgdYzge4D9e3BDgMC7gP3GUyWUtPuA/zKNR+i1O4D+GZ7ujMl7gPxP7IWg7buA/AE2pTUh+4D/sM35aWY7gP7GD1pRunuA/1SLxAoiu4D8rIBarpb7gP7HIlpPHzuA/ub3Nwu3e4D83Cx8/GO/gP3A++A5H/+A/u3zQOHoP4T+smijDsR/hP2szi7TtL+E/UsCMEy5A4T/LsMvmclDhP3iC8DS8YOE/ntmtBApx4T/LmcBcXIHhP9v+70OzkeE/ILYNwQ6i4T8A+PXabrLhP7ehj5jTwuE/dU/MAD3T4T/Gdqgaq+PhP0aBK+0d9OE/oudnf5UE4j/nTHvYERXiPyiajv+SJeI/bhrW+xg24j/9lpHUo0biP+xzDJEzV+I/Fs2dOMhn4j9bk6jSYXjiPzyqm2YAieI/0QXy+6OZ4j8UyTKaTKriP4xk8Uj6uuI/VrXND63L4j95JHT2ZNziP8PGnQQi7eI/1HwQQuT94j+1E5+2qw7jP7JlKWp4H+M/t3ucZEow4z/3rvKtIUHjPxLLM07+UeM/ljB1TeBi4z/z99mzx3PjP9YUk4m0hOM/9nnf1qaV4z9RPQyknqbjP9e8dPmbt+M/jsOC357I4z8mr65ep9njPwaWf3+16uM/0m2LSsn74z9wMnfI4gzkP3AN9wECHuQ/JX7O/yYv5D8KgtDKUUDkP8K932uCUeQ/pKbu67hi5D+zrP9T9XPkPzZlJa03heQ/0rWCAICW5D8uAEtXzqfkPyZOwroiueQ/l349NH3K5D+zciLN3dvkP/A76I5E7eQ/kEoXg7H+5D/FnEmzJBDlP2XuKimeIeU/Uel47h0z5T9vVgMNpETlP0dPrI4wVuU/WHBofcNn5T8FDD/jXHnlPzVeSsr8iuU/n8C3PKOc5T/T38dEUK7lP+XwzuwDwOU/4uc0P77R5T/1rnVGf+PlP09eIQ1H9eU/yHTcnRUH5j9TEWAD6xjmPyktekjHKuY/ydYNeKo85j/DbROdlE7mP1LfmMKFYOY/0ePB831y5j8DPcg7fYTmPzn1+6WDluY/T5/DPZGo5j+ol5wOprrmP+9FGyTCzOY/2l/rieXe5j/SLNBLEPHmP4/KpHVCA+c/u3JcE3wV5z9ywQIxvSfnP+P8u9oFOuc/313FHFZM5z97WXUDrl7nP8DrO5sNcec/ZuOi8HSD5z+uLk4Q5JXnP1cp/AZbqOc/ruuF4dm65z/Kmt+sYM3nP/a5GHbv3+c/QH1cSoby5z9DHfI2JQXoPz8sPUnMF+g/Uuy9jnsq6D8KpxEVMz3oP0wG8+nyT+g/d246G7ti6D/0Wd62i3XoPxu288pkiOg/gUGuZUab6D+062CVMK7oP2I2fmgjweg/BJiY7R7U6D8A4GIzI+foP1ycsEgw+ug/+IB2PEYN6T9i0ModZSDpP0TG5fuMM+k/iQMi5r1G6T8P/Pzr91npPyhmFx07bek/3qs1iYeA6T/hXUBA3ZPpP2KoRFI8p+k/sMl0z6S66T/HiijIFs7pP7m53UyS4ek/GaY4bhf16T9cnwQ9pgjqPz51NMo+HOo/RvriJuEv6j9SiFNkjUPqP1uH8pNDV+o/XvZVxwNr6j+H9j0Qzn7qP6ZYlYCikuo/7yxyKoGm6j8fVRYgarrqPwAZ8HNdzuo/hL2aOFvi6j88Ht+AY/bqP3hJtF92Cus/Bh9A6JMe6z+M8dctvDLrP7EqAUTvRus/A/JxPi1b6z+u1hExdm/rPy18+i/Kg+s/2kl4TymY6z+SHQukk6zrP2gBZ0IJwes/gOR0P4rV6z8aV1OwFurrP/VJV6qu/us/9dAMQ1IT7D9Q6TeQASjsPx5D1ae8POw/gw4boINR7D+XzHmPVmbsP+AjnYw1e+w/trhsriCQ7D+BCQ0MGKXsP+tO4Lwbuuw/JWCH2CvP7D9fm+J2SOTsP1zSErBx+ew/hzt6nKcO7T9HZ71U6iPtPwg6xPE5Oe0/u+q6jJZO7T8xBhM/AGTtPzl3hCJ3ee0/wpMOUfuO7T/2LvnkjKTtP5aw1fgruu0/nzGAp9jP7T9BniAMk+XtP4rdK0Jb++0/nv5kZTER7j+5a96RFSfuP0Ij++MHPe4/xPZveAhT7j890ERsF2nuP8v91dw0f+4/yIPV52CV7j+ldUyrm6vuP45VnEXlwe4/HHuA1T3Y7j8RgQ96pe7uP4+6vFIcBe8/va9Zf6Ib7z8fohcgODLvP9wYiVXdSO8/CnWjQJJf7z9JjsACV3bvP9dXoL0rje8/YI5qkxCk7z+ubrCmBbvvP3t1bhoL0u8/nCgOEiHp7z/w9LPYIwDwP9ZpYo6/C/A/3k9wvGMX8D8hzHV1ECPwP9ZJRszFLvA/n33x04M68D90bsSfSkbwP0qESkMaUvA/qZxO0vJd8D80Jdxg1GnwP3c8QAO/dfA/IdkKzrKB8D+n9w/Wr43wP7LOaDC2mfA/gQp18sWl8D89D9wx37HwP7BCjgQCvvA/c13GgC7K8D+7wwq9ZNbwPxjmLtCk4vA/T6pU0e7u8D+H3O3XQvvwPw+pvfugB/E/6R7aVAkU8T9uu637eyDxP0X/+Aj5LPE/5gzUlYA58T8JUbC7EkbxPyo1WpSvUvE/f9z6OVdf8T/A6xnHCWzxP+Jbn1bHePE/Q1jVA5CF8T+VKGrqY5LxP8MmciZDn/E/W8Fp1C2s8T+yijcRJLnxP0lVLvolxvE/t10PrTPT8T+cggxITeDxPwWLyuly7fE/oHtjsaT68T9Y+2i+4gfyP7bH5jAtFfI/iDllKYQi8j9y2uvI5y/yP7QLBDFYPfI/Ar+7g9VK8j+kQajjX1jyP9Qa6XP3ZfI/tP0qWJxz8j+Dz6q0ToHyPwbDOK4Oj/I/XIk7atyc8j9wmbMOuKryP2COPsKhuPI/5p0arJnG8j9uJyr0n9TyP8Fc98K04vI/DgW4Qdjw8j9GW1GaCv/yP8cIXPdLDfM/OD0ohJwb8z+l5MFs/CnzP+n89N1rOPM/mgtSBetG8z9etTIRelXzPyJ4vjAZZPM/Ronvk8hy8z8e2ZdriIHzPwg9ZulYkPM/tsHrPzqf8z/4JqGiLK7zP3GG7EUwvfM/UScnX0XM8z8TgKMkbNvzP55os82k6vM/HH6uku/58z/guvisTAn0P/JDCVe8GPQ/om5xzD4o9D8uAORJ1Df0P8apPA19R/Q/XMOHVTlX9D+hRwpjCWf0P/0TSnftdvQ/Am8W1eWG9D962JDA8pb0P74lNn8Up/Q/5e3nV0u39D+hSPaSl8f0P6bjKXr51/Q/B3LOWHHo9D9Keb17//j0P3aAaTGkCfU/AqXpyV8a9T86mgWXMiv1P78XQuwcPPU/5bvtHh9N9T8yZy6GOV71P0wWD3tsb/U/CECOWLiA9T+jvax7HZL1P2JDfUOco/U/QHA0ETW19T+uezlI6Mb1P86IN0622PU/yaYvi5/q9T/IhotppPz1P+vvMFbFDvY/kvqVwAIh9j+5HNYaXTP2P24RyNnURfY/faYUdWpY9j+ee05nHmv2P06/Ci7xffY/SPb6SeOQ9j8q2wc/9aP2P9VkbZQnt/Y/vQLY1HrK9j+mH4OO7932P9b7WFOG8fY/dfETuT8F9z9CNmFZHBn3P8UvBdIcLfc/528BxUFB9z9ucbzYi1X3P9AtK7j7afc/xqb8EpJ+9z9SgMedT5P3P8fJORI1qPc/SBZLL0O99z+gB3G5etL3P5lw1nrc5/c/yjaVQ2n99z9uHvPpIRP4P/ytoUoHKfg/tloBSRo/+D+gMmjPW1X4P4c8bM/Ma/g/3soxQm6C+D+6Ar4oQZn4P2fdTYxGsPg/WPCxfn/H+D8xTa8a7d74PxHSZYSQ9vg/qEm86WoO+T+zwdKCfSb5P4yHe5LJPvk/l0O7ZlBX+T/8tVBZE3D5PwGjRNATifk//4iCPlOi+T9vx3ok07v5P6TtzhCV1fk/sfcIoZrv+T9JUl6C5Qn6PxySf3J3JPo/M+F1QFI/+j96PY/Nd1r6PzG+Wg7qdfo/ljS2C6uR+j8one7jvK36P2v89Mshyvo/WGupENzm+j+vRj4Y7gP7P6WntWNaIfs/bId7kCM/+z9AMB9aTF37P2ToLpzXe/s/vBY5VMia+z9UfvajIbr7P0eYodPm2fs/QYx/VBv6+z+0z5/Dwhr8P1gQ2OzgO/w/RL8Cznld/D98XYeakX/8P5eSNL8sovw/NSJ15k/F/D9QB+r8/+j8P9pgdTZCDf0/vXTDExwy/T/l7GBok1f9P9ebb2Guff0/LqANjXOk/T8KtYXi6cv9Py76YssY9P0/+pqGLQgd/j8GmGJ2wEb+P7m9gqdKcf4/dLSTZLCc/j//UyAD/Mj+P/5KR5w49v4/QB+3IHIk/z/cCk1vtVP/P4jkxG4QhP8/TOX9KpK1/z+2wnL2Suj/P7BKUkgmDgBA6I8wKdUoAEDMSoCwPEQAQAQJ/HRoYABA7E84NGV9AEBXUH77QJsAQLkSB1gLugBAvnFBkNXZAEDcQ0LosvoAQKpvGfS4HAFAYg6X+/8/AUCriiZ0o2QBQD8p6pbCigFADlheG4GyAUABZ8ghCNwBQLCI/VyHBwJAcB9SkTY1AkBehtWHV2UCQABvMaM4mAJAysqmWTjOAkCxZhb7yQcDQGGijmR8RQNAnSPypgOIA0Cacn1YR9ADQMO3bJV4HwRAXrfsQzV3BEAAYoSXw9kEQGVJRzV9SgVAdsIt76DOBUDvQLmYHm8GQBk7tqo6PQdA6MLtUSpiCEBlWar87HAKQA==",
          "dtype": "f8"
         },
         "xaxis": "x",
         "y": {
          "bdata": "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",
          "dtype": "i4"
         },
         "yaxis": "y"
        },
        {
         "line": {
          "color": "green"
         },
         "mode": "lines",
         "name": "Normal Line",
         "type": "scatter",
         "x": {
          "bdata": "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",
          "dtype": "f8"
         },
         "y": {
          "bdata": "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",
          "dtype": "f8"
         }
        }
       ],
       "layout": {
        "font": {
         "color": "white"
        },
        "legend": {
         "tracegroupgap": 0
        },
        "margin": {
         "t": 60
        },
        "paper_bgcolor": "rgba(32, 32, 32, 1)",
        "plot_bgcolor": "rgba(32, 32, 32, 1)",
        "template": {
         "data": {
          "bar": [
           {
            "error_x": {
             "color": "#2a3f5f"
            },
            "error_y": {
             "color": "#2a3f5f"
            },
            "marker": {
             "line": {
              "color": "#E5ECF6",
              "width": 0.5
             },
             "pattern": {
              "fillmode": "overlay",
              "size": 10,
              "solidity": 0.2
             }
            },
            "type": "bar"
           }
          ],
          "barpolar": [
           {
            "marker": {
             "line": {
              "color": "#E5ECF6",
              "width": 0.5
             },
             "pattern": {
              "fillmode": "overlay",
              "size": 10,
              "solidity": 0.2
             }
            },
            "type": "barpolar"
           }
          ],
          "carpet": [
           {
            "aaxis": {
             "endlinecolor": "#2a3f5f",
             "gridcolor": "white",
             "linecolor": "white",
             "minorgridcolor": "white",
             "startlinecolor": "#2a3f5f"
            },
            "baxis": {
             "endlinecolor": "#2a3f5f",
             "gridcolor": "white",
             "linecolor": "white",
             "minorgridcolor": "white",
             "startlinecolor": "#2a3f5f"
            },
            "type": "carpet"
           }
          ],
          "choropleth": [
           {
            "colorbar": {
             "outlinewidth": 0,
             "ticks": ""
            },
            "type": "choropleth"
           }
          ],
          "contour": [
           {
            "colorbar": {
             "outlinewidth": 0,
             "ticks": ""
            },
            "colorscale": [
             [
              0,
              "#0d0887"
             ],
             [
              0.1111111111111111,
              "#46039f"
             ],
             [
              0.2222222222222222,
              "#7201a8"
             ],
             [
              0.3333333333333333,
              "#9c179e"
             ],
             [
              0.4444444444444444,
              "#bd3786"
             ],
             [
              0.5555555555555556,
              "#d8576b"
             ],
             [
              0.6666666666666666,
              "#ed7953"
             ],
             [
              0.7777777777777778,
              "#fb9f3a"
             ],
             [
              0.8888888888888888,
              "#fdca26"
             ],
             [
              1,
              "#f0f921"
             ]
            ],
            "type": "contour"
           }
          ],
          "contourcarpet": [
           {
            "colorbar": {
             "outlinewidth": 0,
             "ticks": ""
            },
            "type": "contourcarpet"
           }
          ],
          "heatmap": [
           {
            "colorbar": {
             "outlinewidth": 0,
             "ticks": ""
            },
            "colorscale": [
             [
              0,
              "#0d0887"
             ],
             [
              0.1111111111111111,
              "#46039f"
             ],
             [
              0.2222222222222222,
              "#7201a8"
             ],
             [
              0.3333333333333333,
              "#9c179e"
             ],
             [
              0.4444444444444444,
              "#bd3786"
             ],
             [
              0.5555555555555556,
              "#d8576b"
             ],
             [
              0.6666666666666666,
              "#ed7953"
             ],
             [
              0.7777777777777778,
              "#fb9f3a"
             ],
             [
              0.8888888888888888,
              "#fdca26"
             ],
             [
              1,
              "#f0f921"
             ]
            ],
            "type": "heatmap"
           }
          ],
          "histogram": [
           {
            "marker": {
             "pattern": {
              "fillmode": "overlay",
              "size": 10,
              "solidity": 0.2
             }
            },
            "type": "histogram"
           }
          ],
          "histogram2d": [
           {
            "colorbar": {
             "outlinewidth": 0,
             "ticks": ""
            },
            "colorscale": [
             [
              0,
              "#0d0887"
             ],
             [
              0.1111111111111111,
              "#46039f"
             ],
             [
              0.2222222222222222,
              "#7201a8"
             ],
             [
              0.3333333333333333,
              "#9c179e"
             ],
             [
              0.4444444444444444,
              "#bd3786"
             ],
             [
              0.5555555555555556,
              "#d8576b"
             ],
             [
              0.6666666666666666,
              "#ed7953"
             ],
             [
              0.7777777777777778,
              "#fb9f3a"
             ],
             [
              0.8888888888888888,
              "#fdca26"
             ],
             [
              1,
              "#f0f921"
             ]
            ],
            "type": "histogram2d"
           }
          ],
          "histogram2dcontour": [
           {
            "colorbar": {
             "outlinewidth": 0,
             "ticks": ""
            },
            "colorscale": [
             [
              0,
              "#0d0887"
             ],
             [
              0.1111111111111111,
              "#46039f"
             ],
             [
              0.2222222222222222,
              "#7201a8"
             ],
             [
              0.3333333333333333,
              "#9c179e"
             ],
             [
              0.4444444444444444,
              "#bd3786"
             ],
             [
              0.5555555555555556,
              "#d8576b"
             ],
             [
              0.6666666666666666,
              "#ed7953"
             ],
             [
              0.7777777777777778,
              "#fb9f3a"
             ],
             [
              0.8888888888888888,
              "#fdca26"
             ],
             [
              1,
              "#f0f921"
             ]
            ],
            "type": "histogram2dcontour"
           }
          ],
          "mesh3d": [
           {
            "colorbar": {
             "outlinewidth": 0,
             "ticks": ""
            },
            "type": "mesh3d"
           }
          ],
          "parcoords": [
           {
            "line": {
             "colorbar": {
              "outlinewidth": 0,
              "ticks": ""
             }
            },
            "type": "parcoords"
           }
          ],
          "pie": [
           {
            "automargin": true,
            "type": "pie"
           }
          ],
          "scatter": [
           {
            "fillpattern": {
             "fillmode": "overlay",
             "size": 10,
             "solidity": 0.2
            },
            "type": "scatter"
           }
          ],
          "scatter3d": [
           {
            "line": {
             "colorbar": {
              "outlinewidth": 0,
              "ticks": ""
             }
            },
            "marker": {
             "colorbar": {
              "outlinewidth": 0,
              "ticks": ""
             }
            },
            "type": "scatter3d"
           }
          ],
          "scattercarpet": [
           {
            "marker": {
             "colorbar": {
              "outlinewidth": 0,
              "ticks": ""
             }
            },
            "type": "scattercarpet"
           }
          ],
          "scattergeo": [
           {
            "marker": {
             "colorbar": {
              "outlinewidth": 0,
              "ticks": ""
             }
            },
            "type": "scattergeo"
           }
          ],
          "scattergl": [
           {
            "marker": {
             "colorbar": {
              "outlinewidth": 0,
              "ticks": ""
             }
            },
            "type": "scattergl"
           }
          ],
          "scattermap": [
           {
            "marker": {
             "colorbar": {
              "outlinewidth": 0,
              "ticks": ""
             }
            },
            "type": "scattermap"
           }
          ],
          "scattermapbox": [
           {
            "marker": {
             "colorbar": {
              "outlinewidth": 0,
              "ticks": ""
             }
            },
            "type": "scattermapbox"
           }
          ],
          "scatterpolar": [
           {
            "marker": {
             "colorbar": {
              "outlinewidth": 0,
              "ticks": ""
             }
            },
            "type": "scatterpolar"
           }
          ],
          "scatterpolargl": [
           {
            "marker": {
             "colorbar": {
              "outlinewidth": 0,
              "ticks": ""
             }
            },
            "type": "scatterpolargl"
           }
          ],
          "scatterternary": [
           {
            "marker": {
             "colorbar": {
              "outlinewidth": 0,
              "ticks": ""
             }
            },
            "type": "scatterternary"
           }
          ],
          "surface": [
           {
            "colorbar": {
             "outlinewidth": 0,
             "ticks": ""
            },
            "colorscale": [
             [
              0,
              "#0d0887"
             ],
             [
              0.1111111111111111,
              "#46039f"
             ],
             [
              0.2222222222222222,
              "#7201a8"
             ],
             [
              0.3333333333333333,
              "#9c179e"
             ],
             [
              0.4444444444444444,
              "#bd3786"
             ],
             [
              0.5555555555555556,
              "#d8576b"
             ],
             [
              0.6666666666666666,
              "#ed7953"
             ],
             [
              0.7777777777777778,
              "#fb9f3a"
             ],
             [
              0.8888888888888888,
              "#fdca26"
             ],
             [
              1,
              "#f0f921"
             ]
            ],
            "type": "surface"
           }
          ],
          "table": [
           {
            "cells": {
             "fill": {
              "color": "#EBF0F8"
             },
             "line": {
              "color": "white"
             }
            },
            "header": {
             "fill": {
              "color": "#C8D4E3"
             },
             "line": {
              "color": "white"
             }
            },
            "type": "table"
           }
          ]
         },
         "layout": {
          "annotationdefaults": {
           "arrowcolor": "#2a3f5f",
           "arrowhead": 0,
           "arrowwidth": 1
          },
          "autotypenumbers": "strict",
          "coloraxis": {
           "colorbar": {
            "outlinewidth": 0,
            "ticks": ""
           }
          },
          "colorscale": {
           "diverging": [
            [
             0,
             "#8e0152"
            ],
            [
             0.1,
             "#c51b7d"
            ],
            [
             0.2,
             "#de77ae"
            ],
            [
             0.3,
             "#f1b6da"
            ],
            [
             0.4,
             "#fde0ef"
            ],
            [
             0.5,
             "#f7f7f7"
            ],
            [
             0.6,
             "#e6f5d0"
            ],
            [
             0.7,
             "#b8e186"
            ],
            [
             0.8,
             "#7fbc41"
            ],
            [
             0.9,
             "#4d9221"
            ],
            [
             1,
             "#276419"
            ]
           ],
           "sequential": [
            [
             0,
             "#0d0887"
            ],
            [
             0.1111111111111111,
             "#46039f"
            ],
            [
             0.2222222222222222,
             "#7201a8"
            ],
            [
             0.3333333333333333,
             "#9c179e"
            ],
            [
             0.4444444444444444,
             "#bd3786"
            ],
            [
             0.5555555555555556,
             "#d8576b"
            ],
            [
             0.6666666666666666,
             "#ed7953"
            ],
            [
             0.7777777777777778,
             "#fb9f3a"
            ],
            [
             0.8888888888888888,
             "#fdca26"
            ],
            [
             1,
             "#f0f921"
            ]
           ],
           "sequentialminus": [
            [
             0,
             "#0d0887"
            ],
            [
             0.1111111111111111,
             "#46039f"
            ],
            [
             0.2222222222222222,
             "#7201a8"
            ],
            [
             0.3333333333333333,
             "#9c179e"
            ],
            [
             0.4444444444444444,
             "#bd3786"
            ],
            [
             0.5555555555555556,
             "#d8576b"
            ],
            [
             0.6666666666666666,
             "#ed7953"
            ],
            [
             0.7777777777777778,
             "#fb9f3a"
            ],
            [
             0.8888888888888888,
             "#fdca26"
            ],
            [
             1,
             "#f0f921"
            ]
           ]
          },
          "colorway": [
           "#636efa",
           "#EF553B",
           "#00cc96",
           "#ab63fa",
           "#FFA15A",
           "#19d3f3",
           "#FF6692",
           "#B6E880",
           "#FF97FF",
           "#FECB52"
          ],
          "font": {
           "color": "#2a3f5f"
          },
          "geo": {
           "bgcolor": "white",
           "lakecolor": "white",
           "landcolor": "#E5ECF6",
           "showlakes": true,
           "showland": true,
           "subunitcolor": "white"
          },
          "hoverlabel": {
           "align": "left"
          },
          "hovermode": "closest",
          "mapbox": {
           "style": "light"
          },
          "paper_bgcolor": "white",
          "plot_bgcolor": "#E5ECF6",
          "polar": {
           "angularaxis": {
            "gridcolor": "white",
            "linecolor": "white",
            "ticks": ""
           },
           "bgcolor": "#E5ECF6",
           "radialaxis": {
            "gridcolor": "white",
            "linecolor": "white",
            "ticks": ""
           }
          },
          "scene": {
           "xaxis": {
            "backgroundcolor": "#E5ECF6",
            "gridcolor": "white",
            "gridwidth": 2,
            "linecolor": "white",
            "showbackground": true,
            "ticks": "",
            "zerolinecolor": "white"
           },
           "yaxis": {
            "backgroundcolor": "#E5ECF6",
            "gridcolor": "white",
            "gridwidth": 2,
            "linecolor": "white",
            "showbackground": true,
            "ticks": "",
            "zerolinecolor": "white"
           },
           "zaxis": {
            "backgroundcolor": "#E5ECF6",
            "gridcolor": "white",
            "gridwidth": 2,
            "linecolor": "white",
            "showbackground": true,
            "ticks": "",
            "zerolinecolor": "white"
           }
          },
          "shapedefaults": {
           "line": {
            "color": "#2a3f5f"
           }
          },
          "ternary": {
           "aaxis": {
            "gridcolor": "white",
            "linecolor": "white",
            "ticks": ""
           },
           "baxis": {
            "gridcolor": "white",
            "linecolor": "white",
            "ticks": ""
           },
           "bgcolor": "#E5ECF6",
           "caxis": {
            "gridcolor": "white",
            "linecolor": "white",
            "ticks": ""
           }
          },
          "title": {
           "x": 0.05
          },
          "xaxis": {
           "automargin": true,
           "gridcolor": "white",
           "linecolor": "white",
           "ticks": "",
           "title": {
            "standoff": 15
           },
           "zerolinecolor": "white",
           "zerolinewidth": 2
          },
          "yaxis": {
           "automargin": true,
           "gridcolor": "white",
           "linecolor": "white",
           "ticks": "",
           "title": {
            "standoff": 15
           },
           "zerolinecolor": "white",
           "zerolinewidth": 2
          }
         }
        },
        "title": {
         "text": "Q-Q plot"
        },
        "xaxis": {
         "anchor": "y",
         "domain": [
          0,
          1
         ],
         "title": {
          "text": "Theoretical Quantiles"
         }
        },
        "yaxis": {
         "anchor": "x",
         "domain": [
          0,
          1
         ],
         "title": {
          "text": "Ordered Values"
         }
        }
       }
      }
     },
     "metadata": {},
     "output_type": "display_data"
    }
   ],
   "source": [
    "import scipy.stats as stats\n",
    "\n",
    "# Fit a normal distribution to the SalePrice data\n",
    "mu, sigma = stats.norm.fit(df_train['SalePrice'])\n",
    "\n",
    "# Create a histogram of the SalePrice column\n",
    "hist_data = go.Histogram(x=df_train['SalePrice'], nbinsx=50, name=\"Histogram\", opacity=0.75, histnorm='probability density', marker=dict(color='purple'))\n",
    "\n",
    "# Calculate the normal distribution based on the fitted parameters\n",
    "x_norm = np.linspace(df_train['SalePrice'].min(), df_train['SalePrice'].max(), 100)\n",
    "y_norm = stats.norm.pdf(x_norm, mu, sigma)\n",
    "\n",
    "# Create the normal distribution overlay\n",
    "norm_data = go.Scatter(x=x_norm, y=y_norm, mode=\"lines\", name=f\"Normal dist. (μ={mu:.2f}, σ={sigma:.2f})\", line=dict(color=\"green\"))\n",
    "\n",
    "# Combine the histogram and the overlay\n",
    "fig = go.Figure(data=[hist_data, norm_data])\n",
    "\n",
    "# Set the layout for the plot\n",
    "fig.update_layout(\n",
    "    title=\"SalePrice Distribution\",\n",
    "    xaxis_title=\"SalePrice\",\n",
    "    yaxis_title=\"Density\",\n",
    "    legend_title_text=\"Fitted Normal Distribution\",\n",
    "    plot_bgcolor='rgba(32, 32, 32, 1)',\n",
    "    paper_bgcolor='rgba(32, 32, 32, 1)',\n",
    "    font=dict(color='white')\n",
    ")\n",
    "\n",
    "# Create a Q-Q plot\n",
    "qq_data = stats.probplot(df_train['SalePrice'], dist=\"norm\")\n",
    "qq_fig = px.scatter(x=qq_data[0][0], y=qq_data[0][1], labels={'x': 'Theoretical Quantiles', 'y': 'Ordered Values'}, color_discrete_sequence=[\"purple\"])\n",
    "qq_fig.update_layout(\n",
    "    title=\"Q-Q plot\",\n",
    "    plot_bgcolor='rgba(32, 32, 32, 1)',\n",
    "    paper_bgcolor='rgba(32, 32, 32, 1)',\n",
    "    font=dict(color='white')\n",
    ")\n",
    "\n",
    "# Calculate the line of best fit\n",
    "slope, intercept, r_value, p_value, std_err = stats.linregress(qq_data[0][0], qq_data[0][1])\n",
    "line_x = np.array(qq_data[0][0])\n",
    "line_y = intercept + slope * line_x\n",
    "\n",
    "# Add the line of best fit to the Q-Q plot\n",
    "line_data = go.Scatter(x=line_x, y=line_y, mode=\"lines\", name=\"Normal Line\", line=dict(color=\"green\"))\n",
    "\n",
    "# Update the Q-Q plot with the normal line\n",
    "qq_fig.add_trace(line_data)\n",
    "\n",
    "# Show the plots\n",
    "fig.show()\n",
    "qq_fig.show()"
   ]
  },
  {
   "cell_type": "code",
   "execution_count": 36,
   "metadata": {},
   "outputs": [],
   "source": [
    "# Explore the correlation between the features and the target\n",
    "#correlation = df_train.corr()['SalePrice'].sort_values(ascending=False)\n",
    "#correlation"
   ]
  },
  {
   "cell_type": "code",
   "execution_count": 37,
   "metadata": {},
   "outputs": [],
   "source": [
    "#Distribution of dwelling types and their relation to sale prices?\n",
    "#Does zoning impact sale price?\n",
    "#Does street and alley access types effect on sale price?\n",
    "#What is the Average sale price by property shape?\n",
    "#Is there a Correlation between Property Age and Sale Price\n",
    "#Is there a Correlation between Living Area and Sale Price\n",
    "#Does price change year to year?"
   ]
  },
  {
   "cell_type": "code",
   "execution_count": 38,
   "metadata": {},
   "outputs": [
    {
     "data": {
      "application/vnd.plotly.v1+json": {
       "config": {
        "plotlyServerURL": "https://plot.ly"
       },
       "data": [
        {
         "marker": {
          "color": "rgb(76, 175, 80)",
          "line": {
           "color": "rgba(0,0,0,1)",
           "width": 2
          },
          "opacity": 1
         },
         "text": {
          "bdata": "AAAAAAAQk0AAAAAAAIBcQAAAAAAAAEpAAAAAAACARUAAAAAAAAA/QA==",
          "dtype": "f8"
         },
         "textposition": "outside",
         "type": "bar",
         "width": 0.4,
         "x": [
          "1Fam",
          "TwnhsE",
          "Duplex",
          "Twnhs",
          "2fmCon"
         ],
         "y": {
          "bdata": "xARyADQAKwAfAA==",
          "dtype": "i2"
         }
        }
       ],
       "layout": {
        "font": {
         "color": "white"
        },
        "paper_bgcolor": "rgba(34, 34, 34, 1)",
        "plot_bgcolor": "rgba(34, 34, 34, 1)",
        "template": {
         "data": {
          "bar": [
           {
            "error_x": {
             "color": "#2a3f5f"
            },
            "error_y": {
             "color": "#2a3f5f"
            },
            "marker": {
             "line": {
              "color": "#E5ECF6",
              "width": 0.5
             },
             "pattern": {
              "fillmode": "overlay",
              "size": 10,
              "solidity": 0.2
             }
            },
            "type": "bar"
           }
          ],
          "barpolar": [
           {
            "marker": {
             "line": {
              "color": "#E5ECF6",
              "width": 0.5
             },
             "pattern": {
              "fillmode": "overlay",
              "size": 10,
              "solidity": 0.2
             }
            },
            "type": "barpolar"
           }
          ],
          "carpet": [
           {
            "aaxis": {
             "endlinecolor": "#2a3f5f",
             "gridcolor": "white",
             "linecolor": "white",
             "minorgridcolor": "white",
             "startlinecolor": "#2a3f5f"
            },
            "baxis": {
             "endlinecolor": "#2a3f5f",
             "gridcolor": "white",
             "linecolor": "white",
             "minorgridcolor": "white",
             "startlinecolor": "#2a3f5f"
            },
            "type": "carpet"
           }
          ],
          "choropleth": [
           {
            "colorbar": {
             "outlinewidth": 0,
             "ticks": ""
            },
            "type": "choropleth"
           }
          ],
          "contour": [
           {
            "colorbar": {
             "outlinewidth": 0,
             "ticks": ""
            },
            "colorscale": [
             [
              0,
              "#0d0887"
             ],
             [
              0.1111111111111111,
              "#46039f"
             ],
             [
              0.2222222222222222,
              "#7201a8"
             ],
             [
              0.3333333333333333,
              "#9c179e"
             ],
             [
              0.4444444444444444,
              "#bd3786"
             ],
             [
              0.5555555555555556,
              "#d8576b"
             ],
             [
              0.6666666666666666,
              "#ed7953"
             ],
             [
              0.7777777777777778,
              "#fb9f3a"
             ],
             [
              0.8888888888888888,
              "#fdca26"
             ],
             [
              1,
              "#f0f921"
             ]
            ],
            "type": "contour"
           }
          ],
          "contourcarpet": [
           {
            "colorbar": {
             "outlinewidth": 0,
             "ticks": ""
            },
            "type": "contourcarpet"
           }
          ],
          "heatmap": [
           {
            "colorbar": {
             "outlinewidth": 0,
             "ticks": ""
            },
            "colorscale": [
             [
              0,
              "#0d0887"
             ],
             [
              0.1111111111111111,
              "#46039f"
             ],
             [
              0.2222222222222222,
              "#7201a8"
             ],
             [
              0.3333333333333333,
              "#9c179e"
             ],
             [
              0.4444444444444444,
              "#bd3786"
             ],
             [
              0.5555555555555556,
              "#d8576b"
             ],
             [
              0.6666666666666666,
              "#ed7953"
             ],
             [
              0.7777777777777778,
              "#fb9f3a"
             ],
             [
              0.8888888888888888,
              "#fdca26"
             ],
             [
              1,
              "#f0f921"
             ]
            ],
            "type": "heatmap"
           }
          ],
          "histogram": [
           {
            "marker": {
             "pattern": {
              "fillmode": "overlay",
              "size": 10,
              "solidity": 0.2
             }
            },
            "type": "histogram"
           }
          ],
          "histogram2d": [
           {
            "colorbar": {
             "outlinewidth": 0,
             "ticks": ""
            },
            "colorscale": [
             [
              0,
              "#0d0887"
             ],
             [
              0.1111111111111111,
              "#46039f"
             ],
             [
              0.2222222222222222,
              "#7201a8"
             ],
             [
              0.3333333333333333,
              "#9c179e"
             ],
             [
              0.4444444444444444,
              "#bd3786"
             ],
             [
              0.5555555555555556,
              "#d8576b"
             ],
             [
              0.6666666666666666,
              "#ed7953"
             ],
             [
              0.7777777777777778,
              "#fb9f3a"
             ],
             [
              0.8888888888888888,
              "#fdca26"
             ],
             [
              1,
              "#f0f921"
             ]
            ],
            "type": "histogram2d"
           }
          ],
          "histogram2dcontour": [
           {
            "colorbar": {
             "outlinewidth": 0,
             "ticks": ""
            },
            "colorscale": [
             [
              0,
              "#0d0887"
             ],
             [
              0.1111111111111111,
              "#46039f"
             ],
             [
              0.2222222222222222,
              "#7201a8"
             ],
             [
              0.3333333333333333,
              "#9c179e"
             ],
             [
              0.4444444444444444,
              "#bd3786"
             ],
             [
              0.5555555555555556,
              "#d8576b"
             ],
             [
              0.6666666666666666,
              "#ed7953"
             ],
             [
              0.7777777777777778,
              "#fb9f3a"
             ],
             [
              0.8888888888888888,
              "#fdca26"
             ],
             [
              1,
              "#f0f921"
             ]
            ],
            "type": "histogram2dcontour"
           }
          ],
          "mesh3d": [
           {
            "colorbar": {
             "outlinewidth": 0,
             "ticks": ""
            },
            "type": "mesh3d"
           }
          ],
          "parcoords": [
           {
            "line": {
             "colorbar": {
              "outlinewidth": 0,
              "ticks": ""
             }
            },
            "type": "parcoords"
           }
          ],
          "pie": [
           {
            "automargin": true,
            "type": "pie"
           }
          ],
          "scatter": [
           {
            "fillpattern": {
             "fillmode": "overlay",
             "size": 10,
             "solidity": 0.2
            },
            "type": "scatter"
           }
          ],
          "scatter3d": [
           {
            "line": {
             "colorbar": {
              "outlinewidth": 0,
              "ticks": ""
             }
            },
            "marker": {
             "colorbar": {
              "outlinewidth": 0,
              "ticks": ""
             }
            },
            "type": "scatter3d"
           }
          ],
          "scattercarpet": [
           {
            "marker": {
             "colorbar": {
              "outlinewidth": 0,
              "ticks": ""
             }
            },
            "type": "scattercarpet"
           }
          ],
          "scattergeo": [
           {
            "marker": {
             "colorbar": {
              "outlinewidth": 0,
              "ticks": ""
             }
            },
            "type": "scattergeo"
           }
          ],
          "scattergl": [
           {
            "marker": {
             "colorbar": {
              "outlinewidth": 0,
              "ticks": ""
             }
            },
            "type": "scattergl"
           }
          ],
          "scattermap": [
           {
            "marker": {
             "colorbar": {
              "outlinewidth": 0,
              "ticks": ""
             }
            },
            "type": "scattermap"
           }
          ],
          "scattermapbox": [
           {
            "marker": {
             "colorbar": {
              "outlinewidth": 0,
              "ticks": ""
             }
            },
            "type": "scattermapbox"
           }
          ],
          "scatterpolar": [
           {
            "marker": {
             "colorbar": {
              "outlinewidth": 0,
              "ticks": ""
             }
            },
            "type": "scatterpolar"
           }
          ],
          "scatterpolargl": [
           {
            "marker": {
             "colorbar": {
              "outlinewidth": 0,
              "ticks": ""
             }
            },
            "type": "scatterpolargl"
           }
          ],
          "scatterternary": [
           {
            "marker": {
             "colorbar": {
              "outlinewidth": 0,
              "ticks": ""
             }
            },
            "type": "scatterternary"
           }
          ],
          "surface": [
           {
            "colorbar": {
             "outlinewidth": 0,
             "ticks": ""
            },
            "colorscale": [
             [
              0,
              "#0d0887"
             ],
             [
              0.1111111111111111,
              "#46039f"
             ],
             [
              0.2222222222222222,
              "#7201a8"
             ],
             [
              0.3333333333333333,
              "#9c179e"
             ],
             [
              0.4444444444444444,
              "#bd3786"
             ],
             [
              0.5555555555555556,
              "#d8576b"
             ],
             [
              0.6666666666666666,
              "#ed7953"
             ],
             [
              0.7777777777777778,
              "#fb9f3a"
             ],
             [
              0.8888888888888888,
              "#fdca26"
             ],
             [
              1,
              "#f0f921"
             ]
            ],
            "type": "surface"
           }
          ],
          "table": [
           {
            "cells": {
             "fill": {
              "color": "#EBF0F8"
             },
             "line": {
              "color": "white"
             }
            },
            "header": {
             "fill": {
              "color": "#C8D4E3"
             },
             "line": {
              "color": "white"
             }
            },
            "type": "table"
           }
          ]
         },
         "layout": {
          "annotationdefaults": {
           "arrowcolor": "#2a3f5f",
           "arrowhead": 0,
           "arrowwidth": 1
          },
          "autotypenumbers": "strict",
          "coloraxis": {
           "colorbar": {
            "outlinewidth": 0,
            "ticks": ""
           }
          },
          "colorscale": {
           "diverging": [
            [
             0,
             "#8e0152"
            ],
            [
             0.1,
             "#c51b7d"
            ],
            [
             0.2,
             "#de77ae"
            ],
            [
             0.3,
             "#f1b6da"
            ],
            [
             0.4,
             "#fde0ef"
            ],
            [
             0.5,
             "#f7f7f7"
            ],
            [
             0.6,
             "#e6f5d0"
            ],
            [
             0.7,
             "#b8e186"
            ],
            [
             0.8,
             "#7fbc41"
            ],
            [
             0.9,
             "#4d9221"
            ],
            [
             1,
             "#276419"
            ]
           ],
           "sequential": [
            [
             0,
             "#0d0887"
            ],
            [
             0.1111111111111111,
             "#46039f"
            ],
            [
             0.2222222222222222,
             "#7201a8"
            ],
            [
             0.3333333333333333,
             "#9c179e"
            ],
            [
             0.4444444444444444,
             "#bd3786"
            ],
            [
             0.5555555555555556,
             "#d8576b"
            ],
            [
             0.6666666666666666,
             "#ed7953"
            ],
            [
             0.7777777777777778,
             "#fb9f3a"
            ],
            [
             0.8888888888888888,
             "#fdca26"
            ],
            [
             1,
             "#f0f921"
            ]
           ],
           "sequentialminus": [
            [
             0,
             "#0d0887"
            ],
            [
             0.1111111111111111,
             "#46039f"
            ],
            [
             0.2222222222222222,
             "#7201a8"
            ],
            [
             0.3333333333333333,
             "#9c179e"
            ],
            [
             0.4444444444444444,
             "#bd3786"
            ],
            [
             0.5555555555555556,
             "#d8576b"
            ],
            [
             0.6666666666666666,
             "#ed7953"
            ],
            [
             0.7777777777777778,
             "#fb9f3a"
            ],
            [
             0.8888888888888888,
             "#fdca26"
            ],
            [
             1,
             "#f0f921"
            ]
           ]
          },
          "colorway": [
           "#636efa",
           "#EF553B",
           "#00cc96",
           "#ab63fa",
           "#FFA15A",
           "#19d3f3",
           "#FF6692",
           "#B6E880",
           "#FF97FF",
           "#FECB52"
          ],
          "font": {
           "color": "#2a3f5f"
          },
          "geo": {
           "bgcolor": "white",
           "lakecolor": "white",
           "landcolor": "#E5ECF6",
           "showlakes": true,
           "showland": true,
           "subunitcolor": "white"
          },
          "hoverlabel": {
           "align": "left"
          },
          "hovermode": "closest",
          "mapbox": {
           "style": "light"
          },
          "paper_bgcolor": "white",
          "plot_bgcolor": "#E5ECF6",
          "polar": {
           "angularaxis": {
            "gridcolor": "white",
            "linecolor": "white",
            "ticks": ""
           },
           "bgcolor": "#E5ECF6",
           "radialaxis": {
            "gridcolor": "white",
            "linecolor": "white",
            "ticks": ""
           }
          },
          "scene": {
           "xaxis": {
            "backgroundcolor": "#E5ECF6",
            "gridcolor": "white",
            "gridwidth": 2,
            "linecolor": "white",
            "showbackground": true,
            "ticks": "",
            "zerolinecolor": "white"
           },
           "yaxis": {
            "backgroundcolor": "#E5ECF6",
            "gridcolor": "white",
            "gridwidth": 2,
            "linecolor": "white",
            "showbackground": true,
            "ticks": "",
            "zerolinecolor": "white"
           },
           "zaxis": {
            "backgroundcolor": "#E5ECF6",
            "gridcolor": "white",
            "gridwidth": 2,
            "linecolor": "white",
            "showbackground": true,
            "ticks": "",
            "zerolinecolor": "white"
           }
          },
          "shapedefaults": {
           "line": {
            "color": "#2a3f5f"
           }
          },
          "ternary": {
           "aaxis": {
            "gridcolor": "white",
            "linecolor": "white",
            "ticks": ""
           },
           "baxis": {
            "gridcolor": "white",
            "linecolor": "white",
            "ticks": ""
           },
           "bgcolor": "#E5ECF6",
           "caxis": {
            "gridcolor": "white",
            "linecolor": "white",
            "ticks": ""
           }
          },
          "title": {
           "x": 0.05
          },
          "xaxis": {
           "automargin": true,
           "gridcolor": "white",
           "linecolor": "white",
           "ticks": "",
           "title": {
            "standoff": 15
           },
           "zerolinecolor": "white",
           "zerolinewidth": 2
          },
          "yaxis": {
           "automargin": true,
           "gridcolor": "white",
           "linecolor": "white",
           "ticks": "",
           "title": {
            "standoff": 15
           },
           "zerolinecolor": "white",
           "zerolinewidth": 2
          }
         }
        },
        "title": {
         "text": "Distribution of Building Types"
        },
        "xaxis": {
         "title": {
          "text": "Building Type"
         }
        },
        "yaxis": {
         "title": {
          "text": "Count"
         }
        }
       }
      }
     },
     "metadata": {},
     "output_type": "display_data"
    },
    {
     "data": {
      "application/vnd.plotly.v1+json": {
       "config": {
        "plotlyServerURL": "https://plot.ly"
       },
       "data": [
        {
         "marker": {
          "color": "rgb(156, 39, 176)",
          "line": {
           "color": "rgba(0,0,0,1)",
           "width": 2
          },
          "opacity": 1
         },
         "text": [
          "$185,763.81",
          "$128,432.26",
          "$133,541.08",
          "$135,911.63",
          "$181,959.34"
         ],
         "textposition": "outside",
         "type": "bar",
         "width": 0.4,
         "x": [
          "1Fam",
          "2fmCon",
          "Duplex",
          "Twnhs",
          "TwnhsE"
         ],
         "y": {
          "bdata": "LhmCdR6tBkERQgghBFv/QJ7YiZ0oTQBB0Bf0BT2XAEEor6G8OjYGQQ==",
          "dtype": "f8"
         }
        }
       ],
       "layout": {
        "font": {
         "color": "white"
        },
        "paper_bgcolor": "rgba(34, 34, 34, 1)",
        "plot_bgcolor": "rgba(34, 34, 34, 1)",
        "template": {
         "data": {
          "bar": [
           {
            "error_x": {
             "color": "#2a3f5f"
            },
            "error_y": {
             "color": "#2a3f5f"
            },
            "marker": {
             "line": {
              "color": "#E5ECF6",
              "width": 0.5
             },
             "pattern": {
              "fillmode": "overlay",
              "size": 10,
              "solidity": 0.2
             }
            },
            "type": "bar"
           }
          ],
          "barpolar": [
           {
            "marker": {
             "line": {
              "color": "#E5ECF6",
              "width": 0.5
             },
             "pattern": {
              "fillmode": "overlay",
              "size": 10,
              "solidity": 0.2
             }
            },
            "type": "barpolar"
           }
          ],
          "carpet": [
           {
            "aaxis": {
             "endlinecolor": "#2a3f5f",
             "gridcolor": "white",
             "linecolor": "white",
             "minorgridcolor": "white",
             "startlinecolor": "#2a3f5f"
            },
            "baxis": {
             "endlinecolor": "#2a3f5f",
             "gridcolor": "white",
             "linecolor": "white",
             "minorgridcolor": "white",
             "startlinecolor": "#2a3f5f"
            },
            "type": "carpet"
           }
          ],
          "choropleth": [
           {
            "colorbar": {
             "outlinewidth": 0,
             "ticks": ""
            },
            "type": "choropleth"
           }
          ],
          "contour": [
           {
            "colorbar": {
             "outlinewidth": 0,
             "ticks": ""
            },
            "colorscale": [
             [
              0,
              "#0d0887"
             ],
             [
              0.1111111111111111,
              "#46039f"
             ],
             [
              0.2222222222222222,
              "#7201a8"
             ],
             [
              0.3333333333333333,
              "#9c179e"
             ],
             [
              0.4444444444444444,
              "#bd3786"
             ],
             [
              0.5555555555555556,
              "#d8576b"
             ],
             [
              0.6666666666666666,
              "#ed7953"
             ],
             [
              0.7777777777777778,
              "#fb9f3a"
             ],
             [
              0.8888888888888888,
              "#fdca26"
             ],
             [
              1,
              "#f0f921"
             ]
            ],
            "type": "contour"
           }
          ],
          "contourcarpet": [
           {
            "colorbar": {
             "outlinewidth": 0,
             "ticks": ""
            },
            "type": "contourcarpet"
           }
          ],
          "heatmap": [
           {
            "colorbar": {
             "outlinewidth": 0,
             "ticks": ""
            },
            "colorscale": [
             [
              0,
              "#0d0887"
             ],
             [
              0.1111111111111111,
              "#46039f"
             ],
             [
              0.2222222222222222,
              "#7201a8"
             ],
             [
              0.3333333333333333,
              "#9c179e"
             ],
             [
              0.4444444444444444,
              "#bd3786"
             ],
             [
              0.5555555555555556,
              "#d8576b"
             ],
             [
              0.6666666666666666,
              "#ed7953"
             ],
             [
              0.7777777777777778,
              "#fb9f3a"
             ],
             [
              0.8888888888888888,
              "#fdca26"
             ],
             [
              1,
              "#f0f921"
             ]
            ],
            "type": "heatmap"
           }
          ],
          "histogram": [
           {
            "marker": {
             "pattern": {
              "fillmode": "overlay",
              "size": 10,
              "solidity": 0.2
             }
            },
            "type": "histogram"
           }
          ],
          "histogram2d": [
           {
            "colorbar": {
             "outlinewidth": 0,
             "ticks": ""
            },
            "colorscale": [
             [
              0,
              "#0d0887"
             ],
             [
              0.1111111111111111,
              "#46039f"
             ],
             [
              0.2222222222222222,
              "#7201a8"
             ],
             [
              0.3333333333333333,
              "#9c179e"
             ],
             [
              0.4444444444444444,
              "#bd3786"
             ],
             [
              0.5555555555555556,
              "#d8576b"
             ],
             [
              0.6666666666666666,
              "#ed7953"
             ],
             [
              0.7777777777777778,
              "#fb9f3a"
             ],
             [
              0.8888888888888888,
              "#fdca26"
             ],
             [
              1,
              "#f0f921"
             ]
            ],
            "type": "histogram2d"
           }
          ],
          "histogram2dcontour": [
           {
            "colorbar": {
             "outlinewidth": 0,
             "ticks": ""
            },
            "colorscale": [
             [
              0,
              "#0d0887"
             ],
             [
              0.1111111111111111,
              "#46039f"
             ],
             [
              0.2222222222222222,
              "#7201a8"
             ],
             [
              0.3333333333333333,
              "#9c179e"
             ],
             [
              0.4444444444444444,
              "#bd3786"
             ],
             [
              0.5555555555555556,
              "#d8576b"
             ],
             [
              0.6666666666666666,
              "#ed7953"
             ],
             [
              0.7777777777777778,
              "#fb9f3a"
             ],
             [
              0.8888888888888888,
              "#fdca26"
             ],
             [
              1,
              "#f0f921"
             ]
            ],
            "type": "histogram2dcontour"
           }
          ],
          "mesh3d": [
           {
            "colorbar": {
             "outlinewidth": 0,
             "ticks": ""
            },
            "type": "mesh3d"
           }
          ],
          "parcoords": [
           {
            "line": {
             "colorbar": {
              "outlinewidth": 0,
              "ticks": ""
             }
            },
            "type": "parcoords"
           }
          ],
          "pie": [
           {
            "automargin": true,
            "type": "pie"
           }
          ],
          "scatter": [
           {
            "fillpattern": {
             "fillmode": "overlay",
             "size": 10,
             "solidity": 0.2
            },
            "type": "scatter"
           }
          ],
          "scatter3d": [
           {
            "line": {
             "colorbar": {
              "outlinewidth": 0,
              "ticks": ""
             }
            },
            "marker": {
             "colorbar": {
              "outlinewidth": 0,
              "ticks": ""
             }
            },
            "type": "scatter3d"
           }
          ],
          "scattercarpet": [
           {
            "marker": {
             "colorbar": {
              "outlinewidth": 0,
              "ticks": ""
             }
            },
            "type": "scattercarpet"
           }
          ],
          "scattergeo": [
           {
            "marker": {
             "colorbar": {
              "outlinewidth": 0,
              "ticks": ""
             }
            },
            "type": "scattergeo"
           }
          ],
          "scattergl": [
           {
            "marker": {
             "colorbar": {
              "outlinewidth": 0,
              "ticks": ""
             }
            },
            "type": "scattergl"
           }
          ],
          "scattermap": [
           {
            "marker": {
             "colorbar": {
              "outlinewidth": 0,
              "ticks": ""
             }
            },
            "type": "scattermap"
           }
          ],
          "scattermapbox": [
           {
            "marker": {
             "colorbar": {
              "outlinewidth": 0,
              "ticks": ""
             }
            },
            "type": "scattermapbox"
           }
          ],
          "scatterpolar": [
           {
            "marker": {
             "colorbar": {
              "outlinewidth": 0,
              "ticks": ""
             }
            },
            "type": "scatterpolar"
           }
          ],
          "scatterpolargl": [
           {
            "marker": {
             "colorbar": {
              "outlinewidth": 0,
              "ticks": ""
             }
            },
            "type": "scatterpolargl"
           }
          ],
          "scatterternary": [
           {
            "marker": {
             "colorbar": {
              "outlinewidth": 0,
              "ticks": ""
             }
            },
            "type": "scatterternary"
           }
          ],
          "surface": [
           {
            "colorbar": {
             "outlinewidth": 0,
             "ticks": ""
            },
            "colorscale": [
             [
              0,
              "#0d0887"
             ],
             [
              0.1111111111111111,
              "#46039f"
             ],
             [
              0.2222222222222222,
              "#7201a8"
             ],
             [
              0.3333333333333333,
              "#9c179e"
             ],
             [
              0.4444444444444444,
              "#bd3786"
             ],
             [
              0.5555555555555556,
              "#d8576b"
             ],
             [
              0.6666666666666666,
              "#ed7953"
             ],
             [
              0.7777777777777778,
              "#fb9f3a"
             ],
             [
              0.8888888888888888,
              "#fdca26"
             ],
             [
              1,
              "#f0f921"
             ]
            ],
            "type": "surface"
           }
          ],
          "table": [
           {
            "cells": {
             "fill": {
              "color": "#EBF0F8"
             },
             "line": {
              "color": "white"
             }
            },
            "header": {
             "fill": {
              "color": "#C8D4E3"
             },
             "line": {
              "color": "white"
             }
            },
            "type": "table"
           }
          ]
         },
         "layout": {
          "annotationdefaults": {
           "arrowcolor": "#2a3f5f",
           "arrowhead": 0,
           "arrowwidth": 1
          },
          "autotypenumbers": "strict",
          "coloraxis": {
           "colorbar": {
            "outlinewidth": 0,
            "ticks": ""
           }
          },
          "colorscale": {
           "diverging": [
            [
             0,
             "#8e0152"
            ],
            [
             0.1,
             "#c51b7d"
            ],
            [
             0.2,
             "#de77ae"
            ],
            [
             0.3,
             "#f1b6da"
            ],
            [
             0.4,
             "#fde0ef"
            ],
            [
             0.5,
             "#f7f7f7"
            ],
            [
             0.6,
             "#e6f5d0"
            ],
            [
             0.7,
             "#b8e186"
            ],
            [
             0.8,
             "#7fbc41"
            ],
            [
             0.9,
             "#4d9221"
            ],
            [
             1,
             "#276419"
            ]
           ],
           "sequential": [
            [
             0,
             "#0d0887"
            ],
            [
             0.1111111111111111,
             "#46039f"
            ],
            [
             0.2222222222222222,
             "#7201a8"
            ],
            [
             0.3333333333333333,
             "#9c179e"
            ],
            [
             0.4444444444444444,
             "#bd3786"
            ],
            [
             0.5555555555555556,
             "#d8576b"
            ],
            [
             0.6666666666666666,
             "#ed7953"
            ],
            [
             0.7777777777777778,
             "#fb9f3a"
            ],
            [
             0.8888888888888888,
             "#fdca26"
            ],
            [
             1,
             "#f0f921"
            ]
           ],
           "sequentialminus": [
            [
             0,
             "#0d0887"
            ],
            [
             0.1111111111111111,
             "#46039f"
            ],
            [
             0.2222222222222222,
             "#7201a8"
            ],
            [
             0.3333333333333333,
             "#9c179e"
            ],
            [
             0.4444444444444444,
             "#bd3786"
            ],
            [
             0.5555555555555556,
             "#d8576b"
            ],
            [
             0.6666666666666666,
             "#ed7953"
            ],
            [
             0.7777777777777778,
             "#fb9f3a"
            ],
            [
             0.8888888888888888,
             "#fdca26"
            ],
            [
             1,
             "#f0f921"
            ]
           ]
          },
          "colorway": [
           "#636efa",
           "#EF553B",
           "#00cc96",
           "#ab63fa",
           "#FFA15A",
           "#19d3f3",
           "#FF6692",
           "#B6E880",
           "#FF97FF",
           "#FECB52"
          ],
          "font": {
           "color": "#2a3f5f"
          },
          "geo": {
           "bgcolor": "white",
           "lakecolor": "white",
           "landcolor": "#E5ECF6",
           "showlakes": true,
           "showland": true,
           "subunitcolor": "white"
          },
          "hoverlabel": {
           "align": "left"
          },
          "hovermode": "closest",
          "mapbox": {
           "style": "light"
          },
          "paper_bgcolor": "white",
          "plot_bgcolor": "#E5ECF6",
          "polar": {
           "angularaxis": {
            "gridcolor": "white",
            "linecolor": "white",
            "ticks": ""
           },
           "bgcolor": "#E5ECF6",
           "radialaxis": {
            "gridcolor": "white",
            "linecolor": "white",
            "ticks": ""
           }
          },
          "scene": {
           "xaxis": {
            "backgroundcolor": "#E5ECF6",
            "gridcolor": "white",
            "gridwidth": 2,
            "linecolor": "white",
            "showbackground": true,
            "ticks": "",
            "zerolinecolor": "white"
           },
           "yaxis": {
            "backgroundcolor": "#E5ECF6",
            "gridcolor": "white",
            "gridwidth": 2,
            "linecolor": "white",
            "showbackground": true,
            "ticks": "",
            "zerolinecolor": "white"
           },
           "zaxis": {
            "backgroundcolor": "#E5ECF6",
            "gridcolor": "white",
            "gridwidth": 2,
            "linecolor": "white",
            "showbackground": true,
            "ticks": "",
            "zerolinecolor": "white"
           }
          },
          "shapedefaults": {
           "line": {
            "color": "#2a3f5f"
           }
          },
          "ternary": {
           "aaxis": {
            "gridcolor": "white",
            "linecolor": "white",
            "ticks": ""
           },
           "baxis": {
            "gridcolor": "white",
            "linecolor": "white",
            "ticks": ""
           },
           "bgcolor": "#E5ECF6",
           "caxis": {
            "gridcolor": "white",
            "linecolor": "white",
            "ticks": ""
           }
          },
          "title": {
           "x": 0.05
          },
          "xaxis": {
           "automargin": true,
           "gridcolor": "white",
           "linecolor": "white",
           "ticks": "",
           "title": {
            "standoff": 15
           },
           "zerolinecolor": "white",
           "zerolinewidth": 2
          },
          "yaxis": {
           "automargin": true,
           "gridcolor": "white",
           "linecolor": "white",
           "ticks": "",
           "title": {
            "standoff": 15
           },
           "zerolinecolor": "white",
           "zerolinewidth": 2
          }
         }
        },
        "title": {
         "text": "Average Sale Price by Building Type"
        },
        "xaxis": {
         "title": {
          "text": "Building Type"
         }
        },
        "yaxis": {
         "title": {
          "text": "Price"
         }
        }
       }
      }
     },
     "metadata": {},
     "output_type": "display_data"
    }
   ],
   "source": [
    "# 1. Distribution of dwelling types and their relation to sale prices\n",
    "dwelling_types = df_train['BldgType'].value_counts()\n",
    "dwelling_prices = df_train.groupby('BldgType')['SalePrice'].mean()\n",
    "\n",
    "# Format labels for the second graph\n",
    "formatted_dwelling_prices = ['$' + f'{value:,.2f}' for value in dwelling_prices.values]\n",
    "\n",
    "# Create bar charts\n",
    "fig1 = go.Figure(data=[go.Bar(\n",
    "    x=dwelling_types.index,\n",
    "    y=dwelling_types.values,\n",
    "    marker_color='rgb(76, 175, 80)',\n",
    "    text=dwelling_types.values,\n",
    "    textposition='outside',\n",
    "    width=0.4,\n",
    "    marker=dict(line=dict(width=2, color='rgba(0,0,0,1)'), opacity=1)\n",
    ")])\n",
    "fig1.update_layout(\n",
    "    title='Distribution of Building Types',\n",
    "    xaxis_title='Building Type',\n",
    "    yaxis_title='Count',\n",
    "    plot_bgcolor='rgba(34, 34, 34, 1)',\n",
    "    paper_bgcolor='rgba(34, 34, 34, 1)',\n",
    "    font=dict(color='white')\n",
    ")\n",
    "\n",
    "fig2 = go.Figure(data=[go.Bar(\n",
    "    x=dwelling_prices.index,\n",
    "    y=dwelling_prices.values,\n",
    "    marker_color='rgb(156, 39, 176)',\n",
    "    text=formatted_dwelling_prices,\n",
    "    textposition='outside',\n",
    "    width=0.4,\n",
    "    marker=dict(line=dict(width=2, color='rgba(0,0,0,1)'), opacity=1)\n",
    ")])\n",
    "fig2.update_layout(\n",
    "    title='Average Sale Price by Building Type',\n",
    "    xaxis_title='Building Type',\n",
    "    yaxis_title='Price',\n",
    "    plot_bgcolor='rgba(34, 34, 34, 1)',\n",
    "    paper_bgcolor='rgba(34, 34, 34, 1)',\n",
    "    font=dict(color='white')\n",
    ")\n",
    "\n",
    "# Show the figures\n",
    "fig1.show()\n",
    "fig2.show()"
   ]
  },
  {
   "cell_type": "code",
   "execution_count": 39,
   "metadata": {},
   "outputs": [
    {
     "data": {
      "application/vnd.plotly.v1+json": {
       "config": {
        "plotlyServerURL": "https://plot.ly"
       },
       "data": [
        {
         "hovertemplate": "x=%{x}<br>y=%{y}<br>text=%{text}<extra></extra>",
         "legendgroup": "",
         "marker": {
          "color": "purple",
          "pattern": {
           "shape": ""
          }
         },
         "name": "",
         "orientation": "v",
         "showlegend": false,
         "text": {
          "bdata": "AAAAAAAy8kB+4Ad+8B8KQQAAAAAzDwBB/vVS9edQB0HMrc5Izdb+QA==",
          "dtype": "f8"
         },
         "textposition": "outside",
         "texttemplate": "$%{text:,.0f}",
         "type": "bar",
         "x": [
          "C (all)",
          "FV",
          "RH",
          "RL",
          "RM"
         ],
         "xaxis": "x",
         "y": {
          "bdata": "AAAAAAAy8kB+4Ad+8B8KQQAAAAAzDwBB/vVS9edQB0HMrc5Izdb+QA==",
          "dtype": "f8"
         },
         "yaxis": "y"
        }
       ],
       "layout": {
        "barmode": "relative",
        "legend": {
         "tracegroupgap": 0
        },
        "template": {
         "data": {
          "bar": [
           {
            "error_x": {
             "color": "#f2f5fa"
            },
            "error_y": {
             "color": "#f2f5fa"
            },
            "marker": {
             "line": {
              "color": "rgb(17,17,17)",
              "width": 0.5
             },
             "pattern": {
              "fillmode": "overlay",
              "size": 10,
              "solidity": 0.2
             }
            },
            "type": "bar"
           }
          ],
          "barpolar": [
           {
            "marker": {
             "line": {
              "color": "rgb(17,17,17)",
              "width": 0.5
             },
             "pattern": {
              "fillmode": "overlay",
              "size": 10,
              "solidity": 0.2
             }
            },
            "type": "barpolar"
           }
          ],
          "carpet": [
           {
            "aaxis": {
             "endlinecolor": "#A2B1C6",
             "gridcolor": "#506784",
             "linecolor": "#506784",
             "minorgridcolor": "#506784",
             "startlinecolor": "#A2B1C6"
            },
            "baxis": {
             "endlinecolor": "#A2B1C6",
             "gridcolor": "#506784",
             "linecolor": "#506784",
             "minorgridcolor": "#506784",
             "startlinecolor": "#A2B1C6"
            },
            "type": "carpet"
           }
          ],
          "choropleth": [
           {
            "colorbar": {
             "outlinewidth": 0,
             "ticks": ""
            },
            "type": "choropleth"
           }
          ],
          "contour": [
           {
            "colorbar": {
             "outlinewidth": 0,
             "ticks": ""
            },
            "colorscale": [
             [
              0,
              "#0d0887"
             ],
             [
              0.1111111111111111,
              "#46039f"
             ],
             [
              0.2222222222222222,
              "#7201a8"
             ],
             [
              0.3333333333333333,
              "#9c179e"
             ],
             [
              0.4444444444444444,
              "#bd3786"
             ],
             [
              0.5555555555555556,
              "#d8576b"
             ],
             [
              0.6666666666666666,
              "#ed7953"
             ],
             [
              0.7777777777777778,
              "#fb9f3a"
             ],
             [
              0.8888888888888888,
              "#fdca26"
             ],
             [
              1,
              "#f0f921"
             ]
            ],
            "type": "contour"
           }
          ],
          "contourcarpet": [
           {
            "colorbar": {
             "outlinewidth": 0,
             "ticks": ""
            },
            "type": "contourcarpet"
           }
          ],
          "heatmap": [
           {
            "colorbar": {
             "outlinewidth": 0,
             "ticks": ""
            },
            "colorscale": [
             [
              0,
              "#0d0887"
             ],
             [
              0.1111111111111111,
              "#46039f"
             ],
             [
              0.2222222222222222,
              "#7201a8"
             ],
             [
              0.3333333333333333,
              "#9c179e"
             ],
             [
              0.4444444444444444,
              "#bd3786"
             ],
             [
              0.5555555555555556,
              "#d8576b"
             ],
             [
              0.6666666666666666,
              "#ed7953"
             ],
             [
              0.7777777777777778,
              "#fb9f3a"
             ],
             [
              0.8888888888888888,
              "#fdca26"
             ],
             [
              1,
              "#f0f921"
             ]
            ],
            "type": "heatmap"
           }
          ],
          "histogram": [
           {
            "marker": {
             "pattern": {
              "fillmode": "overlay",
              "size": 10,
              "solidity": 0.2
             }
            },
            "type": "histogram"
           }
          ],
          "histogram2d": [
           {
            "colorbar": {
             "outlinewidth": 0,
             "ticks": ""
            },
            "colorscale": [
             [
              0,
              "#0d0887"
             ],
             [
              0.1111111111111111,
              "#46039f"
             ],
             [
              0.2222222222222222,
              "#7201a8"
             ],
             [
              0.3333333333333333,
              "#9c179e"
             ],
             [
              0.4444444444444444,
              "#bd3786"
             ],
             [
              0.5555555555555556,
              "#d8576b"
             ],
             [
              0.6666666666666666,
              "#ed7953"
             ],
             [
              0.7777777777777778,
              "#fb9f3a"
             ],
             [
              0.8888888888888888,
              "#fdca26"
             ],
             [
              1,
              "#f0f921"
             ]
            ],
            "type": "histogram2d"
           }
          ],
          "histogram2dcontour": [
           {
            "colorbar": {
             "outlinewidth": 0,
             "ticks": ""
            },
            "colorscale": [
             [
              0,
              "#0d0887"
             ],
             [
              0.1111111111111111,
              "#46039f"
             ],
             [
              0.2222222222222222,
              "#7201a8"
             ],
             [
              0.3333333333333333,
              "#9c179e"
             ],
             [
              0.4444444444444444,
              "#bd3786"
             ],
             [
              0.5555555555555556,
              "#d8576b"
             ],
             [
              0.6666666666666666,
              "#ed7953"
             ],
             [
              0.7777777777777778,
              "#fb9f3a"
             ],
             [
              0.8888888888888888,
              "#fdca26"
             ],
             [
              1,
              "#f0f921"
             ]
            ],
            "type": "histogram2dcontour"
           }
          ],
          "mesh3d": [
           {
            "colorbar": {
             "outlinewidth": 0,
             "ticks": ""
            },
            "type": "mesh3d"
           }
          ],
          "parcoords": [
           {
            "line": {
             "colorbar": {
              "outlinewidth": 0,
              "ticks": ""
             }
            },
            "type": "parcoords"
           }
          ],
          "pie": [
           {
            "automargin": true,
            "type": "pie"
           }
          ],
          "scatter": [
           {
            "marker": {
             "line": {
              "color": "#283442"
             }
            },
            "type": "scatter"
           }
          ],
          "scatter3d": [
           {
            "line": {
             "colorbar": {
              "outlinewidth": 0,
              "ticks": ""
             }
            },
            "marker": {
             "colorbar": {
              "outlinewidth": 0,
              "ticks": ""
             }
            },
            "type": "scatter3d"
           }
          ],
          "scattercarpet": [
           {
            "marker": {
             "colorbar": {
              "outlinewidth": 0,
              "ticks": ""
             }
            },
            "type": "scattercarpet"
           }
          ],
          "scattergeo": [
           {
            "marker": {
             "colorbar": {
              "outlinewidth": 0,
              "ticks": ""
             }
            },
            "type": "scattergeo"
           }
          ],
          "scattergl": [
           {
            "marker": {
             "line": {
              "color": "#283442"
             }
            },
            "type": "scattergl"
           }
          ],
          "scattermap": [
           {
            "marker": {
             "colorbar": {
              "outlinewidth": 0,
              "ticks": ""
             }
            },
            "type": "scattermap"
           }
          ],
          "scattermapbox": [
           {
            "marker": {
             "colorbar": {
              "outlinewidth": 0,
              "ticks": ""
             }
            },
            "type": "scattermapbox"
           }
          ],
          "scatterpolar": [
           {
            "marker": {
             "colorbar": {
              "outlinewidth": 0,
              "ticks": ""
             }
            },
            "type": "scatterpolar"
           }
          ],
          "scatterpolargl": [
           {
            "marker": {
             "colorbar": {
              "outlinewidth": 0,
              "ticks": ""
             }
            },
            "type": "scatterpolargl"
           }
          ],
          "scatterternary": [
           {
            "marker": {
             "colorbar": {
              "outlinewidth": 0,
              "ticks": ""
             }
            },
            "type": "scatterternary"
           }
          ],
          "surface": [
           {
            "colorbar": {
             "outlinewidth": 0,
             "ticks": ""
            },
            "colorscale": [
             [
              0,
              "#0d0887"
             ],
             [
              0.1111111111111111,
              "#46039f"
             ],
             [
              0.2222222222222222,
              "#7201a8"
             ],
             [
              0.3333333333333333,
              "#9c179e"
             ],
             [
              0.4444444444444444,
              "#bd3786"
             ],
             [
              0.5555555555555556,
              "#d8576b"
             ],
             [
              0.6666666666666666,
              "#ed7953"
             ],
             [
              0.7777777777777778,
              "#fb9f3a"
             ],
             [
              0.8888888888888888,
              "#fdca26"
             ],
             [
              1,
              "#f0f921"
             ]
            ],
            "type": "surface"
           }
          ],
          "table": [
           {
            "cells": {
             "fill": {
              "color": "#506784"
             },
             "line": {
              "color": "rgb(17,17,17)"
             }
            },
            "header": {
             "fill": {
              "color": "#2a3f5f"
             },
             "line": {
              "color": "rgb(17,17,17)"
             }
            },
            "type": "table"
           }
          ]
         },
         "layout": {
          "annotationdefaults": {
           "arrowcolor": "#f2f5fa",
           "arrowhead": 0,
           "arrowwidth": 1
          },
          "autotypenumbers": "strict",
          "coloraxis": {
           "colorbar": {
            "outlinewidth": 0,
            "ticks": ""
           }
          },
          "colorscale": {
           "diverging": [
            [
             0,
             "#8e0152"
            ],
            [
             0.1,
             "#c51b7d"
            ],
            [
             0.2,
             "#de77ae"
            ],
            [
             0.3,
             "#f1b6da"
            ],
            [
             0.4,
             "#fde0ef"
            ],
            [
             0.5,
             "#f7f7f7"
            ],
            [
             0.6,
             "#e6f5d0"
            ],
            [
             0.7,
             "#b8e186"
            ],
            [
             0.8,
             "#7fbc41"
            ],
            [
             0.9,
             "#4d9221"
            ],
            [
             1,
             "#276419"
            ]
           ],
           "sequential": [
            [
             0,
             "#0d0887"
            ],
            [
             0.1111111111111111,
             "#46039f"
            ],
            [
             0.2222222222222222,
             "#7201a8"
            ],
            [
             0.3333333333333333,
             "#9c179e"
            ],
            [
             0.4444444444444444,
             "#bd3786"
            ],
            [
             0.5555555555555556,
             "#d8576b"
            ],
            [
             0.6666666666666666,
             "#ed7953"
            ],
            [
             0.7777777777777778,
             "#fb9f3a"
            ],
            [
             0.8888888888888888,
             "#fdca26"
            ],
            [
             1,
             "#f0f921"
            ]
           ],
           "sequentialminus": [
            [
             0,
             "#0d0887"
            ],
            [
             0.1111111111111111,
             "#46039f"
            ],
            [
             0.2222222222222222,
             "#7201a8"
            ],
            [
             0.3333333333333333,
             "#9c179e"
            ],
            [
             0.4444444444444444,
             "#bd3786"
            ],
            [
             0.5555555555555556,
             "#d8576b"
            ],
            [
             0.6666666666666666,
             "#ed7953"
            ],
            [
             0.7777777777777778,
             "#fb9f3a"
            ],
            [
             0.8888888888888888,
             "#fdca26"
            ],
            [
             1,
             "#f0f921"
            ]
           ]
          },
          "colorway": [
           "#636efa",
           "#EF553B",
           "#00cc96",
           "#ab63fa",
           "#FFA15A",
           "#19d3f3",
           "#FF6692",
           "#B6E880",
           "#FF97FF",
           "#FECB52"
          ],
          "font": {
           "color": "#f2f5fa"
          },
          "geo": {
           "bgcolor": "rgb(17,17,17)",
           "lakecolor": "rgb(17,17,17)",
           "landcolor": "rgb(17,17,17)",
           "showlakes": true,
           "showland": true,
           "subunitcolor": "#506784"
          },
          "hoverlabel": {
           "align": "left"
          },
          "hovermode": "closest",
          "mapbox": {
           "style": "dark"
          },
          "paper_bgcolor": "rgb(17,17,17)",
          "plot_bgcolor": "rgb(17,17,17)",
          "polar": {
           "angularaxis": {
            "gridcolor": "#506784",
            "linecolor": "#506784",
            "ticks": ""
           },
           "bgcolor": "rgb(17,17,17)",
           "radialaxis": {
            "gridcolor": "#506784",
            "linecolor": "#506784",
            "ticks": ""
           }
          },
          "scene": {
           "xaxis": {
            "backgroundcolor": "rgb(17,17,17)",
            "gridcolor": "#506784",
            "gridwidth": 2,
            "linecolor": "#506784",
            "showbackground": true,
            "ticks": "",
            "zerolinecolor": "#C8D4E3"
           },
           "yaxis": {
            "backgroundcolor": "rgb(17,17,17)",
            "gridcolor": "#506784",
            "gridwidth": 2,
            "linecolor": "#506784",
            "showbackground": true,
            "ticks": "",
            "zerolinecolor": "#C8D4E3"
           },
           "zaxis": {
            "backgroundcolor": "rgb(17,17,17)",
            "gridcolor": "#506784",
            "gridwidth": 2,
            "linecolor": "#506784",
            "showbackground": true,
            "ticks": "",
            "zerolinecolor": "#C8D4E3"
           }
          },
          "shapedefaults": {
           "line": {
            "color": "#f2f5fa"
           }
          },
          "sliderdefaults": {
           "bgcolor": "#C8D4E3",
           "bordercolor": "rgb(17,17,17)",
           "borderwidth": 1,
           "tickwidth": 0
          },
          "ternary": {
           "aaxis": {
            "gridcolor": "#506784",
            "linecolor": "#506784",
            "ticks": ""
           },
           "baxis": {
            "gridcolor": "#506784",
            "linecolor": "#506784",
            "ticks": ""
           },
           "bgcolor": "rgb(17,17,17)",
           "caxis": {
            "gridcolor": "#506784",
            "linecolor": "#506784",
            "ticks": ""
           }
          },
          "title": {
           "x": 0.05
          },
          "updatemenudefaults": {
           "bgcolor": "#506784",
           "borderwidth": 0
          },
          "xaxis": {
           "automargin": true,
           "gridcolor": "#283442",
           "linecolor": "#506784",
           "ticks": "",
           "title": {
            "standoff": 15
           },
           "zerolinecolor": "#283442",
           "zerolinewidth": 2
          },
          "yaxis": {
           "automargin": true,
           "gridcolor": "#283442",
           "linecolor": "#506784",
           "ticks": "",
           "title": {
            "standoff": 15
           },
           "zerolinecolor": "#283442",
           "zerolinewidth": 2
          }
         }
        },
        "title": {
         "text": "Average Sale Price by Zoning"
        },
        "uniformtext": {
         "minsize": 8,
         "mode": "hide"
        },
        "xaxis": {
         "anchor": "y",
         "domain": [
          0,
          1
         ],
         "title": {
          "text": "Zoning"
         }
        },
        "yaxis": {
         "anchor": "x",
         "domain": [
          0,
          1
         ],
         "tickformat": ",",
         "tickprefix": "$",
         "title": {
          "text": "Sale Price"
         }
        }
       }
      }
     },
     "metadata": {},
     "output_type": "display_data"
    }
   ],
   "source": [
    "zoning_prices = df_train.groupby('MSZoning')['SalePrice'].mean()\n",
    "fig3 = px.bar(x=zoning_prices.index, y=zoning_prices.values, title='Average Sale Price by Zoning',\n",
    "              color_discrete_sequence=['purple', 'green'], text=zoning_prices.values,\n",
    "              template='plotly_dark')\n",
    "\n",
    "fig3.update_traces(texttemplate='$%{text:,.0f}', textposition='outside')\n",
    "fig3.update_yaxes(title='Sale Price', tickprefix='$', tickformat=',')\n",
    "fig3.update_xaxes(title='Zoning')\n",
    "fig3.update_layout(uniformtext_minsize=8, uniformtext_mode='hide')\n",
    "\n",
    "fig3.show()"
   ]
  },
  {
   "cell_type": "code",
   "execution_count": 40,
   "metadata": {},
   "outputs": [
    {
     "data": {
      "application/vnd.plotly.v1+json": {
       "config": {
        "plotlyServerURL": "https://plot.ly"
       },
       "data": [
        {
         "hovertemplate": "color=green<br>x=%{x}<br>y=%{y}<br>text=%{text}<extra></extra>",
         "legendgroup": "green",
         "marker": {
          "color": "purple",
          "pattern": {
           "shape": ""
          }
         },
         "name": "green",
         "orientation": "v",
         "showlegend": true,
         "text": {
          "bdata": "AAAAAOjI/0A=",
          "dtype": "f8"
         },
         "textposition": "outside",
         "texttemplate": "$%{text:,.0f}",
         "type": "bar",
         "x": [
          "Grvl"
         ],
         "xaxis": "x",
         "y": {
          "bdata": "AAAAAOjI/0A=",
          "dtype": "f8"
         },
         "yaxis": "y"
        },
        {
         "hovertemplate": "color=purple<br>x=%{x}<br>y=%{y}<br>text=%{text}<extra></extra>",
         "legendgroup": "purple",
         "marker": {
          "color": "green",
          "pattern": {
           "shape": ""
          }
         },
         "name": "purple",
         "orientation": "v",
         "showlegend": true,
         "text": {
          "bdata": "BqngTlQcBkE=",
          "dtype": "f8"
         },
         "textposition": "outside",
         "texttemplate": "$%{text:,.0f}",
         "type": "bar",
         "x": [
          "Pave"
         ],
         "xaxis": "x",
         "y": {
          "bdata": "BqngTlQcBkE=",
          "dtype": "f8"
         },
         "yaxis": "y"
        }
       ],
       "layout": {
        "barmode": "relative",
        "legend": {
         "title": {
          "text": "color"
         },
         "tracegroupgap": 0
        },
        "showlegend": false,
        "template": {
         "data": {
          "bar": [
           {
            "error_x": {
             "color": "#f2f5fa"
            },
            "error_y": {
             "color": "#f2f5fa"
            },
            "marker": {
             "line": {
              "color": "rgb(17,17,17)",
              "width": 0.5
             },
             "pattern": {
              "fillmode": "overlay",
              "size": 10,
              "solidity": 0.2
             }
            },
            "type": "bar"
           }
          ],
          "barpolar": [
           {
            "marker": {
             "line": {
              "color": "rgb(17,17,17)",
              "width": 0.5
             },
             "pattern": {
              "fillmode": "overlay",
              "size": 10,
              "solidity": 0.2
             }
            },
            "type": "barpolar"
           }
          ],
          "carpet": [
           {
            "aaxis": {
             "endlinecolor": "#A2B1C6",
             "gridcolor": "#506784",
             "linecolor": "#506784",
             "minorgridcolor": "#506784",
             "startlinecolor": "#A2B1C6"
            },
            "baxis": {
             "endlinecolor": "#A2B1C6",
             "gridcolor": "#506784",
             "linecolor": "#506784",
             "minorgridcolor": "#506784",
             "startlinecolor": "#A2B1C6"
            },
            "type": "carpet"
           }
          ],
          "choropleth": [
           {
            "colorbar": {
             "outlinewidth": 0,
             "ticks": ""
            },
            "type": "choropleth"
           }
          ],
          "contour": [
           {
            "colorbar": {
             "outlinewidth": 0,
             "ticks": ""
            },
            "colorscale": [
             [
              0,
              "#0d0887"
             ],
             [
              0.1111111111111111,
              "#46039f"
             ],
             [
              0.2222222222222222,
              "#7201a8"
             ],
             [
              0.3333333333333333,
              "#9c179e"
             ],
             [
              0.4444444444444444,
              "#bd3786"
             ],
             [
              0.5555555555555556,
              "#d8576b"
             ],
             [
              0.6666666666666666,
              "#ed7953"
             ],
             [
              0.7777777777777778,
              "#fb9f3a"
             ],
             [
              0.8888888888888888,
              "#fdca26"
             ],
             [
              1,
              "#f0f921"
             ]
            ],
            "type": "contour"
           }
          ],
          "contourcarpet": [
           {
            "colorbar": {
             "outlinewidth": 0,
             "ticks": ""
            },
            "type": "contourcarpet"
           }
          ],
          "heatmap": [
           {
            "colorbar": {
             "outlinewidth": 0,
             "ticks": ""
            },
            "colorscale": [
             [
              0,
              "#0d0887"
             ],
             [
              0.1111111111111111,
              "#46039f"
             ],
             [
              0.2222222222222222,
              "#7201a8"
             ],
             [
              0.3333333333333333,
              "#9c179e"
             ],
             [
              0.4444444444444444,
              "#bd3786"
             ],
             [
              0.5555555555555556,
              "#d8576b"
             ],
             [
              0.6666666666666666,
              "#ed7953"
             ],
             [
              0.7777777777777778,
              "#fb9f3a"
             ],
             [
              0.8888888888888888,
              "#fdca26"
             ],
             [
              1,
              "#f0f921"
             ]
            ],
            "type": "heatmap"
           }
          ],
          "histogram": [
           {
            "marker": {
             "pattern": {
              "fillmode": "overlay",
              "size": 10,
              "solidity": 0.2
             }
            },
            "type": "histogram"
           }
          ],
          "histogram2d": [
           {
            "colorbar": {
             "outlinewidth": 0,
             "ticks": ""
            },
            "colorscale": [
             [
              0,
              "#0d0887"
             ],
             [
              0.1111111111111111,
              "#46039f"
             ],
             [
              0.2222222222222222,
              "#7201a8"
             ],
             [
              0.3333333333333333,
              "#9c179e"
             ],
             [
              0.4444444444444444,
              "#bd3786"
             ],
             [
              0.5555555555555556,
              "#d8576b"
             ],
             [
              0.6666666666666666,
              "#ed7953"
             ],
             [
              0.7777777777777778,
              "#fb9f3a"
             ],
             [
              0.8888888888888888,
              "#fdca26"
             ],
             [
              1,
              "#f0f921"
             ]
            ],
            "type": "histogram2d"
           }
          ],
          "histogram2dcontour": [
           {
            "colorbar": {
             "outlinewidth": 0,
             "ticks": ""
            },
            "colorscale": [
             [
              0,
              "#0d0887"
             ],
             [
              0.1111111111111111,
              "#46039f"
             ],
             [
              0.2222222222222222,
              "#7201a8"
             ],
             [
              0.3333333333333333,
              "#9c179e"
             ],
             [
              0.4444444444444444,
              "#bd3786"
             ],
             [
              0.5555555555555556,
              "#d8576b"
             ],
             [
              0.6666666666666666,
              "#ed7953"
             ],
             [
              0.7777777777777778,
              "#fb9f3a"
             ],
             [
              0.8888888888888888,
              "#fdca26"
             ],
             [
              1,
              "#f0f921"
             ]
            ],
            "type": "histogram2dcontour"
           }
          ],
          "mesh3d": [
           {
            "colorbar": {
             "outlinewidth": 0,
             "ticks": ""
            },
            "type": "mesh3d"
           }
          ],
          "parcoords": [
           {
            "line": {
             "colorbar": {
              "outlinewidth": 0,
              "ticks": ""
             }
            },
            "type": "parcoords"
           }
          ],
          "pie": [
           {
            "automargin": true,
            "type": "pie"
           }
          ],
          "scatter": [
           {
            "marker": {
             "line": {
              "color": "#283442"
             }
            },
            "type": "scatter"
           }
          ],
          "scatter3d": [
           {
            "line": {
             "colorbar": {
              "outlinewidth": 0,
              "ticks": ""
             }
            },
            "marker": {
             "colorbar": {
              "outlinewidth": 0,
              "ticks": ""
             }
            },
            "type": "scatter3d"
           }
          ],
          "scattercarpet": [
           {
            "marker": {
             "colorbar": {
              "outlinewidth": 0,
              "ticks": ""
             }
            },
            "type": "scattercarpet"
           }
          ],
          "scattergeo": [
           {
            "marker": {
             "colorbar": {
              "outlinewidth": 0,
              "ticks": ""
             }
            },
            "type": "scattergeo"
           }
          ],
          "scattergl": [
           {
            "marker": {
             "line": {
              "color": "#283442"
             }
            },
            "type": "scattergl"
           }
          ],
          "scattermap": [
           {
            "marker": {
             "colorbar": {
              "outlinewidth": 0,
              "ticks": ""
             }
            },
            "type": "scattermap"
           }
          ],
          "scattermapbox": [
           {
            "marker": {
             "colorbar": {
              "outlinewidth": 0,
              "ticks": ""
             }
            },
            "type": "scattermapbox"
           }
          ],
          "scatterpolar": [
           {
            "marker": {
             "colorbar": {
              "outlinewidth": 0,
              "ticks": ""
             }
            },
            "type": "scatterpolar"
           }
          ],
          "scatterpolargl": [
           {
            "marker": {
             "colorbar": {
              "outlinewidth": 0,
              "ticks": ""
             }
            },
            "type": "scatterpolargl"
           }
          ],
          "scatterternary": [
           {
            "marker": {
             "colorbar": {
              "outlinewidth": 0,
              "ticks": ""
             }
            },
            "type": "scatterternary"
           }
          ],
          "surface": [
           {
            "colorbar": {
             "outlinewidth": 0,
             "ticks": ""
            },
            "colorscale": [
             [
              0,
              "#0d0887"
             ],
             [
              0.1111111111111111,
              "#46039f"
             ],
             [
              0.2222222222222222,
              "#7201a8"
             ],
             [
              0.3333333333333333,
              "#9c179e"
             ],
             [
              0.4444444444444444,
              "#bd3786"
             ],
             [
              0.5555555555555556,
              "#d8576b"
             ],
             [
              0.6666666666666666,
              "#ed7953"
             ],
             [
              0.7777777777777778,
              "#fb9f3a"
             ],
             [
              0.8888888888888888,
              "#fdca26"
             ],
             [
              1,
              "#f0f921"
             ]
            ],
            "type": "surface"
           }
          ],
          "table": [
           {
            "cells": {
             "fill": {
              "color": "#506784"
             },
             "line": {
              "color": "rgb(17,17,17)"
             }
            },
            "header": {
             "fill": {
              "color": "#2a3f5f"
             },
             "line": {
              "color": "rgb(17,17,17)"
             }
            },
            "type": "table"
           }
          ]
         },
         "layout": {
          "annotationdefaults": {
           "arrowcolor": "#f2f5fa",
           "arrowhead": 0,
           "arrowwidth": 1
          },
          "autotypenumbers": "strict",
          "coloraxis": {
           "colorbar": {
            "outlinewidth": 0,
            "ticks": ""
           }
          },
          "colorscale": {
           "diverging": [
            [
             0,
             "#8e0152"
            ],
            [
             0.1,
             "#c51b7d"
            ],
            [
             0.2,
             "#de77ae"
            ],
            [
             0.3,
             "#f1b6da"
            ],
            [
             0.4,
             "#fde0ef"
            ],
            [
             0.5,
             "#f7f7f7"
            ],
            [
             0.6,
             "#e6f5d0"
            ],
            [
             0.7,
             "#b8e186"
            ],
            [
             0.8,
             "#7fbc41"
            ],
            [
             0.9,
             "#4d9221"
            ],
            [
             1,
             "#276419"
            ]
           ],
           "sequential": [
            [
             0,
             "#0d0887"
            ],
            [
             0.1111111111111111,
             "#46039f"
            ],
            [
             0.2222222222222222,
             "#7201a8"
            ],
            [
             0.3333333333333333,
             "#9c179e"
            ],
            [
             0.4444444444444444,
             "#bd3786"
            ],
            [
             0.5555555555555556,
             "#d8576b"
            ],
            [
             0.6666666666666666,
             "#ed7953"
            ],
            [
             0.7777777777777778,
             "#fb9f3a"
            ],
            [
             0.8888888888888888,
             "#fdca26"
            ],
            [
             1,
             "#f0f921"
            ]
           ],
           "sequentialminus": [
            [
             0,
             "#0d0887"
            ],
            [
             0.1111111111111111,
             "#46039f"
            ],
            [
             0.2222222222222222,
             "#7201a8"
            ],
            [
             0.3333333333333333,
             "#9c179e"
            ],
            [
             0.4444444444444444,
             "#bd3786"
            ],
            [
             0.5555555555555556,
             "#d8576b"
            ],
            [
             0.6666666666666666,
             "#ed7953"
            ],
            [
             0.7777777777777778,
             "#fb9f3a"
            ],
            [
             0.8888888888888888,
             "#fdca26"
            ],
            [
             1,
             "#f0f921"
            ]
           ]
          },
          "colorway": [
           "#636efa",
           "#EF553B",
           "#00cc96",
           "#ab63fa",
           "#FFA15A",
           "#19d3f3",
           "#FF6692",
           "#B6E880",
           "#FF97FF",
           "#FECB52"
          ],
          "font": {
           "color": "#f2f5fa"
          },
          "geo": {
           "bgcolor": "rgb(17,17,17)",
           "lakecolor": "rgb(17,17,17)",
           "landcolor": "rgb(17,17,17)",
           "showlakes": true,
           "showland": true,
           "subunitcolor": "#506784"
          },
          "hoverlabel": {
           "align": "left"
          },
          "hovermode": "closest",
          "mapbox": {
           "style": "dark"
          },
          "paper_bgcolor": "rgb(17,17,17)",
          "plot_bgcolor": "rgb(17,17,17)",
          "polar": {
           "angularaxis": {
            "gridcolor": "#506784",
            "linecolor": "#506784",
            "ticks": ""
           },
           "bgcolor": "rgb(17,17,17)",
           "radialaxis": {
            "gridcolor": "#506784",
            "linecolor": "#506784",
            "ticks": ""
           }
          },
          "scene": {
           "xaxis": {
            "backgroundcolor": "rgb(17,17,17)",
            "gridcolor": "#506784",
            "gridwidth": 2,
            "linecolor": "#506784",
            "showbackground": true,
            "ticks": "",
            "zerolinecolor": "#C8D4E3"
           },
           "yaxis": {
            "backgroundcolor": "rgb(17,17,17)",
            "gridcolor": "#506784",
            "gridwidth": 2,
            "linecolor": "#506784",
            "showbackground": true,
            "ticks": "",
            "zerolinecolor": "#C8D4E3"
           },
           "zaxis": {
            "backgroundcolor": "rgb(17,17,17)",
            "gridcolor": "#506784",
            "gridwidth": 2,
            "linecolor": "#506784",
            "showbackground": true,
            "ticks": "",
            "zerolinecolor": "#C8D4E3"
           }
          },
          "shapedefaults": {
           "line": {
            "color": "#f2f5fa"
           }
          },
          "sliderdefaults": {
           "bgcolor": "#C8D4E3",
           "bordercolor": "rgb(17,17,17)",
           "borderwidth": 1,
           "tickwidth": 0
          },
          "ternary": {
           "aaxis": {
            "gridcolor": "#506784",
            "linecolor": "#506784",
            "ticks": ""
           },
           "baxis": {
            "gridcolor": "#506784",
            "linecolor": "#506784",
            "ticks": ""
           },
           "bgcolor": "rgb(17,17,17)",
           "caxis": {
            "gridcolor": "#506784",
            "linecolor": "#506784",
            "ticks": ""
           }
          },
          "title": {
           "x": 0.05
          },
          "updatemenudefaults": {
           "bgcolor": "#506784",
           "borderwidth": 0
          },
          "xaxis": {
           "automargin": true,
           "gridcolor": "#283442",
           "linecolor": "#506784",
           "ticks": "",
           "title": {
            "standoff": 15
           },
           "zerolinecolor": "#283442",
           "zerolinewidth": 2
          },
          "yaxis": {
           "automargin": true,
           "gridcolor": "#283442",
           "linecolor": "#506784",
           "ticks": "",
           "title": {
            "standoff": 15
           },
           "zerolinecolor": "#283442",
           "zerolinewidth": 2
          }
         }
        },
        "title": {
         "text": "Average Sale Price by street type"
        },
        "xaxis": {
         "anchor": "y",
         "domain": [
          0,
          1
         ],
         "title": {
          "text": "Street type"
         }
        },
        "yaxis": {
         "anchor": "x",
         "domain": [
          0,
          1
         ],
         "tickformat": ",",
         "tickprefix": "$",
         "title": {
          "text": "Sale Price"
         }
        }
       }
      }
     },
     "metadata": {},
     "output_type": "display_data"
    },
    {
     "data": {
      "application/vnd.plotly.v1+json": {
       "config": {
        "plotlyServerURL": "https://plot.ly"
       },
       "data": [
        {
         "hovertemplate": "color=green<br>x=%{x}<br>y=%{y}<br>text=%{text}<extra></extra>",
         "legendgroup": "green",
         "marker": {
          "color": "purple",
          "pattern": {
           "shape": ""
          }
         },
         "name": "green",
         "orientation": "v",
         "showlegend": true,
         "text": {
          "bdata": "exSuR7HW/UBG30YN4WQGQQ==",
          "dtype": "f8"
         },
         "textposition": "outside",
         "texttemplate": "$%{text:,.0f}",
         "type": "bar",
         "x": [
          "Grvl",
          "None"
         ],
         "xaxis": "x",
         "y": {
          "bdata": "exSuR7HW/UBG30YN4WQGQQ==",
          "dtype": "f8"
         },
         "yaxis": "y"
        },
        {
         "hovertemplate": "color=purple<br>x=%{x}<br>y=%{y}<br>text=%{text}<extra></extra>",
         "legendgroup": "purple",
         "marker": {
          "color": "green",
          "pattern": {
           "shape": ""
          }
         },
         "name": "purple",
         "orientation": "v",
         "showlegend": true,
         "text": {
          "bdata": "7UrUrgSCBEE=",
          "dtype": "f8"
         },
         "textposition": "outside",
         "texttemplate": "$%{text:,.0f}",
         "type": "bar",
         "x": [
          "Pave"
         ],
         "xaxis": "x",
         "y": {
          "bdata": "7UrUrgSCBEE=",
          "dtype": "f8"
         },
         "yaxis": "y"
        }
       ],
       "layout": {
        "barmode": "relative",
        "legend": {
         "title": {
          "text": "color"
         },
         "tracegroupgap": 0
        },
        "showlegend": false,
        "template": {
         "data": {
          "bar": [
           {
            "error_x": {
             "color": "#f2f5fa"
            },
            "error_y": {
             "color": "#f2f5fa"
            },
            "marker": {
             "line": {
              "color": "rgb(17,17,17)",
              "width": 0.5
             },
             "pattern": {
              "fillmode": "overlay",
              "size": 10,
              "solidity": 0.2
             }
            },
            "type": "bar"
           }
          ],
          "barpolar": [
           {
            "marker": {
             "line": {
              "color": "rgb(17,17,17)",
              "width": 0.5
             },
             "pattern": {
              "fillmode": "overlay",
              "size": 10,
              "solidity": 0.2
             }
            },
            "type": "barpolar"
           }
          ],
          "carpet": [
           {
            "aaxis": {
             "endlinecolor": "#A2B1C6",
             "gridcolor": "#506784",
             "linecolor": "#506784",
             "minorgridcolor": "#506784",
             "startlinecolor": "#A2B1C6"
            },
            "baxis": {
             "endlinecolor": "#A2B1C6",
             "gridcolor": "#506784",
             "linecolor": "#506784",
             "minorgridcolor": "#506784",
             "startlinecolor": "#A2B1C6"
            },
            "type": "carpet"
           }
          ],
          "choropleth": [
           {
            "colorbar": {
             "outlinewidth": 0,
             "ticks": ""
            },
            "type": "choropleth"
           }
          ],
          "contour": [
           {
            "colorbar": {
             "outlinewidth": 0,
             "ticks": ""
            },
            "colorscale": [
             [
              0,
              "#0d0887"
             ],
             [
              0.1111111111111111,
              "#46039f"
             ],
             [
              0.2222222222222222,
              "#7201a8"
             ],
             [
              0.3333333333333333,
              "#9c179e"
             ],
             [
              0.4444444444444444,
              "#bd3786"
             ],
             [
              0.5555555555555556,
              "#d8576b"
             ],
             [
              0.6666666666666666,
              "#ed7953"
             ],
             [
              0.7777777777777778,
              "#fb9f3a"
             ],
             [
              0.8888888888888888,
              "#fdca26"
             ],
             [
              1,
              "#f0f921"
             ]
            ],
            "type": "contour"
           }
          ],
          "contourcarpet": [
           {
            "colorbar": {
             "outlinewidth": 0,
             "ticks": ""
            },
            "type": "contourcarpet"
           }
          ],
          "heatmap": [
           {
            "colorbar": {
             "outlinewidth": 0,
             "ticks": ""
            },
            "colorscale": [
             [
              0,
              "#0d0887"
             ],
             [
              0.1111111111111111,
              "#46039f"
             ],
             [
              0.2222222222222222,
              "#7201a8"
             ],
             [
              0.3333333333333333,
              "#9c179e"
             ],
             [
              0.4444444444444444,
              "#bd3786"
             ],
             [
              0.5555555555555556,
              "#d8576b"
             ],
             [
              0.6666666666666666,
              "#ed7953"
             ],
             [
              0.7777777777777778,
              "#fb9f3a"
             ],
             [
              0.8888888888888888,
              "#fdca26"
             ],
             [
              1,
              "#f0f921"
             ]
            ],
            "type": "heatmap"
           }
          ],
          "histogram": [
           {
            "marker": {
             "pattern": {
              "fillmode": "overlay",
              "size": 10,
              "solidity": 0.2
             }
            },
            "type": "histogram"
           }
          ],
          "histogram2d": [
           {
            "colorbar": {
             "outlinewidth": 0,
             "ticks": ""
            },
            "colorscale": [
             [
              0,
              "#0d0887"
             ],
             [
              0.1111111111111111,
              "#46039f"
             ],
             [
              0.2222222222222222,
              "#7201a8"
             ],
             [
              0.3333333333333333,
              "#9c179e"
             ],
             [
              0.4444444444444444,
              "#bd3786"
             ],
             [
              0.5555555555555556,
              "#d8576b"
             ],
             [
              0.6666666666666666,
              "#ed7953"
             ],
             [
              0.7777777777777778,
              "#fb9f3a"
             ],
             [
              0.8888888888888888,
              "#fdca26"
             ],
             [
              1,
              "#f0f921"
             ]
            ],
            "type": "histogram2d"
           }
          ],
          "histogram2dcontour": [
           {
            "colorbar": {
             "outlinewidth": 0,
             "ticks": ""
            },
            "colorscale": [
             [
              0,
              "#0d0887"
             ],
             [
              0.1111111111111111,
              "#46039f"
             ],
             [
              0.2222222222222222,
              "#7201a8"
             ],
             [
              0.3333333333333333,
              "#9c179e"
             ],
             [
              0.4444444444444444,
              "#bd3786"
             ],
             [
              0.5555555555555556,
              "#d8576b"
             ],
             [
              0.6666666666666666,
              "#ed7953"
             ],
             [
              0.7777777777777778,
              "#fb9f3a"
             ],
             [
              0.8888888888888888,
              "#fdca26"
             ],
             [
              1,
              "#f0f921"
             ]
            ],
            "type": "histogram2dcontour"
           }
          ],
          "mesh3d": [
           {
            "colorbar": {
             "outlinewidth": 0,
             "ticks": ""
            },
            "type": "mesh3d"
           }
          ],
          "parcoords": [
           {
            "line": {
             "colorbar": {
              "outlinewidth": 0,
              "ticks": ""
             }
            },
            "type": "parcoords"
           }
          ],
          "pie": [
           {
            "automargin": true,
            "type": "pie"
           }
          ],
          "scatter": [
           {
            "marker": {
             "line": {
              "color": "#283442"
             }
            },
            "type": "scatter"
           }
          ],
          "scatter3d": [
           {
            "line": {
             "colorbar": {
              "outlinewidth": 0,
              "ticks": ""
             }
            },
            "marker": {
             "colorbar": {
              "outlinewidth": 0,
              "ticks": ""
             }
            },
            "type": "scatter3d"
           }
          ],
          "scattercarpet": [
           {
            "marker": {
             "colorbar": {
              "outlinewidth": 0,
              "ticks": ""
             }
            },
            "type": "scattercarpet"
           }
          ],
          "scattergeo": [
           {
            "marker": {
             "colorbar": {
              "outlinewidth": 0,
              "ticks": ""
             }
            },
            "type": "scattergeo"
           }
          ],
          "scattergl": [
           {
            "marker": {
             "line": {
              "color": "#283442"
             }
            },
            "type": "scattergl"
           }
          ],
          "scattermap": [
           {
            "marker": {
             "colorbar": {
              "outlinewidth": 0,
              "ticks": ""
             }
            },
            "type": "scattermap"
           }
          ],
          "scattermapbox": [
           {
            "marker": {
             "colorbar": {
              "outlinewidth": 0,
              "ticks": ""
             }
            },
            "type": "scattermapbox"
           }
          ],
          "scatterpolar": [
           {
            "marker": {
             "colorbar": {
              "outlinewidth": 0,
              "ticks": ""
             }
            },
            "type": "scatterpolar"
           }
          ],
          "scatterpolargl": [
           {
            "marker": {
             "colorbar": {
              "outlinewidth": 0,
              "ticks": ""
             }
            },
            "type": "scatterpolargl"
           }
          ],
          "scatterternary": [
           {
            "marker": {
             "colorbar": {
              "outlinewidth": 0,
              "ticks": ""
             }
            },
            "type": "scatterternary"
           }
          ],
          "surface": [
           {
            "colorbar": {
             "outlinewidth": 0,
             "ticks": ""
            },
            "colorscale": [
             [
              0,
              "#0d0887"
             ],
             [
              0.1111111111111111,
              "#46039f"
             ],
             [
              0.2222222222222222,
              "#7201a8"
             ],
             [
              0.3333333333333333,
              "#9c179e"
             ],
             [
              0.4444444444444444,
              "#bd3786"
             ],
             [
              0.5555555555555556,
              "#d8576b"
             ],
             [
              0.6666666666666666,
              "#ed7953"
             ],
             [
              0.7777777777777778,
              "#fb9f3a"
             ],
             [
              0.8888888888888888,
              "#fdca26"
             ],
             [
              1,
              "#f0f921"
             ]
            ],
            "type": "surface"
           }
          ],
          "table": [
           {
            "cells": {
             "fill": {
              "color": "#506784"
             },
             "line": {
              "color": "rgb(17,17,17)"
             }
            },
            "header": {
             "fill": {
              "color": "#2a3f5f"
             },
             "line": {
              "color": "rgb(17,17,17)"
             }
            },
            "type": "table"
           }
          ]
         },
         "layout": {
          "annotationdefaults": {
           "arrowcolor": "#f2f5fa",
           "arrowhead": 0,
           "arrowwidth": 1
          },
          "autotypenumbers": "strict",
          "coloraxis": {
           "colorbar": {
            "outlinewidth": 0,
            "ticks": ""
           }
          },
          "colorscale": {
           "diverging": [
            [
             0,
             "#8e0152"
            ],
            [
             0.1,
             "#c51b7d"
            ],
            [
             0.2,
             "#de77ae"
            ],
            [
             0.3,
             "#f1b6da"
            ],
            [
             0.4,
             "#fde0ef"
            ],
            [
             0.5,
             "#f7f7f7"
            ],
            [
             0.6,
             "#e6f5d0"
            ],
            [
             0.7,
             "#b8e186"
            ],
            [
             0.8,
             "#7fbc41"
            ],
            [
             0.9,
             "#4d9221"
            ],
            [
             1,
             "#276419"
            ]
           ],
           "sequential": [
            [
             0,
             "#0d0887"
            ],
            [
             0.1111111111111111,
             "#46039f"
            ],
            [
             0.2222222222222222,
             "#7201a8"
            ],
            [
             0.3333333333333333,
             "#9c179e"
            ],
            [
             0.4444444444444444,
             "#bd3786"
            ],
            [
             0.5555555555555556,
             "#d8576b"
            ],
            [
             0.6666666666666666,
             "#ed7953"
            ],
            [
             0.7777777777777778,
             "#fb9f3a"
            ],
            [
             0.8888888888888888,
             "#fdca26"
            ],
            [
             1,
             "#f0f921"
            ]
           ],
           "sequentialminus": [
            [
             0,
             "#0d0887"
            ],
            [
             0.1111111111111111,
             "#46039f"
            ],
            [
             0.2222222222222222,
             "#7201a8"
            ],
            [
             0.3333333333333333,
             "#9c179e"
            ],
            [
             0.4444444444444444,
             "#bd3786"
            ],
            [
             0.5555555555555556,
             "#d8576b"
            ],
            [
             0.6666666666666666,
             "#ed7953"
            ],
            [
             0.7777777777777778,
             "#fb9f3a"
            ],
            [
             0.8888888888888888,
             "#fdca26"
            ],
            [
             1,
             "#f0f921"
            ]
           ]
          },
          "colorway": [
           "#636efa",
           "#EF553B",
           "#00cc96",
           "#ab63fa",
           "#FFA15A",
           "#19d3f3",
           "#FF6692",
           "#B6E880",
           "#FF97FF",
           "#FECB52"
          ],
          "font": {
           "color": "#f2f5fa"
          },
          "geo": {
           "bgcolor": "rgb(17,17,17)",
           "lakecolor": "rgb(17,17,17)",
           "landcolor": "rgb(17,17,17)",
           "showlakes": true,
           "showland": true,
           "subunitcolor": "#506784"
          },
          "hoverlabel": {
           "align": "left"
          },
          "hovermode": "closest",
          "mapbox": {
           "style": "dark"
          },
          "paper_bgcolor": "rgb(17,17,17)",
          "plot_bgcolor": "rgb(17,17,17)",
          "polar": {
           "angularaxis": {
            "gridcolor": "#506784",
            "linecolor": "#506784",
            "ticks": ""
           },
           "bgcolor": "rgb(17,17,17)",
           "radialaxis": {
            "gridcolor": "#506784",
            "linecolor": "#506784",
            "ticks": ""
           }
          },
          "scene": {
           "xaxis": {
            "backgroundcolor": "rgb(17,17,17)",
            "gridcolor": "#506784",
            "gridwidth": 2,
            "linecolor": "#506784",
            "showbackground": true,
            "ticks": "",
            "zerolinecolor": "#C8D4E3"
           },
           "yaxis": {
            "backgroundcolor": "rgb(17,17,17)",
            "gridcolor": "#506784",
            "gridwidth": 2,
            "linecolor": "#506784",
            "showbackground": true,
            "ticks": "",
            "zerolinecolor": "#C8D4E3"
           },
           "zaxis": {
            "backgroundcolor": "rgb(17,17,17)",
            "gridcolor": "#506784",
            "gridwidth": 2,
            "linecolor": "#506784",
            "showbackground": true,
            "ticks": "",
            "zerolinecolor": "#C8D4E3"
           }
          },
          "shapedefaults": {
           "line": {
            "color": "#f2f5fa"
           }
          },
          "sliderdefaults": {
           "bgcolor": "#C8D4E3",
           "bordercolor": "rgb(17,17,17)",
           "borderwidth": 1,
           "tickwidth": 0
          },
          "ternary": {
           "aaxis": {
            "gridcolor": "#506784",
            "linecolor": "#506784",
            "ticks": ""
           },
           "baxis": {
            "gridcolor": "#506784",
            "linecolor": "#506784",
            "ticks": ""
           },
           "bgcolor": "rgb(17,17,17)",
           "caxis": {
            "gridcolor": "#506784",
            "linecolor": "#506784",
            "ticks": ""
           }
          },
          "title": {
           "x": 0.05
          },
          "updatemenudefaults": {
           "bgcolor": "#506784",
           "borderwidth": 0
          },
          "xaxis": {
           "automargin": true,
           "gridcolor": "#283442",
           "linecolor": "#506784",
           "ticks": "",
           "title": {
            "standoff": 15
           },
           "zerolinecolor": "#283442",
           "zerolinewidth": 2
          },
          "yaxis": {
           "automargin": true,
           "gridcolor": "#283442",
           "linecolor": "#506784",
           "ticks": "",
           "title": {
            "standoff": 15
           },
           "zerolinecolor": "#283442",
           "zerolinewidth": 2
          }
         }
        },
        "title": {
         "text": "Average Sale Price by alley type"
        },
        "xaxis": {
         "anchor": "y",
         "domain": [
          0,
          1
         ],
         "title": {
          "text": "alley type"
         }
        },
        "yaxis": {
         "anchor": "x",
         "domain": [
          0,
          1
         ],
         "tickformat": ",",
         "tickprefix": "$",
         "title": {
          "text": "Sale Price"
         }
        }
       }
      }
     },
     "metadata": {},
     "output_type": "display_data"
    }
   ],
   "source": [
    "#Does street and alley access types effect on sale price?\n",
    "street_prices = df_train.groupby('Street')['SalePrice'].mean()\n",
    "alley_prices = df_train.groupby('Alley')['SalePrice'].mean()\n",
    "colors_street = np.where(street_prices.index == 'Pave', 'purple', 'green')\n",
    "fig4 = px.bar(x=street_prices.index, y=street_prices.values, title='Average Sale Price by street type',color=colors_street,\n",
    "              color_discrete_sequence=['purple', 'green'], text=street_prices.values,\n",
    "              template='plotly_dark')\n",
    "\n",
    "fig4.update_traces(texttemplate='$%{text:,.0f}', textposition='outside')\n",
    "fig4.update_yaxes(title='Sale Price', tickprefix='$', tickformat=',')\n",
    "fig4.update_xaxes(title='Street type')\n",
    "fig4.update_layout(showlegend=False)\n",
    "#alley\n",
    "colors_alley = np.where(alley_prices.index == 'Pave', 'purple', 'green')\n",
    "fig5 = px.bar(x=alley_prices.index, y=alley_prices.values, title='Average Sale Price by alley type',color=colors_alley,\n",
    "              color_discrete_sequence=['purple', 'green'], text=alley_prices.values,\n",
    "              template='plotly_dark')\n",
    "\n",
    "fig5.update_traces(texttemplate='$%{text:,.0f}', textposition='outside')\n",
    "fig5.update_yaxes(title='Sale Price', tickprefix='$', tickformat=',')\n",
    "fig5.update_xaxes(title='alley type')\n",
    "fig5.update_layout(showlegend=False)\n",
    "\n",
    "fig4.show()\n",
    "fig5.show()"
   ]
  },
  {
   "cell_type": "code",
   "execution_count": 41,
   "metadata": {},
   "outputs": [
    {
     "data": {
      "application/vnd.plotly.v1+json": {
       "config": {
        "plotlyServerURL": "https://plot.ly"
       },
       "data": [
        {
         "hovertemplate": "LotShape=%{x}<br>SalePrice=%{text}<extra></extra>",
         "legendgroup": "IR1",
         "marker": {
          "color": "#636efa",
          "pattern": {
           "shape": ""
          }
         },
         "name": "IR1",
         "orientation": "v",
         "showlegend": true,
         "text": {
          "bdata": "biyDUq0oCUE=",
          "dtype": "f8"
         },
         "textposition": "outside",
         "texttemplate": "$%{text:,.0f}",
         "type": "bar",
         "x": [
          "IR1"
         ],
         "xaxis": "x",
         "y": {
          "bdata": "biyDUq0oCUE=",
          "dtype": "f8"
         },
         "yaxis": "y"
        },
        {
         "hovertemplate": "LotShape=%{x}<br>SalePrice=%{text}<extra></extra>",
         "legendgroup": "IR2",
         "marker": {
          "color": "#EF553B",
          "pattern": {
           "shape": ""
          }
         },
         "name": "IR2",
         "orientation": "v",
         "showlegend": true,
         "text": {
          "bdata": "1K5E7cpGDUE=",
          "dtype": "f8"
         },
         "textposition": "outside",
         "texttemplate": "$%{text:,.0f}",
         "type": "bar",
         "x": [
          "IR2"
         ],
         "xaxis": "x",
         "y": {
          "bdata": "1K5E7cpGDUE=",
          "dtype": "f8"
         },
         "yaxis": "y"
        },
        {
         "hovertemplate": "LotShape=%{x}<br>SalePrice=%{text}<extra></extra>",
         "legendgroup": "IR3",
         "marker": {
          "color": "#00cc96",
          "pattern": {
           "shape": ""
          }
         },
         "name": "IR3",
         "orientation": "v",
         "showlegend": true,
         "text": {
          "bdata": "AAAAACRfCkE=",
          "dtype": "f8"
         },
         "textposition": "outside",
         "texttemplate": "$%{text:,.0f}",
         "type": "bar",
         "x": [
          "IR3"
         ],
         "xaxis": "x",
         "y": {
          "bdata": "AAAAACRfCkE=",
          "dtype": "f8"
         },
         "yaxis": "y"
        },
        {
         "hovertemplate": "LotShape=%{x}<br>SalePrice=%{text}<extra></extra>",
         "legendgroup": "Reg",
         "marker": {
          "color": "#ab63fa",
          "pattern": {
           "shape": ""
          }
         },
         "name": "Reg",
         "orientation": "v",
         "showlegend": true,
         "text": {
          "bdata": "l/YJjJYcBEE=",
          "dtype": "f8"
         },
         "textposition": "outside",
         "texttemplate": "$%{text:,.0f}",
         "type": "bar",
         "x": [
          "Reg"
         ],
         "xaxis": "x",
         "y": {
          "bdata": "l/YJjJYcBEE=",
          "dtype": "f8"
         },
         "yaxis": "y"
        }
       ],
       "layout": {
        "barmode": "relative",
        "legend": {
         "title": {
          "text": "LotShape"
         },
         "tracegroupgap": 0
        },
        "showlegend": false,
        "template": {
         "data": {
          "bar": [
           {
            "error_x": {
             "color": "#f2f5fa"
            },
            "error_y": {
             "color": "#f2f5fa"
            },
            "marker": {
             "line": {
              "color": "rgb(17,17,17)",
              "width": 0.5
             },
             "pattern": {
              "fillmode": "overlay",
              "size": 10,
              "solidity": 0.2
             }
            },
            "type": "bar"
           }
          ],
          "barpolar": [
           {
            "marker": {
             "line": {
              "color": "rgb(17,17,17)",
              "width": 0.5
             },
             "pattern": {
              "fillmode": "overlay",
              "size": 10,
              "solidity": 0.2
             }
            },
            "type": "barpolar"
           }
          ],
          "carpet": [
           {
            "aaxis": {
             "endlinecolor": "#A2B1C6",
             "gridcolor": "#506784",
             "linecolor": "#506784",
             "minorgridcolor": "#506784",
             "startlinecolor": "#A2B1C6"
            },
            "baxis": {
             "endlinecolor": "#A2B1C6",
             "gridcolor": "#506784",
             "linecolor": "#506784",
             "minorgridcolor": "#506784",
             "startlinecolor": "#A2B1C6"
            },
            "type": "carpet"
           }
          ],
          "choropleth": [
           {
            "colorbar": {
             "outlinewidth": 0,
             "ticks": ""
            },
            "type": "choropleth"
           }
          ],
          "contour": [
           {
            "colorbar": {
             "outlinewidth": 0,
             "ticks": ""
            },
            "colorscale": [
             [
              0,
              "#0d0887"
             ],
             [
              0.1111111111111111,
              "#46039f"
             ],
             [
              0.2222222222222222,
              "#7201a8"
             ],
             [
              0.3333333333333333,
              "#9c179e"
             ],
             [
              0.4444444444444444,
              "#bd3786"
             ],
             [
              0.5555555555555556,
              "#d8576b"
             ],
             [
              0.6666666666666666,
              "#ed7953"
             ],
             [
              0.7777777777777778,
              "#fb9f3a"
             ],
             [
              0.8888888888888888,
              "#fdca26"
             ],
             [
              1,
              "#f0f921"
             ]
            ],
            "type": "contour"
           }
          ],
          "contourcarpet": [
           {
            "colorbar": {
             "outlinewidth": 0,
             "ticks": ""
            },
            "type": "contourcarpet"
           }
          ],
          "heatmap": [
           {
            "colorbar": {
             "outlinewidth": 0,
             "ticks": ""
            },
            "colorscale": [
             [
              0,
              "#0d0887"
             ],
             [
              0.1111111111111111,
              "#46039f"
             ],
             [
              0.2222222222222222,
              "#7201a8"
             ],
             [
              0.3333333333333333,
              "#9c179e"
             ],
             [
              0.4444444444444444,
              "#bd3786"
             ],
             [
              0.5555555555555556,
              "#d8576b"
             ],
             [
              0.6666666666666666,
              "#ed7953"
             ],
             [
              0.7777777777777778,
              "#fb9f3a"
             ],
             [
              0.8888888888888888,
              "#fdca26"
             ],
             [
              1,
              "#f0f921"
             ]
            ],
            "type": "heatmap"
           }
          ],
          "histogram": [
           {
            "marker": {
             "pattern": {
              "fillmode": "overlay",
              "size": 10,
              "solidity": 0.2
             }
            },
            "type": "histogram"
           }
          ],
          "histogram2d": [
           {
            "colorbar": {
             "outlinewidth": 0,
             "ticks": ""
            },
            "colorscale": [
             [
              0,
              "#0d0887"
             ],
             [
              0.1111111111111111,
              "#46039f"
             ],
             [
              0.2222222222222222,
              "#7201a8"
             ],
             [
              0.3333333333333333,
              "#9c179e"
             ],
             [
              0.4444444444444444,
              "#bd3786"
             ],
             [
              0.5555555555555556,
              "#d8576b"
             ],
             [
              0.6666666666666666,
              "#ed7953"
             ],
             [
              0.7777777777777778,
              "#fb9f3a"
             ],
             [
              0.8888888888888888,
              "#fdca26"
             ],
             [
              1,
              "#f0f921"
             ]
            ],
            "type": "histogram2d"
           }
          ],
          "histogram2dcontour": [
           {
            "colorbar": {
             "outlinewidth": 0,
             "ticks": ""
            },
            "colorscale": [
             [
              0,
              "#0d0887"
             ],
             [
              0.1111111111111111,
              "#46039f"
             ],
             [
              0.2222222222222222,
              "#7201a8"
             ],
             [
              0.3333333333333333,
              "#9c179e"
             ],
             [
              0.4444444444444444,
              "#bd3786"
             ],
             [
              0.5555555555555556,
              "#d8576b"
             ],
             [
              0.6666666666666666,
              "#ed7953"
             ],
             [
              0.7777777777777778,
              "#fb9f3a"
             ],
             [
              0.8888888888888888,
              "#fdca26"
             ],
             [
              1,
              "#f0f921"
             ]
            ],
            "type": "histogram2dcontour"
           }
          ],
          "mesh3d": [
           {
            "colorbar": {
             "outlinewidth": 0,
             "ticks": ""
            },
            "type": "mesh3d"
           }
          ],
          "parcoords": [
           {
            "line": {
             "colorbar": {
              "outlinewidth": 0,
              "ticks": ""
             }
            },
            "type": "parcoords"
           }
          ],
          "pie": [
           {
            "automargin": true,
            "type": "pie"
           }
          ],
          "scatter": [
           {
            "marker": {
             "line": {
              "color": "#283442"
             }
            },
            "type": "scatter"
           }
          ],
          "scatter3d": [
           {
            "line": {
             "colorbar": {
              "outlinewidth": 0,
              "ticks": ""
             }
            },
            "marker": {
             "colorbar": {
              "outlinewidth": 0,
              "ticks": ""
             }
            },
            "type": "scatter3d"
           }
          ],
          "scattercarpet": [
           {
            "marker": {
             "colorbar": {
              "outlinewidth": 0,
              "ticks": ""
             }
            },
            "type": "scattercarpet"
           }
          ],
          "scattergeo": [
           {
            "marker": {
             "colorbar": {
              "outlinewidth": 0,
              "ticks": ""
             }
            },
            "type": "scattergeo"
           }
          ],
          "scattergl": [
           {
            "marker": {
             "line": {
              "color": "#283442"
             }
            },
            "type": "scattergl"
           }
          ],
          "scattermap": [
           {
            "marker": {
             "colorbar": {
              "outlinewidth": 0,
              "ticks": ""
             }
            },
            "type": "scattermap"
           }
          ],
          "scattermapbox": [
           {
            "marker": {
             "colorbar": {
              "outlinewidth": 0,
              "ticks": ""
             }
            },
            "type": "scattermapbox"
           }
          ],
          "scatterpolar": [
           {
            "marker": {
             "colorbar": {
              "outlinewidth": 0,
              "ticks": ""
             }
            },
            "type": "scatterpolar"
           }
          ],
          "scatterpolargl": [
           {
            "marker": {
             "colorbar": {
              "outlinewidth": 0,
              "ticks": ""
             }
            },
            "type": "scatterpolargl"
           }
          ],
          "scatterternary": [
           {
            "marker": {
             "colorbar": {
              "outlinewidth": 0,
              "ticks": ""
             }
            },
            "type": "scatterternary"
           }
          ],
          "surface": [
           {
            "colorbar": {
             "outlinewidth": 0,
             "ticks": ""
            },
            "colorscale": [
             [
              0,
              "#0d0887"
             ],
             [
              0.1111111111111111,
              "#46039f"
             ],
             [
              0.2222222222222222,
              "#7201a8"
             ],
             [
              0.3333333333333333,
              "#9c179e"
             ],
             [
              0.4444444444444444,
              "#bd3786"
             ],
             [
              0.5555555555555556,
              "#d8576b"
             ],
             [
              0.6666666666666666,
              "#ed7953"
             ],
             [
              0.7777777777777778,
              "#fb9f3a"
             ],
             [
              0.8888888888888888,
              "#fdca26"
             ],
             [
              1,
              "#f0f921"
             ]
            ],
            "type": "surface"
           }
          ],
          "table": [
           {
            "cells": {
             "fill": {
              "color": "#506784"
             },
             "line": {
              "color": "rgb(17,17,17)"
             }
            },
            "header": {
             "fill": {
              "color": "#2a3f5f"
             },
             "line": {
              "color": "rgb(17,17,17)"
             }
            },
            "type": "table"
           }
          ]
         },
         "layout": {
          "annotationdefaults": {
           "arrowcolor": "#f2f5fa",
           "arrowhead": 0,
           "arrowwidth": 1
          },
          "autotypenumbers": "strict",
          "coloraxis": {
           "colorbar": {
            "outlinewidth": 0,
            "ticks": ""
           }
          },
          "colorscale": {
           "diverging": [
            [
             0,
             "#8e0152"
            ],
            [
             0.1,
             "#c51b7d"
            ],
            [
             0.2,
             "#de77ae"
            ],
            [
             0.3,
             "#f1b6da"
            ],
            [
             0.4,
             "#fde0ef"
            ],
            [
             0.5,
             "#f7f7f7"
            ],
            [
             0.6,
             "#e6f5d0"
            ],
            [
             0.7,
             "#b8e186"
            ],
            [
             0.8,
             "#7fbc41"
            ],
            [
             0.9,
             "#4d9221"
            ],
            [
             1,
             "#276419"
            ]
           ],
           "sequential": [
            [
             0,
             "#0d0887"
            ],
            [
             0.1111111111111111,
             "#46039f"
            ],
            [
             0.2222222222222222,
             "#7201a8"
            ],
            [
             0.3333333333333333,
             "#9c179e"
            ],
            [
             0.4444444444444444,
             "#bd3786"
            ],
            [
             0.5555555555555556,
             "#d8576b"
            ],
            [
             0.6666666666666666,
             "#ed7953"
            ],
            [
             0.7777777777777778,
             "#fb9f3a"
            ],
            [
             0.8888888888888888,
             "#fdca26"
            ],
            [
             1,
             "#f0f921"
            ]
           ],
           "sequentialminus": [
            [
             0,
             "#0d0887"
            ],
            [
             0.1111111111111111,
             "#46039f"
            ],
            [
             0.2222222222222222,
             "#7201a8"
            ],
            [
             0.3333333333333333,
             "#9c179e"
            ],
            [
             0.4444444444444444,
             "#bd3786"
            ],
            [
             0.5555555555555556,
             "#d8576b"
            ],
            [
             0.6666666666666666,
             "#ed7953"
            ],
            [
             0.7777777777777778,
             "#fb9f3a"
            ],
            [
             0.8888888888888888,
             "#fdca26"
            ],
            [
             1,
             "#f0f921"
            ]
           ]
          },
          "colorway": [
           "#636efa",
           "#EF553B",
           "#00cc96",
           "#ab63fa",
           "#FFA15A",
           "#19d3f3",
           "#FF6692",
           "#B6E880",
           "#FF97FF",
           "#FECB52"
          ],
          "font": {
           "color": "#f2f5fa"
          },
          "geo": {
           "bgcolor": "rgb(17,17,17)",
           "lakecolor": "rgb(17,17,17)",
           "landcolor": "rgb(17,17,17)",
           "showlakes": true,
           "showland": true,
           "subunitcolor": "#506784"
          },
          "hoverlabel": {
           "align": "left"
          },
          "hovermode": "closest",
          "mapbox": {
           "style": "dark"
          },
          "paper_bgcolor": "rgb(17,17,17)",
          "plot_bgcolor": "rgb(17,17,17)",
          "polar": {
           "angularaxis": {
            "gridcolor": "#506784",
            "linecolor": "#506784",
            "ticks": ""
           },
           "bgcolor": "rgb(17,17,17)",
           "radialaxis": {
            "gridcolor": "#506784",
            "linecolor": "#506784",
            "ticks": ""
           }
          },
          "scene": {
           "xaxis": {
            "backgroundcolor": "rgb(17,17,17)",
            "gridcolor": "#506784",
            "gridwidth": 2,
            "linecolor": "#506784",
            "showbackground": true,
            "ticks": "",
            "zerolinecolor": "#C8D4E3"
           },
           "yaxis": {
            "backgroundcolor": "rgb(17,17,17)",
            "gridcolor": "#506784",
            "gridwidth": 2,
            "linecolor": "#506784",
            "showbackground": true,
            "ticks": "",
            "zerolinecolor": "#C8D4E3"
           },
           "zaxis": {
            "backgroundcolor": "rgb(17,17,17)",
            "gridcolor": "#506784",
            "gridwidth": 2,
            "linecolor": "#506784",
            "showbackground": true,
            "ticks": "",
            "zerolinecolor": "#C8D4E3"
           }
          },
          "shapedefaults": {
           "line": {
            "color": "#f2f5fa"
           }
          },
          "sliderdefaults": {
           "bgcolor": "#C8D4E3",
           "bordercolor": "rgb(17,17,17)",
           "borderwidth": 1,
           "tickwidth": 0
          },
          "ternary": {
           "aaxis": {
            "gridcolor": "#506784",
            "linecolor": "#506784",
            "ticks": ""
           },
           "baxis": {
            "gridcolor": "#506784",
            "linecolor": "#506784",
            "ticks": ""
           },
           "bgcolor": "rgb(17,17,17)",
           "caxis": {
            "gridcolor": "#506784",
            "linecolor": "#506784",
            "ticks": ""
           }
          },
          "title": {
           "x": 0.05
          },
          "updatemenudefaults": {
           "bgcolor": "#506784",
           "borderwidth": 0
          },
          "xaxis": {
           "automargin": true,
           "gridcolor": "#283442",
           "linecolor": "#506784",
           "ticks": "",
           "title": {
            "standoff": 15
           },
           "zerolinecolor": "#283442",
           "zerolinewidth": 2
          },
          "yaxis": {
           "automargin": true,
           "gridcolor": "#283442",
           "linecolor": "#506784",
           "ticks": "",
           "title": {
            "standoff": 15
           },
           "zerolinecolor": "#283442",
           "zerolinewidth": 2
          }
         }
        },
        "title": {
         "text": "Average Sale Price by Lot Shape"
        },
        "xaxis": {
         "anchor": "y",
         "categoryarray": [
          "IR1",
          "IR2",
          "IR3",
          "Reg"
         ],
         "categoryorder": "array",
         "domain": [
          0,
          1
         ],
         "title": {
          "text": "Shape Type"
         }
        },
        "yaxis": {
         "anchor": "x",
         "domain": [
          0,
          1
         ],
         "tickformat": ",",
         "tickprefix": "$",
         "title": {
          "text": "Sale Price"
         }
        }
       }
      }
     },
     "metadata": {},
     "output_type": "display_data"
    },
    {
     "data": {
      "application/vnd.plotly.v1+json": {
       "config": {
        "plotlyServerURL": "https://plot.ly"
       },
       "data": [
        {
         "hovertemplate": "LandContour=%{x}<br>SalePrice=%{text}<extra></extra>",
         "legendgroup": "Bnk",
         "marker": {
          "color": "#636efa",
          "pattern": {
           "shape": ""
          }
         },
         "name": "Bnk",
         "orientation": "v",
         "showlegend": true,
         "text": {
          "bdata": "oyiKogB4AUE=",
          "dtype": "f8"
         },
         "textposition": "outside",
         "texttemplate": "$%{text:,.0f}",
         "type": "bar",
         "x": [
          "Bnk"
         ],
         "xaxis": "x",
         "y": {
          "bdata": "oyiKogB4AUE=",
          "dtype": "f8"
         },
         "yaxis": "y"
        },
        {
         "hovertemplate": "LandContour=%{x}<br>SalePrice=%{text}<extra></extra>",
         "legendgroup": "HLS",
         "marker": {
          "color": "#EF553B",
          "pattern": {
           "shape": ""
          }
         },
         "name": "HLS",
         "orientation": "v",
         "showlegend": true,
         "text": {
          "bdata": "UrgehW9DDEE=",
          "dtype": "f8"
         },
         "textposition": "outside",
         "texttemplate": "$%{text:,.0f}",
         "type": "bar",
         "x": [
          "HLS"
         ],
         "xaxis": "x",
         "y": {
          "bdata": "UrgehW9DDEE=",
          "dtype": "f8"
         },
         "yaxis": "y"
        },
        {
         "hovertemplate": "LandContour=%{x}<br>SalePrice=%{text}<extra></extra>",
         "legendgroup": "Low",
         "marker": {
          "color": "#00cc96",
          "pattern": {
           "shape": ""
          }
         },
         "name": "Low",
         "orientation": "v",
         "showlegend": true,
         "text": {
          "bdata": "5DiO42jcCEE=",
          "dtype": "f8"
         },
         "textposition": "outside",
         "texttemplate": "$%{text:,.0f}",
         "type": "bar",
         "x": [
          "Low"
         ],
         "xaxis": "x",
         "y": {
          "bdata": "5DiO42jcCEE=",
          "dtype": "f8"
         },
         "yaxis": "y"
        },
        {
         "hovertemplate": "LandContour=%{x}<br>SalePrice=%{text}<extra></extra>",
         "legendgroup": "Lvl",
         "marker": {
          "color": "#ab63fa",
          "pattern": {
           "shape": ""
          }
         },
         "name": "Lvl",
         "orientation": "v",
         "showlegend": true,
         "text": {
          "bdata": "81xc+b3+BUE=",
          "dtype": "f8"
         },
         "textposition": "outside",
         "texttemplate": "$%{text:,.0f}",
         "type": "bar",
         "x": [
          "Lvl"
         ],
         "xaxis": "x",
         "y": {
          "bdata": "81xc+b3+BUE=",
          "dtype": "f8"
         },
         "yaxis": "y"
        }
       ],
       "layout": {
        "barmode": "relative",
        "legend": {
         "title": {
          "text": "LandContour"
         },
         "tracegroupgap": 0
        },
        "showlegend": false,
        "template": {
         "data": {
          "bar": [
           {
            "error_x": {
             "color": "#f2f5fa"
            },
            "error_y": {
             "color": "#f2f5fa"
            },
            "marker": {
             "line": {
              "color": "rgb(17,17,17)",
              "width": 0.5
             },
             "pattern": {
              "fillmode": "overlay",
              "size": 10,
              "solidity": 0.2
             }
            },
            "type": "bar"
           }
          ],
          "barpolar": [
           {
            "marker": {
             "line": {
              "color": "rgb(17,17,17)",
              "width": 0.5
             },
             "pattern": {
              "fillmode": "overlay",
              "size": 10,
              "solidity": 0.2
             }
            },
            "type": "barpolar"
           }
          ],
          "carpet": [
           {
            "aaxis": {
             "endlinecolor": "#A2B1C6",
             "gridcolor": "#506784",
             "linecolor": "#506784",
             "minorgridcolor": "#506784",
             "startlinecolor": "#A2B1C6"
            },
            "baxis": {
             "endlinecolor": "#A2B1C6",
             "gridcolor": "#506784",
             "linecolor": "#506784",
             "minorgridcolor": "#506784",
             "startlinecolor": "#A2B1C6"
            },
            "type": "carpet"
           }
          ],
          "choropleth": [
           {
            "colorbar": {
             "outlinewidth": 0,
             "ticks": ""
            },
            "type": "choropleth"
           }
          ],
          "contour": [
           {
            "colorbar": {
             "outlinewidth": 0,
             "ticks": ""
            },
            "colorscale": [
             [
              0,
              "#0d0887"
             ],
             [
              0.1111111111111111,
              "#46039f"
             ],
             [
              0.2222222222222222,
              "#7201a8"
             ],
             [
              0.3333333333333333,
              "#9c179e"
             ],
             [
              0.4444444444444444,
              "#bd3786"
             ],
             [
              0.5555555555555556,
              "#d8576b"
             ],
             [
              0.6666666666666666,
              "#ed7953"
             ],
             [
              0.7777777777777778,
              "#fb9f3a"
             ],
             [
              0.8888888888888888,
              "#fdca26"
             ],
             [
              1,
              "#f0f921"
             ]
            ],
            "type": "contour"
           }
          ],
          "contourcarpet": [
           {
            "colorbar": {
             "outlinewidth": 0,
             "ticks": ""
            },
            "type": "contourcarpet"
           }
          ],
          "heatmap": [
           {
            "colorbar": {
             "outlinewidth": 0,
             "ticks": ""
            },
            "colorscale": [
             [
              0,
              "#0d0887"
             ],
             [
              0.1111111111111111,
              "#46039f"
             ],
             [
              0.2222222222222222,
              "#7201a8"
             ],
             [
              0.3333333333333333,
              "#9c179e"
             ],
             [
              0.4444444444444444,
              "#bd3786"
             ],
             [
              0.5555555555555556,
              "#d8576b"
             ],
             [
              0.6666666666666666,
              "#ed7953"
             ],
             [
              0.7777777777777778,
              "#fb9f3a"
             ],
             [
              0.8888888888888888,
              "#fdca26"
             ],
             [
              1,
              "#f0f921"
             ]
            ],
            "type": "heatmap"
           }
          ],
          "histogram": [
           {
            "marker": {
             "pattern": {
              "fillmode": "overlay",
              "size": 10,
              "solidity": 0.2
             }
            },
            "type": "histogram"
           }
          ],
          "histogram2d": [
           {
            "colorbar": {
             "outlinewidth": 0,
             "ticks": ""
            },
            "colorscale": [
             [
              0,
              "#0d0887"
             ],
             [
              0.1111111111111111,
              "#46039f"
             ],
             [
              0.2222222222222222,
              "#7201a8"
             ],
             [
              0.3333333333333333,
              "#9c179e"
             ],
             [
              0.4444444444444444,
              "#bd3786"
             ],
             [
              0.5555555555555556,
              "#d8576b"
             ],
             [
              0.6666666666666666,
              "#ed7953"
             ],
             [
              0.7777777777777778,
              "#fb9f3a"
             ],
             [
              0.8888888888888888,
              "#fdca26"
             ],
             [
              1,
              "#f0f921"
             ]
            ],
            "type": "histogram2d"
           }
          ],
          "histogram2dcontour": [
           {
            "colorbar": {
             "outlinewidth": 0,
             "ticks": ""
            },
            "colorscale": [
             [
              0,
              "#0d0887"
             ],
             [
              0.1111111111111111,
              "#46039f"
             ],
             [
              0.2222222222222222,
              "#7201a8"
             ],
             [
              0.3333333333333333,
              "#9c179e"
             ],
             [
              0.4444444444444444,
              "#bd3786"
             ],
             [
              0.5555555555555556,
              "#d8576b"
             ],
             [
              0.6666666666666666,
              "#ed7953"
             ],
             [
              0.7777777777777778,
              "#fb9f3a"
             ],
             [
              0.8888888888888888,
              "#fdca26"
             ],
             [
              1,
              "#f0f921"
             ]
            ],
            "type": "histogram2dcontour"
           }
          ],
          "mesh3d": [
           {
            "colorbar": {
             "outlinewidth": 0,
             "ticks": ""
            },
            "type": "mesh3d"
           }
          ],
          "parcoords": [
           {
            "line": {
             "colorbar": {
              "outlinewidth": 0,
              "ticks": ""
             }
            },
            "type": "parcoords"
           }
          ],
          "pie": [
           {
            "automargin": true,
            "type": "pie"
           }
          ],
          "scatter": [
           {
            "marker": {
             "line": {
              "color": "#283442"
             }
            },
            "type": "scatter"
           }
          ],
          "scatter3d": [
           {
            "line": {
             "colorbar": {
              "outlinewidth": 0,
              "ticks": ""
             }
            },
            "marker": {
             "colorbar": {
              "outlinewidth": 0,
              "ticks": ""
             }
            },
            "type": "scatter3d"
           }
          ],
          "scattercarpet": [
           {
            "marker": {
             "colorbar": {
              "outlinewidth": 0,
              "ticks": ""
             }
            },
            "type": "scattercarpet"
           }
          ],
          "scattergeo": [
           {
            "marker": {
             "colorbar": {
              "outlinewidth": 0,
              "ticks": ""
             }
            },
            "type": "scattergeo"
           }
          ],
          "scattergl": [
           {
            "marker": {
             "line": {
              "color": "#283442"
             }
            },
            "type": "scattergl"
           }
          ],
          "scattermap": [
           {
            "marker": {
             "colorbar": {
              "outlinewidth": 0,
              "ticks": ""
             }
            },
            "type": "scattermap"
           }
          ],
          "scattermapbox": [
           {
            "marker": {
             "colorbar": {
              "outlinewidth": 0,
              "ticks": ""
             }
            },
            "type": "scattermapbox"
           }
          ],
          "scatterpolar": [
           {
            "marker": {
             "colorbar": {
              "outlinewidth": 0,
              "ticks": ""
             }
            },
            "type": "scatterpolar"
           }
          ],
          "scatterpolargl": [
           {
            "marker": {
             "colorbar": {
              "outlinewidth": 0,
              "ticks": ""
             }
            },
            "type": "scatterpolargl"
           }
          ],
          "scatterternary": [
           {
            "marker": {
             "colorbar": {
              "outlinewidth": 0,
              "ticks": ""
             }
            },
            "type": "scatterternary"
           }
          ],
          "surface": [
           {
            "colorbar": {
             "outlinewidth": 0,
             "ticks": ""
            },
            "colorscale": [
             [
              0,
              "#0d0887"
             ],
             [
              0.1111111111111111,
              "#46039f"
             ],
             [
              0.2222222222222222,
              "#7201a8"
             ],
             [
              0.3333333333333333,
              "#9c179e"
             ],
             [
              0.4444444444444444,
              "#bd3786"
             ],
             [
              0.5555555555555556,
              "#d8576b"
             ],
             [
              0.6666666666666666,
              "#ed7953"
             ],
             [
              0.7777777777777778,
              "#fb9f3a"
             ],
             [
              0.8888888888888888,
              "#fdca26"
             ],
             [
              1,
              "#f0f921"
             ]
            ],
            "type": "surface"
           }
          ],
          "table": [
           {
            "cells": {
             "fill": {
              "color": "#506784"
             },
             "line": {
              "color": "rgb(17,17,17)"
             }
            },
            "header": {
             "fill": {
              "color": "#2a3f5f"
             },
             "line": {
              "color": "rgb(17,17,17)"
             }
            },
            "type": "table"
           }
          ]
         },
         "layout": {
          "annotationdefaults": {
           "arrowcolor": "#f2f5fa",
           "arrowhead": 0,
           "arrowwidth": 1
          },
          "autotypenumbers": "strict",
          "coloraxis": {
           "colorbar": {
            "outlinewidth": 0,
            "ticks": ""
           }
          },
          "colorscale": {
           "diverging": [
            [
             0,
             "#8e0152"
            ],
            [
             0.1,
             "#c51b7d"
            ],
            [
             0.2,
             "#de77ae"
            ],
            [
             0.3,
             "#f1b6da"
            ],
            [
             0.4,
             "#fde0ef"
            ],
            [
             0.5,
             "#f7f7f7"
            ],
            [
             0.6,
             "#e6f5d0"
            ],
            [
             0.7,
             "#b8e186"
            ],
            [
             0.8,
             "#7fbc41"
            ],
            [
             0.9,
             "#4d9221"
            ],
            [
             1,
             "#276419"
            ]
           ],
           "sequential": [
            [
             0,
             "#0d0887"
            ],
            [
             0.1111111111111111,
             "#46039f"
            ],
            [
             0.2222222222222222,
             "#7201a8"
            ],
            [
             0.3333333333333333,
             "#9c179e"
            ],
            [
             0.4444444444444444,
             "#bd3786"
            ],
            [
             0.5555555555555556,
             "#d8576b"
            ],
            [
             0.6666666666666666,
             "#ed7953"
            ],
            [
             0.7777777777777778,
             "#fb9f3a"
            ],
            [
             0.8888888888888888,
             "#fdca26"
            ],
            [
             1,
             "#f0f921"
            ]
           ],
           "sequentialminus": [
            [
             0,
             "#0d0887"
            ],
            [
             0.1111111111111111,
             "#46039f"
            ],
            [
             0.2222222222222222,
             "#7201a8"
            ],
            [
             0.3333333333333333,
             "#9c179e"
            ],
            [
             0.4444444444444444,
             "#bd3786"
            ],
            [
             0.5555555555555556,
             "#d8576b"
            ],
            [
             0.6666666666666666,
             "#ed7953"
            ],
            [
             0.7777777777777778,
             "#fb9f3a"
            ],
            [
             0.8888888888888888,
             "#fdca26"
            ],
            [
             1,
             "#f0f921"
            ]
           ]
          },
          "colorway": [
           "#636efa",
           "#EF553B",
           "#00cc96",
           "#ab63fa",
           "#FFA15A",
           "#19d3f3",
           "#FF6692",
           "#B6E880",
           "#FF97FF",
           "#FECB52"
          ],
          "font": {
           "color": "#f2f5fa"
          },
          "geo": {
           "bgcolor": "rgb(17,17,17)",
           "lakecolor": "rgb(17,17,17)",
           "landcolor": "rgb(17,17,17)",
           "showlakes": true,
           "showland": true,
           "subunitcolor": "#506784"
          },
          "hoverlabel": {
           "align": "left"
          },
          "hovermode": "closest",
          "mapbox": {
           "style": "dark"
          },
          "paper_bgcolor": "rgb(17,17,17)",
          "plot_bgcolor": "rgb(17,17,17)",
          "polar": {
           "angularaxis": {
            "gridcolor": "#506784",
            "linecolor": "#506784",
            "ticks": ""
           },
           "bgcolor": "rgb(17,17,17)",
           "radialaxis": {
            "gridcolor": "#506784",
            "linecolor": "#506784",
            "ticks": ""
           }
          },
          "scene": {
           "xaxis": {
            "backgroundcolor": "rgb(17,17,17)",
            "gridcolor": "#506784",
            "gridwidth": 2,
            "linecolor": "#506784",
            "showbackground": true,
            "ticks": "",
            "zerolinecolor": "#C8D4E3"
           },
           "yaxis": {
            "backgroundcolor": "rgb(17,17,17)",
            "gridcolor": "#506784",
            "gridwidth": 2,
            "linecolor": "#506784",
            "showbackground": true,
            "ticks": "",
            "zerolinecolor": "#C8D4E3"
           },
           "zaxis": {
            "backgroundcolor": "rgb(17,17,17)",
            "gridcolor": "#506784",
            "gridwidth": 2,
            "linecolor": "#506784",
            "showbackground": true,
            "ticks": "",
            "zerolinecolor": "#C8D4E3"
           }
          },
          "shapedefaults": {
           "line": {
            "color": "#f2f5fa"
           }
          },
          "sliderdefaults": {
           "bgcolor": "#C8D4E3",
           "bordercolor": "rgb(17,17,17)",
           "borderwidth": 1,
           "tickwidth": 0
          },
          "ternary": {
           "aaxis": {
            "gridcolor": "#506784",
            "linecolor": "#506784",
            "ticks": ""
           },
           "baxis": {
            "gridcolor": "#506784",
            "linecolor": "#506784",
            "ticks": ""
           },
           "bgcolor": "rgb(17,17,17)",
           "caxis": {
            "gridcolor": "#506784",
            "linecolor": "#506784",
            "ticks": ""
           }
          },
          "title": {
           "x": 0.05
          },
          "updatemenudefaults": {
           "bgcolor": "#506784",
           "borderwidth": 0
          },
          "xaxis": {
           "automargin": true,
           "gridcolor": "#283442",
           "linecolor": "#506784",
           "ticks": "",
           "title": {
            "standoff": 15
           },
           "zerolinecolor": "#283442",
           "zerolinewidth": 2
          },
          "yaxis": {
           "automargin": true,
           "gridcolor": "#283442",
           "linecolor": "#506784",
           "ticks": "",
           "title": {
            "standoff": 15
           },
           "zerolinecolor": "#283442",
           "zerolinewidth": 2
          }
         }
        },
        "title": {
         "text": "Average Sale Price by Property Contour"
        },
        "xaxis": {
         "anchor": "y",
         "categoryarray": [
          "Bnk",
          "HLS",
          "Low",
          "Lvl"
         ],
         "categoryorder": "array",
         "domain": [
          0,
          1
         ],
         "title": {
          "text": "Contour Type"
         }
        },
        "yaxis": {
         "anchor": "x",
         "domain": [
          0,
          1
         ],
         "tickformat": ",",
         "tickprefix": "$",
         "title": {
          "text": "Sale Price"
         }
        }
       }
      }
     },
     "metadata": {},
     "output_type": "display_data"
    }
   ],
   "source": [
    "#What is the Average sale price by property shape?\n",
    "shape_prices = df_train.groupby('LotShape')['SalePrice'].mean().reset_index()\n",
    "contour_prices = df_train.groupby('LandContour')['SalePrice'].mean().reset_index()\n",
    "\n",
    "fig6 = px.bar(shape_prices, x='LotShape', y='SalePrice', title='Average Sale Price by Lot Shape',\n",
    "              color='LotShape', text='SalePrice', template='plotly_dark')\n",
    "fig6.update_traces(texttemplate='$%{text:,.0f}', textposition='outside')\n",
    "fig6.update_yaxes(title='Sale Price', tickprefix='$', tickformat=',')\n",
    "fig6.update_xaxes(title='Shape Type')\n",
    "fig6.update_layout(showlegend=False)\n",
    "\n",
    "fig7 = px.bar(contour_prices, x='LandContour', y='SalePrice', title='Average Sale Price by Property Contour',\n",
    "              color='LandContour', text='SalePrice', template='plotly_dark')\n",
    "fig7.update_traces(texttemplate='$%{text:,.0f}', textposition='outside')\n",
    "fig7.update_yaxes(title='Sale Price', tickprefix='$', tickformat=',')\n",
    "fig7.update_xaxes(title='Contour Type')\n",
    "fig7.update_layout(showlegend=False)\n",
    "\n",
    "fig6.show()\n",
    "fig7.show()"
   ]
  },
  {
   "cell_type": "code",
   "execution_count": 42,
   "metadata": {},
   "outputs": [
    {
     "name": "stdout",
     "output_type": "stream",
     "text": [
      "Correlation between Property Age and Sale Price: -0.5233504175468159\n"
     ]
    },
    {
     "data": {
      "application/vnd.plotly.v1+json": {
       "config": {
        "plotlyServerURL": "https://plot.ly"
       },
       "data": [
        {
         "hovertemplate": "PropertyAge=%{marker.color}<br>SalePrice=%{y}<extra></extra>",
         "legendgroup": "",
         "marker": {
          "color": {
           "bdata": "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",
           "dtype": "i2"
          },
          "coloraxis": "coloraxis",
          "symbol": "circle"
         },
         "mode": "markers",
         "name": "",
         "showlegend": false,
         "type": "scattergl",
         "x": {
          "bdata": "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",
          "dtype": "i2"
         },
         "xaxis": "x",
         "y": {
          "bdata": "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",
          "dtype": "i4"
         },
         "yaxis": "y"
        }
       ],
       "layout": {
        "coloraxis": {
         "colorbar": {
          "title": {
           "text": "PropertyAge"
          }
         },
         "colorscale": [
          [
           0,
           "rgb(243, 224, 247)"
          ],
          [
           0.16666666666666666,
           "rgb(228, 199, 241)"
          ],
          [
           0.3333333333333333,
           "rgb(209, 175, 232)"
          ],
          [
           0.5,
           "rgb(185, 152, 221)"
          ],
          [
           0.6666666666666666,
           "rgb(159, 130, 206)"
          ],
          [
           0.8333333333333334,
           "rgb(130, 109, 186)"
          ],
          [
           1,
           "rgb(99, 88, 159)"
          ]
         ]
        },
        "font": {
         "color": "white"
        },
        "legend": {
         "tracegroupgap": 0
        },
        "paper_bgcolor": "rgb(30,30,30)",
        "plot_bgcolor": "rgb(30,30,30)",
        "template": {
         "data": {
          "bar": [
           {
            "error_x": {
             "color": "#2a3f5f"
            },
            "error_y": {
             "color": "#2a3f5f"
            },
            "marker": {
             "line": {
              "color": "#E5ECF6",
              "width": 0.5
             },
             "pattern": {
              "fillmode": "overlay",
              "size": 10,
              "solidity": 0.2
             }
            },
            "type": "bar"
           }
          ],
          "barpolar": [
           {
            "marker": {
             "line": {
              "color": "#E5ECF6",
              "width": 0.5
             },
             "pattern": {
              "fillmode": "overlay",
              "size": 10,
              "solidity": 0.2
             }
            },
            "type": "barpolar"
           }
          ],
          "carpet": [
           {
            "aaxis": {
             "endlinecolor": "#2a3f5f",
             "gridcolor": "white",
             "linecolor": "white",
             "minorgridcolor": "white",
             "startlinecolor": "#2a3f5f"
            },
            "baxis": {
             "endlinecolor": "#2a3f5f",
             "gridcolor": "white",
             "linecolor": "white",
             "minorgridcolor": "white",
             "startlinecolor": "#2a3f5f"
            },
            "type": "carpet"
           }
          ],
          "choropleth": [
           {
            "colorbar": {
             "outlinewidth": 0,
             "ticks": ""
            },
            "type": "choropleth"
           }
          ],
          "contour": [
           {
            "colorbar": {
             "outlinewidth": 0,
             "ticks": ""
            },
            "colorscale": [
             [
              0,
              "#0d0887"
             ],
             [
              0.1111111111111111,
              "#46039f"
             ],
             [
              0.2222222222222222,
              "#7201a8"
             ],
             [
              0.3333333333333333,
              "#9c179e"
             ],
             [
              0.4444444444444444,
              "#bd3786"
             ],
             [
              0.5555555555555556,
              "#d8576b"
             ],
             [
              0.6666666666666666,
              "#ed7953"
             ],
             [
              0.7777777777777778,
              "#fb9f3a"
             ],
             [
              0.8888888888888888,
              "#fdca26"
             ],
             [
              1,
              "#f0f921"
             ]
            ],
            "type": "contour"
           }
          ],
          "contourcarpet": [
           {
            "colorbar": {
             "outlinewidth": 0,
             "ticks": ""
            },
            "type": "contourcarpet"
           }
          ],
          "heatmap": [
           {
            "colorbar": {
             "outlinewidth": 0,
             "ticks": ""
            },
            "colorscale": [
             [
              0,
              "#0d0887"
             ],
             [
              0.1111111111111111,
              "#46039f"
             ],
             [
              0.2222222222222222,
              "#7201a8"
             ],
             [
              0.3333333333333333,
              "#9c179e"
             ],
             [
              0.4444444444444444,
              "#bd3786"
             ],
             [
              0.5555555555555556,
              "#d8576b"
             ],
             [
              0.6666666666666666,
              "#ed7953"
             ],
             [
              0.7777777777777778,
              "#fb9f3a"
             ],
             [
              0.8888888888888888,
              "#fdca26"
             ],
             [
              1,
              "#f0f921"
             ]
            ],
            "type": "heatmap"
           }
          ],
          "histogram": [
           {
            "marker": {
             "pattern": {
              "fillmode": "overlay",
              "size": 10,
              "solidity": 0.2
             }
            },
            "type": "histogram"
           }
          ],
          "histogram2d": [
           {
            "colorbar": {
             "outlinewidth": 0,
             "ticks": ""
            },
            "colorscale": [
             [
              0,
              "#0d0887"
             ],
             [
              0.1111111111111111,
              "#46039f"
             ],
             [
              0.2222222222222222,
              "#7201a8"
             ],
             [
              0.3333333333333333,
              "#9c179e"
             ],
             [
              0.4444444444444444,
              "#bd3786"
             ],
             [
              0.5555555555555556,
              "#d8576b"
             ],
             [
              0.6666666666666666,
              "#ed7953"
             ],
             [
              0.7777777777777778,
              "#fb9f3a"
             ],
             [
              0.8888888888888888,
              "#fdca26"
             ],
             [
              1,
              "#f0f921"
             ]
            ],
            "type": "histogram2d"
           }
          ],
          "histogram2dcontour": [
           {
            "colorbar": {
             "outlinewidth": 0,
             "ticks": ""
            },
            "colorscale": [
             [
              0,
              "#0d0887"
             ],
             [
              0.1111111111111111,
              "#46039f"
             ],
             [
              0.2222222222222222,
              "#7201a8"
             ],
             [
              0.3333333333333333,
              "#9c179e"
             ],
             [
              0.4444444444444444,
              "#bd3786"
             ],
             [
              0.5555555555555556,
              "#d8576b"
             ],
             [
              0.6666666666666666,
              "#ed7953"
             ],
             [
              0.7777777777777778,
              "#fb9f3a"
             ],
             [
              0.8888888888888888,
              "#fdca26"
             ],
             [
              1,
              "#f0f921"
             ]
            ],
            "type": "histogram2dcontour"
           }
          ],
          "mesh3d": [
           {
            "colorbar": {
             "outlinewidth": 0,
             "ticks": ""
            },
            "type": "mesh3d"
           }
          ],
          "parcoords": [
           {
            "line": {
             "colorbar": {
              "outlinewidth": 0,
              "ticks": ""
             }
            },
            "type": "parcoords"
           }
          ],
          "pie": [
           {
            "automargin": true,
            "type": "pie"
           }
          ],
          "scatter": [
           {
            "fillpattern": {
             "fillmode": "overlay",
             "size": 10,
             "solidity": 0.2
            },
            "type": "scatter"
           }
          ],
          "scatter3d": [
           {
            "line": {
             "colorbar": {
              "outlinewidth": 0,
              "ticks": ""
             }
            },
            "marker": {
             "colorbar": {
              "outlinewidth": 0,
              "ticks": ""
             }
            },
            "type": "scatter3d"
           }
          ],
          "scattercarpet": [
           {
            "marker": {
             "colorbar": {
              "outlinewidth": 0,
              "ticks": ""
             }
            },
            "type": "scattercarpet"
           }
          ],
          "scattergeo": [
           {
            "marker": {
             "colorbar": {
              "outlinewidth": 0,
              "ticks": ""
             }
            },
            "type": "scattergeo"
           }
          ],
          "scattergl": [
           {
            "marker": {
             "colorbar": {
              "outlinewidth": 0,
              "ticks": ""
             }
            },
            "type": "scattergl"
           }
          ],
          "scattermap": [
           {
            "marker": {
             "colorbar": {
              "outlinewidth": 0,
              "ticks": ""
             }
            },
            "type": "scattermap"
           }
          ],
          "scattermapbox": [
           {
            "marker": {
             "colorbar": {
              "outlinewidth": 0,
              "ticks": ""
             }
            },
            "type": "scattermapbox"
           }
          ],
          "scatterpolar": [
           {
            "marker": {
             "colorbar": {
              "outlinewidth": 0,
              "ticks": ""
             }
            },
            "type": "scatterpolar"
           }
          ],
          "scatterpolargl": [
           {
            "marker": {
             "colorbar": {
              "outlinewidth": 0,
              "ticks": ""
             }
            },
            "type": "scatterpolargl"
           }
          ],
          "scatterternary": [
           {
            "marker": {
             "colorbar": {
              "outlinewidth": 0,
              "ticks": ""
             }
            },
            "type": "scatterternary"
           }
          ],
          "surface": [
           {
            "colorbar": {
             "outlinewidth": 0,
             "ticks": ""
            },
            "colorscale": [
             [
              0,
              "#0d0887"
             ],
             [
              0.1111111111111111,
              "#46039f"
             ],
             [
              0.2222222222222222,
              "#7201a8"
             ],
             [
              0.3333333333333333,
              "#9c179e"
             ],
             [
              0.4444444444444444,
              "#bd3786"
             ],
             [
              0.5555555555555556,
              "#d8576b"
             ],
             [
              0.6666666666666666,
              "#ed7953"
             ],
             [
              0.7777777777777778,
              "#fb9f3a"
             ],
             [
              0.8888888888888888,
              "#fdca26"
             ],
             [
              1,
              "#f0f921"
             ]
            ],
            "type": "surface"
           }
          ],
          "table": [
           {
            "cells": {
             "fill": {
              "color": "#EBF0F8"
             },
             "line": {
              "color": "white"
             }
            },
            "header": {
             "fill": {
              "color": "#C8D4E3"
             },
             "line": {
              "color": "white"
             }
            },
            "type": "table"
           }
          ]
         },
         "layout": {
          "annotationdefaults": {
           "arrowcolor": "#2a3f5f",
           "arrowhead": 0,
           "arrowwidth": 1
          },
          "autotypenumbers": "strict",
          "coloraxis": {
           "colorbar": {
            "outlinewidth": 0,
            "ticks": ""
           }
          },
          "colorscale": {
           "diverging": [
            [
             0,
             "#8e0152"
            ],
            [
             0.1,
             "#c51b7d"
            ],
            [
             0.2,
             "#de77ae"
            ],
            [
             0.3,
             "#f1b6da"
            ],
            [
             0.4,
             "#fde0ef"
            ],
            [
             0.5,
             "#f7f7f7"
            ],
            [
             0.6,
             "#e6f5d0"
            ],
            [
             0.7,
             "#b8e186"
            ],
            [
             0.8,
             "#7fbc41"
            ],
            [
             0.9,
             "#4d9221"
            ],
            [
             1,
             "#276419"
            ]
           ],
           "sequential": [
            [
             0,
             "#0d0887"
            ],
            [
             0.1111111111111111,
             "#46039f"
            ],
            [
             0.2222222222222222,
             "#7201a8"
            ],
            [
             0.3333333333333333,
             "#9c179e"
            ],
            [
             0.4444444444444444,
             "#bd3786"
            ],
            [
             0.5555555555555556,
             "#d8576b"
            ],
            [
             0.6666666666666666,
             "#ed7953"
            ],
            [
             0.7777777777777778,
             "#fb9f3a"
            ],
            [
             0.8888888888888888,
             "#fdca26"
            ],
            [
             1,
             "#f0f921"
            ]
           ],
           "sequentialminus": [
            [
             0,
             "#0d0887"
            ],
            [
             0.1111111111111111,
             "#46039f"
            ],
            [
             0.2222222222222222,
             "#7201a8"
            ],
            [
             0.3333333333333333,
             "#9c179e"
            ],
            [
             0.4444444444444444,
             "#bd3786"
            ],
            [
             0.5555555555555556,
             "#d8576b"
            ],
            [
             0.6666666666666666,
             "#ed7953"
            ],
            [
             0.7777777777777778,
             "#fb9f3a"
            ],
            [
             0.8888888888888888,
             "#fdca26"
            ],
            [
             1,
             "#f0f921"
            ]
           ]
          },
          "colorway": [
           "#636efa",
           "#EF553B",
           "#00cc96",
           "#ab63fa",
           "#FFA15A",
           "#19d3f3",
           "#FF6692",
           "#B6E880",
           "#FF97FF",
           "#FECB52"
          ],
          "font": {
           "color": "#2a3f5f"
          },
          "geo": {
           "bgcolor": "white",
           "lakecolor": "white",
           "landcolor": "#E5ECF6",
           "showlakes": true,
           "showland": true,
           "subunitcolor": "white"
          },
          "hoverlabel": {
           "align": "left"
          },
          "hovermode": "closest",
          "mapbox": {
           "style": "light"
          },
          "paper_bgcolor": "white",
          "plot_bgcolor": "#E5ECF6",
          "polar": {
           "angularaxis": {
            "gridcolor": "white",
            "linecolor": "white",
            "ticks": ""
           },
           "bgcolor": "#E5ECF6",
           "radialaxis": {
            "gridcolor": "white",
            "linecolor": "white",
            "ticks": ""
           }
          },
          "scene": {
           "xaxis": {
            "backgroundcolor": "#E5ECF6",
            "gridcolor": "white",
            "gridwidth": 2,
            "linecolor": "white",
            "showbackground": true,
            "ticks": "",
            "zerolinecolor": "white"
           },
           "yaxis": {
            "backgroundcolor": "#E5ECF6",
            "gridcolor": "white",
            "gridwidth": 2,
            "linecolor": "white",
            "showbackground": true,
            "ticks": "",
            "zerolinecolor": "white"
           },
           "zaxis": {
            "backgroundcolor": "#E5ECF6",
            "gridcolor": "white",
            "gridwidth": 2,
            "linecolor": "white",
            "showbackground": true,
            "ticks": "",
            "zerolinecolor": "white"
           }
          },
          "shapedefaults": {
           "line": {
            "color": "#2a3f5f"
           }
          },
          "ternary": {
           "aaxis": {
            "gridcolor": "white",
            "linecolor": "white",
            "ticks": ""
           },
           "baxis": {
            "gridcolor": "white",
            "linecolor": "white",
            "ticks": ""
           },
           "bgcolor": "#E5ECF6",
           "caxis": {
            "gridcolor": "white",
            "linecolor": "white",
            "ticks": ""
           }
          },
          "title": {
           "x": 0.05
          },
          "xaxis": {
           "automargin": true,
           "gridcolor": "white",
           "linecolor": "white",
           "ticks": "",
           "title": {
            "standoff": 15
           },
           "zerolinecolor": "white",
           "zerolinewidth": 2
          },
          "yaxis": {
           "automargin": true,
           "gridcolor": "white",
           "linecolor": "white",
           "ticks": "",
           "title": {
            "standoff": 15
           },
           "zerolinecolor": "white",
           "zerolinewidth": 2
          }
         }
        },
        "title": {
         "text": "Property Age vs Sale Price"
        },
        "xaxis": {
         "anchor": "y",
         "domain": [
          0,
          1
         ],
         "title": {
          "text": "PropertyAge"
         }
        },
        "yaxis": {
         "anchor": "x",
         "domain": [
          0,
          1
         ],
         "title": {
          "text": "SalePrice"
         }
        }
       }
      }
     },
     "metadata": {},
     "output_type": "display_data"
    }
   ],
   "source": [
    "#Is there a Correlation between Property Age and Sale Price\n",
    "df_train['PropertyAge'] = df_train['YrSold'] - df_train['YearBuilt']\n",
    "#calculate the correlation between the new feature and the target\n",
    "property_age_corr = df_train['PropertyAge'].corr(df_train['SalePrice'])\n",
    "print(f\"Correlation between Property Age and Sale Price: {property_age_corr}\")\n",
    "#create a scatter plot\n",
    "fig8 =px.scatter(df_train, x='PropertyAge', y='SalePrice', title='Property Age vs Sale Price',\n",
    "                  color='PropertyAge', color_continuous_scale=px.colors.sequential.Purp)\n",
    "fig8.update_layout(plot_bgcolor='rgb(30,30,30)', paper_bgcolor='rgb(30,30,30)', font=dict(color='white'))\n",
    "fig8.show()"
   ]
  },
  {
   "cell_type": "code",
   "execution_count": 43,
   "metadata": {},
   "outputs": [
    {
     "name": "stdout",
     "output_type": "stream",
     "text": [
      "Correlation between Living Area and Sale Price: 0.7086244776126521\n"
     ]
    },
    {
     "data": {
      "application/vnd.plotly.v1+json": {
       "config": {
        "plotlyServerURL": "https://plot.ly"
       },
       "data": [
        {
         "hovertemplate": "GrLivArea=%{marker.color}<br>SalePrice=%{y}<extra></extra>",
         "legendgroup": "",
         "marker": {
          "color": {
           "bdata": "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",
           "dtype": "i2"
          },
          "coloraxis": "coloraxis",
          "symbol": "circle"
         },
         "mode": "markers",
         "name": "",
         "showlegend": false,
         "type": "scattergl",
         "x": {
          "bdata": "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",
          "dtype": "i2"
         },
         "xaxis": "x",
         "y": {
          "bdata": "dC4DAPzEAgAMaQMA4CICAJDQAwCYLgIAOK8EAEANAwBs+wEA8MwBANz5AQCoQwUAgDICAMxDBABIZQIAoAMCAAhGAgCQXwEAGG0CAPgeAgC09gQAiCACAHCCAwBs+wEAkFkCACzpAwCQDgIAUKsEAIwqAwCUCwEAQJwAAGZHAgC8vgIAfIYCAPw7BAAItwQAaDYCAKhVAgDIqQEAUEABAABxAgAQmAIAgDICAMr8AQDIJgIAnOEEAEaoAwBkzwMAaLkBABjwAQBoswIARL8BALCtAQDo3wUA0PsBABTBAgDUoQIAlP8CAPyxBgDk5wEAMGkCAIiKAQAEFwMA4CICAGxZAwBI1gQAIL8CANByAwCAOAEA6G4DACC5AwDc+QEAqNICAAQ2AgCIowEAeGMBAEYSAgAY8AEANBUCALCtAQDc8wIAnFcCAAi9AwAk7gEANJICAKD3AwCwpwIAlIICAAhMAQDQ4gEATK0BACiBAQCsfgIADAsCAM4fAwCo0gIA8EMDAB5yAQA4RAEAtvcBAMggAwBQtwIAtNABAPQIAwAclgIAkNADAKCGAQA4wQEAOMEBADDmAgDEFgIAIL8CAOLbBQCoTwMArPUDAICvAgD4HgIAeF0CAADiBACWgAIAIL8CAKCGAQBAEwIALFkCAAjDAgAUSgEAAPQBANhTAQB4XQIA8EkCANByAwAguQMA3kwCAGBbAwAgvwIAsKcCAJguAgD4mwIAcIIDAEyIAwA4wQEAoPcDAHCIAgDgHAMASOgBAND7AQAomgEAJGUDAMgmAgA4wQEAkNwBALKuBQAw5gIA+JUDAEjoAQCYNAEAvKsBALwcBAC04wMAAOIEAMR6AgBUSwYAYFsDACCTAQDAUQIADPIBADDmAgD49wQAzMwCAKB6AwD09QEA2EcDAJilAwC4fAIAwM4CADi1AwA4OAMA1KECAE2oBwCghgEAaLMCAKQNAwDA1AEAQA0DABjwAQB4PwcAyKMCAFgPAgD5VgIAMF0EAHjOBADAzgIAAO4CAND7AQAY8AEAFEQCAEDCBAD4lQMAQJYBANQxBADgIgIA7J0CAIC1AQAIRgIAsK0BABTBAgAcMgIAyCYCAAg6BABoNgIA0H4BAJDWAgAG2wMAYGECANZ3AgAyDQIAUDQDAPihAQDMwAQASI0CAGQgAwBADQMAvL4CAOh6AQDK5AUAgLUBANBsBAAQngEASOgBAPTvAgAgQgIAOCYGACRxAQDI9AEAtE0DAJxdAQCc1AIAxPcCADDaBABouQEAZAEEAKSvAQCYNAEAwNQBAMggAwBcrwMAKBcCAOAiAgAgvwIACDoEANQqAQD4lQMAyKMCADBpAgBoNgIAcIIDAIwqAwBgWwMATIgDAOh6AQCArwIAIDYEANhNAgDQ+wEAKB0BAIytAgCo0gIALL0CALTWAQAgQgIAEA8EAFyvAwDQbAQA+B4CAFTmAQDIIAMAKBEDAMgmAgBCVgYAAO4CAJR8AwCo0gIAjCoDAHi7AwAAvAIAXIMCABhtAgDAVwEAkNwBAOdXAgAOjwMA3BICALj/AQD4lQMAWIwCAKQsAgDAUQIAmKUDAJirAgAkawIASGUCAPgSBADIIAMAjEkCAFiABADsqgQA6G4DAJxdAQBEQgEAQH4FAOCGAgCgAwIAXNQBANi4BQBQtwIAVOACAKD3AwCwHgQAoPcDAGzcAgBzOgUA0GYFAMiXBADf7AEAULEDANhTAQCg8QQAYjcCAORFAwCwMAEA2NABAPgeAgBgVQQAmCgDAADuAgBWfgMAUsIFAPBDAwAEFwMAeF0CAJQYAwBQQAEAzFUBABAPBAAITAEAqCMCAMxPAgA8ZwIAkFkCAKKrBgBt2gQAMOYCABhzAQCsnQEA4CICAFy1AgDIowIAcAsCAND7AQDARQQAYGECAGg2AgBkBwMA8MwBADDmAgA4PgIAGG0CAIiEAgCgAwIA0HgCAHChAgAgDQIASOgBAHjgAQBsWQMASO4AACBCAgAgMAUAwAQGADi7AgAY8AEAZt0CAPxBAwDgKAEAgKkDAADuAgBoPAEASOgBABjqAgAQgAYA2NABANhHAwAEoAEAoIYBAMipAQDo9wEAeOABAByWAgC4BQEAaK0DAPy+AwB+hAIA4KUBANDvAwBAkAIA8EkCADjBAQBoswIAwEUEACYvBQBg6gAAaDYCADBjAwA4wQEAoHoDAI7DAgD8RwIAmKUDADDsAQCwKgIA3CUDANhHAwBouQEAeM4EAPgeAgBYDwIAODIEANCpAQBI+wIAmKsCAJhNAQAcOAEAhN4BAAjDAgBoPAEAIDwDACDFAQDY0AEA7mABALCtAQD4dwgA8MwBAFR8AgDUoQIAUDQDAAzyAQAw5gIA3AwDAMzSAQDA1AEAsK0BAMBFBADgHAMAUDQDAGDeAgCMrQIA0H4BAADoAwDodAIAsK0BAAsFBAB4XQIAr/MAABzhAgBg5AEANLoCAFiMAgBEPAIAkNADAHjaAgAgPAMAMOYCACBCAgDAtgYAeNQDAJQFAgAEMAMAYMwFACiIBAB/XQEAcPkEAPC0BQB4XQIAoIACAJQFAgA4PgIAYGECAJirAgAAcQIA8E8BADjBAQCIBwIA8aICAHhdAgCkZAEAVIgAALCPBgDAzgIA0PsBAMDUAQBouQEAjHUDAOAiAgDoaAQAOD4CAFTmAQDYRwMArC0DAOh0AgBU5gEAJIQCAKkXAwBs+wEAcAsCAPR4AQCtJQYAMGkCACgLBAA4OAMAEJIDAAqfAQDwSQIAGG0CAK7RAgBm0QQAgK8CAKADAgA1zwYA8E8BALAPAwCYqwIAAPQBAOyjAQCEmQAAULcCAOyjAQBg3gIAkrIBADBpAgCAJgQAeM4EAMDIAwACQQMAiAcCANG9AgCIfgMAUDQDANz5AQBI6AEAWAMEAOAiAgB0twEADOYDAOClAQBgVQQAaLkBAMgmAgDgpQEAmKsCABCSAwCc2gEAEJgCAOClAQCo0gIA4BYEAAD0AQCI9QQA8EMDALjUBAAYEwIACC0CAMDUAQD0bAMAEJgCAPgeAgDkzgEAaDYCAJSCAgBQOgIArAECAIzGAgBt3QMA5M4BAIj1BACIBwIA7KQFAND7AQAoFwIAmC4CAIw2AQAs1gIAbuUGABAbAgDgIgIAsK0BABjeBABIvwEAmfYCAJxRAwDYTQIAODIEAMgmAgBgWwMA2E0CAEhfAwDIIAMAwFECAOhuAwC8egUA5M4BAKjGBAAgQgIAfP0DADg+AgDsJgEAHBkCAKDLAgAcnAEAvc0EAGinBAC4BQEAgKkDAFgPAgA0kgIAHoUCAABxAgB8IgIAqFUCAFgPAgA0kgIAYOQBAFwyAwBEQgEAiCACAIAyAgBADQMAYOoAAEhrAQAITAEAcQkEAFAuBADQcgMAqEMFAMBRAgC+qAUAki8CAPx/AQB4XQIAeF0CABRKAQB+JAMA4KUBABjqAgBYDwIAMFcFAMBXAQBcOAIACEYCANx8AQBYjAIADAUDAFAiBgCwrQEAHBkCAFh0BgBkhAMA6PcBANzzAgBAkAIAHBkCALylAgCwlAEAiIQCANztAwDgIgIAFEQCANhTAQC8qwEAFK8FAPT1AQCYLgIAym4CAMijAgBIWQQASF8DAIwqAwAjegMAQEUCAED7BQCM+AIAyCYCADiFCwCYHAUAwKcBALwoAgCArwIAqFsBAGziAQAEHQIAoP0CALTEBADgIgIAv4UFAOAiAgAIQAMA2NYAALCbBAAw4AMAVL0CAEytAQAgywAAeJEBAEjiAgDo9wEAxP0BAIiEAgAMbwIASGUCAAg0BQD09QEAODIEAJguAgBU5gEAWA8CAADiBAC01gEAMGMDAMT3AgCwrQEAWJIBANSbAwBs3AIAJGUDAEgBAgDgpQEAuHwCADxtAQAcqQMAOLsCADDmAgCgAwIAsCoCADi7AgCYqwIAIL8CABiTBADgmQMA+w4EADD5AwDQfgEA9HgBANB4AgCoTwMALDQEAGBhAgDUoQIAIDwDALRsAgDIvAIA0GwEAAzyAQCghgEAoEgDAGgkBQCwHgQAxAcEAJT/AgAAcQIABU8DAJA1CAD0DgIAcI4BAPihAQBEvwEA+AYGANB4AgA8YQMApCwCAIAyAgBYDwIAgK8CAByvAgDc2gIAfIYCAAD0AQDcdgIA+B4CACiOAwB8pQEAbNwCAMhxAgBwPQIA3h0EAOhuAwDE9wIA+JsCAIwwAgCwrQEAiGYHAJirAgBADQMATK0BAEjiAgAV5QgA8MwBAGB5AwBMEQIADGkDAM5wAgAQngEACMMCAHQ0AgC52gAAzGgCACDFAQCEbgMAKBcCAJgiBAB4XQIAAGsDANjKAgBIawEA6G4DAOwgAgCYjAMA6N8FALyrAQBI4gIAqNICAMg/AgBwiAIA2E0CAMidAwBYjAIAriICAAD0AQCcVwIAoIYBAIAyAgDE/QEA4CICADxnAgA0qwIAyCYCACxZAgD4mwIACEADAHwJAgCAqQMAeNoCAKwBAgDYRwMAoIACADBpAgAQmAIAGPABADg+AgCwpwIAwFECAJDQAwD+5QIArAECAMBRAgCUBQIA1NIDABREAgBEzAMA6PcBACiUAgDgmQMAvKsBADQPAwAgxQEAiAcCAMQDAQB1oQQAmgQCADBXBQAgQgIANBUCAEhlAgBs3AIAULcCAOTOAQCghgEAxAQFAGg2AgBMEQIA4BYEAPxHAgAU4AEA1KECAIRbAgCIhAIAStABAOAiAgAEoAEAaS4CAElVCQBYDwIAsK0BAKhVAgAgvwIAgKkDADzqAQAA9AEAGOQDAJDQAwC4/wEAsKcCALxaAgCMMAIAwFcBAGg2AgClpgIA+CQBAO+JAABYDwIAsKEDAHSxAgAoEQMA7DkCAAaYAgDo8QIAjCoDAJirAgBIWQQAgK8CANSbAwAwYwMAKBEDAPzKAQAA4gQAMOYCAFCxAwAcOAEARNICAEjcAwC3qAMAsLoDAHRNAgDwQwMA8EkCAJguAgAcGQIA5OcBAJguAgCwHgQA9O8CAHwDAwDo9wEAXNQBAAwLAgDgnwIADPIBAGg2AgBg5AEAoAMCAKjSAgB4XQIAFMcBAIAmBAB4XQIAmKUDAHRHAwDUugIAAHECAFgPAgAMlAAA4CICAFgPAgDIowIArIQBAPDGAgBMjgIAiIQCAPxNAQDcDAMAsK0BAPgeAgDguAIAgCAFAJdwAgCc5wMAMOwBAEjoAQAIyQEAuAcGALj5AgCIAQMAYE8FAECQAgB42gIATKcCAFwmBQAA2wEANBUCAKjSAgB4YwEAsCQDAFBAAQDwTwEAQIoDAMkWAgAIwwIAjEkCAKx+AgDAVwEAgKkDAHCOAQBYDwIAoIYBAIiEAgAITAEAoNEBALh2AwD4GAMAbNwCAABxAgDyQQMAgK8CAND1AgDYUwEAGOoCABhhBAB0twEATI4CANV4BAAomgEA8MwBAABxAgCIAQMA8LoEAHCCAwDG0wEAIEgBAGzQBAAYYQQA6HoBAIA4AQB4XQIAyKMCAKD9AgCIAAQA8D0EAFAhAgAlfggAaDYCADjBAQCkSwEAZbECAM0NAwCIhAIAdDQCABjkAwAgvwIA+tUCAMDIAwCYHAUAYFsDAPxBAwBoPAEAkF8BAKSvAQCQWQIAQAEFAFC3AgDcjwIAaE8CAFgPAgBYDwIAkFkCAGxlAQAMbwIA0PUCAGxZAwAQmAIAMB4CAPxgAgAw7AEAaDYCAIgHAgAA7gIAAHECAGzcAgA4PgIALEYBAGDYAwAcGQIAiAEDAORqAQAAcQIANBUCAFA6AgDo9wEAMLECABjwAQAQmAIAAPQBAEhlAgBg6gAAzNIBAFgPAgAMbwIAEJ4BAIj1BAC8vgIAJTEEAAjDAgDARQQAYN4CAMggAwBs+wEAZA0CAAjJAQAw2gQAJM8CAND7AQDgIgIARAoCAIDOAQCkPwMAgLUBAPDMAQA8gAIAOMEBALCnAgC48wMA2EcDAOAiAgBYDwIAPG0BAPzKAQCMpwMAKJQCAHCOAQDY0AEAMG8BAKD9AgCAMgIA+B4CAHwDAwCmewYAgDgBAIA4AQAIRgIAIL8CAKSpAgCkyAEAmC4CAGDkAQCMSQIAcIIDALTWAQBIFAMAkFMDALy+AgBwggMAeJYDAKjSAgBQOgIAAGsDAOj3AQCfqQEA0PUCANKOAwBmvgMAyKMCAPiVAwBoiQkA+JsCALh8AgB8nwIANA8DAJilAwBIWQQAzNIBADjBAQAUXQIASGsBAJDQAwA0/QUAKF4LAMDUAQBM2QIAxJkBABhzAQBw/wMAuPkCAEjiAgBAkAIAsKcCAEjoAQCIhAIAMGkCAICvAgBKWAMAgDICAFC3AgAgQgIAUsUBAAwFAwAIyQEACEADAJxXAgAcJgQA+KEBAEANAwDgIgIA0GwEAEjiAgCggAIAaLkBAGg2AgBkDQIASOgBAIC1AQBQgAMAdDoBAGxlAQA4wQEAcAsCAJguAgCsGgIAwM4CAGg2AgDwQwMAOD4CAL6aBQAY8AEAMOYCAJQFAgCojQEAsCoCAND7AQCHHgIAjK0CALj5AgCkLAIArA4EAIRuAwAIygMAEJgCAGgYBwBwggMAULcCAITYAgCslwIA3PkBANjQAQAguQMA5p4CAND7AQBwfAQAGIYCAAzyAQC8mQQAPIYBADDmAgDYTQIACMMCAIT3AQDcdgIAFMECAAjDAgBczgIAkNwBAITGBQBI0AUAgDICAKD3AwCW1QIAKBcCAGizAgD4HgIAKBcCANB4AgAMBQMAyJ0DADALAQC4dgMAIL8CAORLAgD4HgIAKJQCAJQFAgCYLgIAMOYCAPA9BACoSQQAFMECAMzSAQDsowEAVHwCADjBAQAEHQIAeF0CAOAiAgAAcQIAkFkCAOhuAwBctQIA0GwEAECKAwDQ+wEAiPUEAAQXAwAQGwIAOD4CAAC8AgCYHAUA+BgDALCbBABwFQUA2NABADQoAwBFggQABDADADgyBACYsQEAVGMCADQbAQAw5gIAREIBADg+AgDY1gAAmDQBAMT9AQAA6AMAdLECALh2AwCUBQIAoIYBADzqAQBI6AEA3I8CAFgPAgAUzQAAQA0DAPT1AQB44AEAeF0CAJR8AwBoswIAu2ACANSnAQBkAQQAR1MEANhHAwCQ3AEAQA0DAPibAgD0DgIAkEEGAPiVAwAQmAIAsK0BAIxJAgBctQIAeM4EAEjiAgCg9wMAxJkBAARlAgAYMwIAwEsDAOjxAgAY8AEAgDICAECKAwAomgEAfIYCAHwvBABEHgcAkNADAJilAwB4YwEACMkBADhEAQBMjgIAhOQAALyfAwBIZQIAgLUBACiaAQA86gEAkNADAEATAgCcwgUAuP8BAPiVAwBg5AEAeOABALh8AgAywwMAfUoEAABxAgAcGQIAEBsCAOoYAgDA1AEA6PECAFf1AgAqUQQAKJoBADgyBACIBwIAgLUBADzqAQDYRwMAcIIDAOAiAgCQXwEA6OsDAJgoAwAcrwIAhN4BACAwBQBg5AEAGGcDALy+AgAM8gEANBUCABoyBACAMgIAsCoCAJgiBADgIgIA2NABAHTKAgCM7gIAhjECAPT7AACE2AIAAHECALCnAgC01gEAeQUGAMRIAgCIAQMAGOoCADRHAgDwugQAqNgBAJC9AgDo9wEAzGgCAICpAwCAtQEAYGcBAEATAgByYQQAaDYCABRKAQCo0gIAmKsCAFA0AwAEEQQALSsCACxAAgA=",
          "dtype": "i4"
         },
         "yaxis": "y"
        }
       ],
       "layout": {
        "coloraxis": {
         "colorbar": {
          "title": {
           "text": "GrLivArea"
          }
         },
         "colorscale": [
          [
           0,
           "rgb(243, 224, 247)"
          ],
          [
           0.16666666666666666,
           "rgb(228, 199, 241)"
          ],
          [
           0.3333333333333333,
           "rgb(209, 175, 232)"
          ],
          [
           0.5,
           "rgb(185, 152, 221)"
          ],
          [
           0.6666666666666666,
           "rgb(159, 130, 206)"
          ],
          [
           0.8333333333333334,
           "rgb(130, 109, 186)"
          ],
          [
           1,
           "rgb(99, 88, 159)"
          ]
         ]
        },
        "font": {
         "color": "white"
        },
        "legend": {
         "tracegroupgap": 0
        },
        "paper_bgcolor": "rgb(30,30,30)",
        "plot_bgcolor": "rgb(30,30,30)",
        "template": {
         "data": {
          "bar": [
           {
            "error_x": {
             "color": "#2a3f5f"
            },
            "error_y": {
             "color": "#2a3f5f"
            },
            "marker": {
             "line": {
              "color": "#E5ECF6",
              "width": 0.5
             },
             "pattern": {
              "fillmode": "overlay",
              "size": 10,
              "solidity": 0.2
             }
            },
            "type": "bar"
           }
          ],
          "barpolar": [
           {
            "marker": {
             "line": {
              "color": "#E5ECF6",
              "width": 0.5
             },
             "pattern": {
              "fillmode": "overlay",
              "size": 10,
              "solidity": 0.2
             }
            },
            "type": "barpolar"
           }
          ],
          "carpet": [
           {
            "aaxis": {
             "endlinecolor": "#2a3f5f",
             "gridcolor": "white",
             "linecolor": "white",
             "minorgridcolor": "white",
             "startlinecolor": "#2a3f5f"
            },
            "baxis": {
             "endlinecolor": "#2a3f5f",
             "gridcolor": "white",
             "linecolor": "white",
             "minorgridcolor": "white",
             "startlinecolor": "#2a3f5f"
            },
            "type": "carpet"
           }
          ],
          "choropleth": [
           {
            "colorbar": {
             "outlinewidth": 0,
             "ticks": ""
            },
            "type": "choropleth"
           }
          ],
          "contour": [
           {
            "colorbar": {
             "outlinewidth": 0,
             "ticks": ""
            },
            "colorscale": [
             [
              0,
              "#0d0887"
             ],
             [
              0.1111111111111111,
              "#46039f"
             ],
             [
              0.2222222222222222,
              "#7201a8"
             ],
             [
              0.3333333333333333,
              "#9c179e"
             ],
             [
              0.4444444444444444,
              "#bd3786"
             ],
             [
              0.5555555555555556,
              "#d8576b"
             ],
             [
              0.6666666666666666,
              "#ed7953"
             ],
             [
              0.7777777777777778,
              "#fb9f3a"
             ],
             [
              0.8888888888888888,
              "#fdca26"
             ],
             [
              1,
              "#f0f921"
             ]
            ],
            "type": "contour"
           }
          ],
          "contourcarpet": [
           {
            "colorbar": {
             "outlinewidth": 0,
             "ticks": ""
            },
            "type": "contourcarpet"
           }
          ],
          "heatmap": [
           {
            "colorbar": {
             "outlinewidth": 0,
             "ticks": ""
            },
            "colorscale": [
             [
              0,
              "#0d0887"
             ],
             [
              0.1111111111111111,
              "#46039f"
             ],
             [
              0.2222222222222222,
              "#7201a8"
             ],
             [
              0.3333333333333333,
              "#9c179e"
             ],
             [
              0.4444444444444444,
              "#bd3786"
             ],
             [
              0.5555555555555556,
              "#d8576b"
             ],
             [
              0.6666666666666666,
              "#ed7953"
             ],
             [
              0.7777777777777778,
              "#fb9f3a"
             ],
             [
              0.8888888888888888,
              "#fdca26"
             ],
             [
              1,
              "#f0f921"
             ]
            ],
            "type": "heatmap"
           }
          ],
          "histogram": [
           {
            "marker": {
             "pattern": {
              "fillmode": "overlay",
              "size": 10,
              "solidity": 0.2
             }
            },
            "type": "histogram"
           }
          ],
          "histogram2d": [
           {
            "colorbar": {
             "outlinewidth": 0,
             "ticks": ""
            },
            "colorscale": [
             [
              0,
              "#0d0887"
             ],
             [
              0.1111111111111111,
              "#46039f"
             ],
             [
              0.2222222222222222,
              "#7201a8"
             ],
             [
              0.3333333333333333,
              "#9c179e"
             ],
             [
              0.4444444444444444,
              "#bd3786"
             ],
             [
              0.5555555555555556,
              "#d8576b"
             ],
             [
              0.6666666666666666,
              "#ed7953"
             ],
             [
              0.7777777777777778,
              "#fb9f3a"
             ],
             [
              0.8888888888888888,
              "#fdca26"
             ],
             [
              1,
              "#f0f921"
             ]
            ],
            "type": "histogram2d"
           }
          ],
          "histogram2dcontour": [
           {
            "colorbar": {
             "outlinewidth": 0,
             "ticks": ""
            },
            "colorscale": [
             [
              0,
              "#0d0887"
             ],
             [
              0.1111111111111111,
              "#46039f"
             ],
             [
              0.2222222222222222,
              "#7201a8"
             ],
             [
              0.3333333333333333,
              "#9c179e"
             ],
             [
              0.4444444444444444,
              "#bd3786"
             ],
             [
              0.5555555555555556,
              "#d8576b"
             ],
             [
              0.6666666666666666,
              "#ed7953"
             ],
             [
              0.7777777777777778,
              "#fb9f3a"
             ],
             [
              0.8888888888888888,
              "#fdca26"
             ],
             [
              1,
              "#f0f921"
             ]
            ],
            "type": "histogram2dcontour"
           }
          ],
          "mesh3d": [
           {
            "colorbar": {
             "outlinewidth": 0,
             "ticks": ""
            },
            "type": "mesh3d"
           }
          ],
          "parcoords": [
           {
            "line": {
             "colorbar": {
              "outlinewidth": 0,
              "ticks": ""
             }
            },
            "type": "parcoords"
           }
          ],
          "pie": [
           {
            "automargin": true,
            "type": "pie"
           }
          ],
          "scatter": [
           {
            "fillpattern": {
             "fillmode": "overlay",
             "size": 10,
             "solidity": 0.2
            },
            "type": "scatter"
           }
          ],
          "scatter3d": [
           {
            "line": {
             "colorbar": {
              "outlinewidth": 0,
              "ticks": ""
             }
            },
            "marker": {
             "colorbar": {
              "outlinewidth": 0,
              "ticks": ""
             }
            },
            "type": "scatter3d"
           }
          ],
          "scattercarpet": [
           {
            "marker": {
             "colorbar": {
              "outlinewidth": 0,
              "ticks": ""
             }
            },
            "type": "scattercarpet"
           }
          ],
          "scattergeo": [
           {
            "marker": {
             "colorbar": {
              "outlinewidth": 0,
              "ticks": ""
             }
            },
            "type": "scattergeo"
           }
          ],
          "scattergl": [
           {
            "marker": {
             "colorbar": {
              "outlinewidth": 0,
              "ticks": ""
             }
            },
            "type": "scattergl"
           }
          ],
          "scattermap": [
           {
            "marker": {
             "colorbar": {
              "outlinewidth": 0,
              "ticks": ""
             }
            },
            "type": "scattermap"
           }
          ],
          "scattermapbox": [
           {
            "marker": {
             "colorbar": {
              "outlinewidth": 0,
              "ticks": ""
             }
            },
            "type": "scattermapbox"
           }
          ],
          "scatterpolar": [
           {
            "marker": {
             "colorbar": {
              "outlinewidth": 0,
              "ticks": ""
             }
            },
            "type": "scatterpolar"
           }
          ],
          "scatterpolargl": [
           {
            "marker": {
             "colorbar": {
              "outlinewidth": 0,
              "ticks": ""
             }
            },
            "type": "scatterpolargl"
           }
          ],
          "scatterternary": [
           {
            "marker": {
             "colorbar": {
              "outlinewidth": 0,
              "ticks": ""
             }
            },
            "type": "scatterternary"
           }
          ],
          "surface": [
           {
            "colorbar": {
             "outlinewidth": 0,
             "ticks": ""
            },
            "colorscale": [
             [
              0,
              "#0d0887"
             ],
             [
              0.1111111111111111,
              "#46039f"
             ],
             [
              0.2222222222222222,
              "#7201a8"
             ],
             [
              0.3333333333333333,
              "#9c179e"
             ],
             [
              0.4444444444444444,
              "#bd3786"
             ],
             [
              0.5555555555555556,
              "#d8576b"
             ],
             [
              0.6666666666666666,
              "#ed7953"
             ],
             [
              0.7777777777777778,
              "#fb9f3a"
             ],
             [
              0.8888888888888888,
              "#fdca26"
             ],
             [
              1,
              "#f0f921"
             ]
            ],
            "type": "surface"
           }
          ],
          "table": [
           {
            "cells": {
             "fill": {
              "color": "#EBF0F8"
             },
             "line": {
              "color": "white"
             }
            },
            "header": {
             "fill": {
              "color": "#C8D4E3"
             },
             "line": {
              "color": "white"
             }
            },
            "type": "table"
           }
          ]
         },
         "layout": {
          "annotationdefaults": {
           "arrowcolor": "#2a3f5f",
           "arrowhead": 0,
           "arrowwidth": 1
          },
          "autotypenumbers": "strict",
          "coloraxis": {
           "colorbar": {
            "outlinewidth": 0,
            "ticks": ""
           }
          },
          "colorscale": {
           "diverging": [
            [
             0,
             "#8e0152"
            ],
            [
             0.1,
             "#c51b7d"
            ],
            [
             0.2,
             "#de77ae"
            ],
            [
             0.3,
             "#f1b6da"
            ],
            [
             0.4,
             "#fde0ef"
            ],
            [
             0.5,
             "#f7f7f7"
            ],
            [
             0.6,
             "#e6f5d0"
            ],
            [
             0.7,
             "#b8e186"
            ],
            [
             0.8,
             "#7fbc41"
            ],
            [
             0.9,
             "#4d9221"
            ],
            [
             1,
             "#276419"
            ]
           ],
           "sequential": [
            [
             0,
             "#0d0887"
            ],
            [
             0.1111111111111111,
             "#46039f"
            ],
            [
             0.2222222222222222,
             "#7201a8"
            ],
            [
             0.3333333333333333,
             "#9c179e"
            ],
            [
             0.4444444444444444,
             "#bd3786"
            ],
            [
             0.5555555555555556,
             "#d8576b"
            ],
            [
             0.6666666666666666,
             "#ed7953"
            ],
            [
             0.7777777777777778,
             "#fb9f3a"
            ],
            [
             0.8888888888888888,
             "#fdca26"
            ],
            [
             1,
             "#f0f921"
            ]
           ],
           "sequentialminus": [
            [
             0,
             "#0d0887"
            ],
            [
             0.1111111111111111,
             "#46039f"
            ],
            [
             0.2222222222222222,
             "#7201a8"
            ],
            [
             0.3333333333333333,
             "#9c179e"
            ],
            [
             0.4444444444444444,
             "#bd3786"
            ],
            [
             0.5555555555555556,
             "#d8576b"
            ],
            [
             0.6666666666666666,
             "#ed7953"
            ],
            [
             0.7777777777777778,
             "#fb9f3a"
            ],
            [
             0.8888888888888888,
             "#fdca26"
            ],
            [
             1,
             "#f0f921"
            ]
           ]
          },
          "colorway": [
           "#636efa",
           "#EF553B",
           "#00cc96",
           "#ab63fa",
           "#FFA15A",
           "#19d3f3",
           "#FF6692",
           "#B6E880",
           "#FF97FF",
           "#FECB52"
          ],
          "font": {
           "color": "#2a3f5f"
          },
          "geo": {
           "bgcolor": "white",
           "lakecolor": "white",
           "landcolor": "#E5ECF6",
           "showlakes": true,
           "showland": true,
           "subunitcolor": "white"
          },
          "hoverlabel": {
           "align": "left"
          },
          "hovermode": "closest",
          "mapbox": {
           "style": "light"
          },
          "paper_bgcolor": "white",
          "plot_bgcolor": "#E5ECF6",
          "polar": {
           "angularaxis": {
            "gridcolor": "white",
            "linecolor": "white",
            "ticks": ""
           },
           "bgcolor": "#E5ECF6",
           "radialaxis": {
            "gridcolor": "white",
            "linecolor": "white",
            "ticks": ""
           }
          },
          "scene": {
           "xaxis": {
            "backgroundcolor": "#E5ECF6",
            "gridcolor": "white",
            "gridwidth": 2,
            "linecolor": "white",
            "showbackground": true,
            "ticks": "",
            "zerolinecolor": "white"
           },
           "yaxis": {
            "backgroundcolor": "#E5ECF6",
            "gridcolor": "white",
            "gridwidth": 2,
            "linecolor": "white",
            "showbackground": true,
            "ticks": "",
            "zerolinecolor": "white"
           },
           "zaxis": {
            "backgroundcolor": "#E5ECF6",
            "gridcolor": "white",
            "gridwidth": 2,
            "linecolor": "white",
            "showbackground": true,
            "ticks": "",
            "zerolinecolor": "white"
           }
          },
          "shapedefaults": {
           "line": {
            "color": "#2a3f5f"
           }
          },
          "ternary": {
           "aaxis": {
            "gridcolor": "white",
            "linecolor": "white",
            "ticks": ""
           },
           "baxis": {
            "gridcolor": "white",
            "linecolor": "white",
            "ticks": ""
           },
           "bgcolor": "#E5ECF6",
           "caxis": {
            "gridcolor": "white",
            "linecolor": "white",
            "ticks": ""
           }
          },
          "title": {
           "x": 0.05
          },
          "xaxis": {
           "automargin": true,
           "gridcolor": "white",
           "linecolor": "white",
           "ticks": "",
           "title": {
            "standoff": 15
           },
           "zerolinecolor": "white",
           "zerolinewidth": 2
          },
          "yaxis": {
           "automargin": true,
           "gridcolor": "white",
           "linecolor": "white",
           "ticks": "",
           "title": {
            "standoff": 15
           },
           "zerolinecolor": "white",
           "zerolinewidth": 2
          }
         }
        },
        "title": {
         "text": "Living Area vs Sale Price"
        },
        "xaxis": {
         "anchor": "y",
         "domain": [
          0,
          1
         ],
         "title": {
          "text": "GrLivArea"
         }
        },
        "yaxis": {
         "anchor": "x",
         "domain": [
          0,
          1
         ],
         "title": {
          "text": "SalePrice"
         }
        }
       }
      }
     },
     "metadata": {},
     "output_type": "display_data"
    }
   ],
   "source": [
    "#Is there a Correlation between Living Area and Sale Price\n",
    "living_area_corr = df_train['GrLivArea'].corr(df_train['SalePrice'])\n",
    "print(f\"Correlation between Living Area and Sale Price: {living_area_corr}\")\n",
    "#create a scatter plot\n",
    "fig9 = px.scatter(df_train, x='GrLivArea', y='SalePrice', title='Living Area vs Sale Price',\n",
    "                  color='GrLivArea', color_continuous_scale=px.colors.sequential.Purp)\n",
    "fig9.update_layout(plot_bgcolor='rgb(30,30,30)', paper_bgcolor='rgb(30,30,30)', font=dict(color='white'))\n",
    "fig9.show()"
   ]
  },
  {
   "cell_type": "code",
   "execution_count": 44,
   "metadata": {},
   "outputs": [
    {
     "data": {
      "application/vnd.plotly.v1+json": {
       "config": {
        "plotlyServerURL": "https://plot.ly"
       },
       "data": [
        {
         "hovertemplate": "YrSold=%{x}<br>SalePrice=%{y}<extra></extra>",
         "legendgroup": "",
         "line": {
          "color": "purple",
          "dash": "solid"
         },
         "marker": {
          "symbol": "circle"
         },
         "mode": "lines+markers",
         "name": "",
         "orientation": "v",
         "showlegend": false,
         "type": "scatter",
         "x": {
          "bdata": "1gfXB9gH2QfaBw==",
          "dtype": "i2"
         },
         "xaxis": "x",
         "y": {
          "bdata": "Fc81q6tIBkEBBz83ebYGQXkN5bWGpgVBci0S1EDnBUGY6O9kjacFQQ==",
          "dtype": "f8"
         },
         "yaxis": "y"
        }
       ],
       "layout": {
        "legend": {
         "tracegroupgap": 0
        },
        "showlegend": false,
        "template": {
         "data": {
          "bar": [
           {
            "error_x": {
             "color": "#f2f5fa"
            },
            "error_y": {
             "color": "#f2f5fa"
            },
            "marker": {
             "line": {
              "color": "rgb(17,17,17)",
              "width": 0.5
             },
             "pattern": {
              "fillmode": "overlay",
              "size": 10,
              "solidity": 0.2
             }
            },
            "type": "bar"
           }
          ],
          "barpolar": [
           {
            "marker": {
             "line": {
              "color": "rgb(17,17,17)",
              "width": 0.5
             },
             "pattern": {
              "fillmode": "overlay",
              "size": 10,
              "solidity": 0.2
             }
            },
            "type": "barpolar"
           }
          ],
          "carpet": [
           {
            "aaxis": {
             "endlinecolor": "#A2B1C6",
             "gridcolor": "#506784",
             "linecolor": "#506784",
             "minorgridcolor": "#506784",
             "startlinecolor": "#A2B1C6"
            },
            "baxis": {
             "endlinecolor": "#A2B1C6",
             "gridcolor": "#506784",
             "linecolor": "#506784",
             "minorgridcolor": "#506784",
             "startlinecolor": "#A2B1C6"
            },
            "type": "carpet"
           }
          ],
          "choropleth": [
           {
            "colorbar": {
             "outlinewidth": 0,
             "ticks": ""
            },
            "type": "choropleth"
           }
          ],
          "contour": [
           {
            "colorbar": {
             "outlinewidth": 0,
             "ticks": ""
            },
            "colorscale": [
             [
              0,
              "#0d0887"
             ],
             [
              0.1111111111111111,
              "#46039f"
             ],
             [
              0.2222222222222222,
              "#7201a8"
             ],
             [
              0.3333333333333333,
              "#9c179e"
             ],
             [
              0.4444444444444444,
              "#bd3786"
             ],
             [
              0.5555555555555556,
              "#d8576b"
             ],
             [
              0.6666666666666666,
              "#ed7953"
             ],
             [
              0.7777777777777778,
              "#fb9f3a"
             ],
             [
              0.8888888888888888,
              "#fdca26"
             ],
             [
              1,
              "#f0f921"
             ]
            ],
            "type": "contour"
           }
          ],
          "contourcarpet": [
           {
            "colorbar": {
             "outlinewidth": 0,
             "ticks": ""
            },
            "type": "contourcarpet"
           }
          ],
          "heatmap": [
           {
            "colorbar": {
             "outlinewidth": 0,
             "ticks": ""
            },
            "colorscale": [
             [
              0,
              "#0d0887"
             ],
             [
              0.1111111111111111,
              "#46039f"
             ],
             [
              0.2222222222222222,
              "#7201a8"
             ],
             [
              0.3333333333333333,
              "#9c179e"
             ],
             [
              0.4444444444444444,
              "#bd3786"
             ],
             [
              0.5555555555555556,
              "#d8576b"
             ],
             [
              0.6666666666666666,
              "#ed7953"
             ],
             [
              0.7777777777777778,
              "#fb9f3a"
             ],
             [
              0.8888888888888888,
              "#fdca26"
             ],
             [
              1,
              "#f0f921"
             ]
            ],
            "type": "heatmap"
           }
          ],
          "histogram": [
           {
            "marker": {
             "pattern": {
              "fillmode": "overlay",
              "size": 10,
              "solidity": 0.2
             }
            },
            "type": "histogram"
           }
          ],
          "histogram2d": [
           {
            "colorbar": {
             "outlinewidth": 0,
             "ticks": ""
            },
            "colorscale": [
             [
              0,
              "#0d0887"
             ],
             [
              0.1111111111111111,
              "#46039f"
             ],
             [
              0.2222222222222222,
              "#7201a8"
             ],
             [
              0.3333333333333333,
              "#9c179e"
             ],
             [
              0.4444444444444444,
              "#bd3786"
             ],
             [
              0.5555555555555556,
              "#d8576b"
             ],
             [
              0.6666666666666666,
              "#ed7953"
             ],
             [
              0.7777777777777778,
              "#fb9f3a"
             ],
             [
              0.8888888888888888,
              "#fdca26"
             ],
             [
              1,
              "#f0f921"
             ]
            ],
            "type": "histogram2d"
           }
          ],
          "histogram2dcontour": [
           {
            "colorbar": {
             "outlinewidth": 0,
             "ticks": ""
            },
            "colorscale": [
             [
              0,
              "#0d0887"
             ],
             [
              0.1111111111111111,
              "#46039f"
             ],
             [
              0.2222222222222222,
              "#7201a8"
             ],
             [
              0.3333333333333333,
              "#9c179e"
             ],
             [
              0.4444444444444444,
              "#bd3786"
             ],
             [
              0.5555555555555556,
              "#d8576b"
             ],
             [
              0.6666666666666666,
              "#ed7953"
             ],
             [
              0.7777777777777778,
              "#fb9f3a"
             ],
             [
              0.8888888888888888,
              "#fdca26"
             ],
             [
              1,
              "#f0f921"
             ]
            ],
            "type": "histogram2dcontour"
           }
          ],
          "mesh3d": [
           {
            "colorbar": {
             "outlinewidth": 0,
             "ticks": ""
            },
            "type": "mesh3d"
           }
          ],
          "parcoords": [
           {
            "line": {
             "colorbar": {
              "outlinewidth": 0,
              "ticks": ""
             }
            },
            "type": "parcoords"
           }
          ],
          "pie": [
           {
            "automargin": true,
            "type": "pie"
           }
          ],
          "scatter": [
           {
            "marker": {
             "line": {
              "color": "#283442"
             }
            },
            "type": "scatter"
           }
          ],
          "scatter3d": [
           {
            "line": {
             "colorbar": {
              "outlinewidth": 0,
              "ticks": ""
             }
            },
            "marker": {
             "colorbar": {
              "outlinewidth": 0,
              "ticks": ""
             }
            },
            "type": "scatter3d"
           }
          ],
          "scattercarpet": [
           {
            "marker": {
             "colorbar": {
              "outlinewidth": 0,
              "ticks": ""
             }
            },
            "type": "scattercarpet"
           }
          ],
          "scattergeo": [
           {
            "marker": {
             "colorbar": {
              "outlinewidth": 0,
              "ticks": ""
             }
            },
            "type": "scattergeo"
           }
          ],
          "scattergl": [
           {
            "marker": {
             "line": {
              "color": "#283442"
             }
            },
            "type": "scattergl"
           }
          ],
          "scattermap": [
           {
            "marker": {
             "colorbar": {
              "outlinewidth": 0,
              "ticks": ""
             }
            },
            "type": "scattermap"
           }
          ],
          "scattermapbox": [
           {
            "marker": {
             "colorbar": {
              "outlinewidth": 0,
              "ticks": ""
             }
            },
            "type": "scattermapbox"
           }
          ],
          "scatterpolar": [
           {
            "marker": {
             "colorbar": {
              "outlinewidth": 0,
              "ticks": ""
             }
            },
            "type": "scatterpolar"
           }
          ],
          "scatterpolargl": [
           {
            "marker": {
             "colorbar": {
              "outlinewidth": 0,
              "ticks": ""
             }
            },
            "type": "scatterpolargl"
           }
          ],
          "scatterternary": [
           {
            "marker": {
             "colorbar": {
              "outlinewidth": 0,
              "ticks": ""
             }
            },
            "type": "scatterternary"
           }
          ],
          "surface": [
           {
            "colorbar": {
             "outlinewidth": 0,
             "ticks": ""
            },
            "colorscale": [
             [
              0,
              "#0d0887"
             ],
             [
              0.1111111111111111,
              "#46039f"
             ],
             [
              0.2222222222222222,
              "#7201a8"
             ],
             [
              0.3333333333333333,
              "#9c179e"
             ],
             [
              0.4444444444444444,
              "#bd3786"
             ],
             [
              0.5555555555555556,
              "#d8576b"
             ],
             [
              0.6666666666666666,
              "#ed7953"
             ],
             [
              0.7777777777777778,
              "#fb9f3a"
             ],
             [
              0.8888888888888888,
              "#fdca26"
             ],
             [
              1,
              "#f0f921"
             ]
            ],
            "type": "surface"
           }
          ],
          "table": [
           {
            "cells": {
             "fill": {
              "color": "#506784"
             },
             "line": {
              "color": "rgb(17,17,17)"
             }
            },
            "header": {
             "fill": {
              "color": "#2a3f5f"
             },
             "line": {
              "color": "rgb(17,17,17)"
             }
            },
            "type": "table"
           }
          ]
         },
         "layout": {
          "annotationdefaults": {
           "arrowcolor": "#f2f5fa",
           "arrowhead": 0,
           "arrowwidth": 1
          },
          "autotypenumbers": "strict",
          "coloraxis": {
           "colorbar": {
            "outlinewidth": 0,
            "ticks": ""
           }
          },
          "colorscale": {
           "diverging": [
            [
             0,
             "#8e0152"
            ],
            [
             0.1,
             "#c51b7d"
            ],
            [
             0.2,
             "#de77ae"
            ],
            [
             0.3,
             "#f1b6da"
            ],
            [
             0.4,
             "#fde0ef"
            ],
            [
             0.5,
             "#f7f7f7"
            ],
            [
             0.6,
             "#e6f5d0"
            ],
            [
             0.7,
             "#b8e186"
            ],
            [
             0.8,
             "#7fbc41"
            ],
            [
             0.9,
             "#4d9221"
            ],
            [
             1,
             "#276419"
            ]
           ],
           "sequential": [
            [
             0,
             "#0d0887"
            ],
            [
             0.1111111111111111,
             "#46039f"
            ],
            [
             0.2222222222222222,
             "#7201a8"
            ],
            [
             0.3333333333333333,
             "#9c179e"
            ],
            [
             0.4444444444444444,
             "#bd3786"
            ],
            [
             0.5555555555555556,
             "#d8576b"
            ],
            [
             0.6666666666666666,
             "#ed7953"
            ],
            [
             0.7777777777777778,
             "#fb9f3a"
            ],
            [
             0.8888888888888888,
             "#fdca26"
            ],
            [
             1,
             "#f0f921"
            ]
           ],
           "sequentialminus": [
            [
             0,
             "#0d0887"
            ],
            [
             0.1111111111111111,
             "#46039f"
            ],
            [
             0.2222222222222222,
             "#7201a8"
            ],
            [
             0.3333333333333333,
             "#9c179e"
            ],
            [
             0.4444444444444444,
             "#bd3786"
            ],
            [
             0.5555555555555556,
             "#d8576b"
            ],
            [
             0.6666666666666666,
             "#ed7953"
            ],
            [
             0.7777777777777778,
             "#fb9f3a"
            ],
            [
             0.8888888888888888,
             "#fdca26"
            ],
            [
             1,
             "#f0f921"
            ]
           ]
          },
          "colorway": [
           "#636efa",
           "#EF553B",
           "#00cc96",
           "#ab63fa",
           "#FFA15A",
           "#19d3f3",
           "#FF6692",
           "#B6E880",
           "#FF97FF",
           "#FECB52"
          ],
          "font": {
           "color": "#f2f5fa"
          },
          "geo": {
           "bgcolor": "rgb(17,17,17)",
           "lakecolor": "rgb(17,17,17)",
           "landcolor": "rgb(17,17,17)",
           "showlakes": true,
           "showland": true,
           "subunitcolor": "#506784"
          },
          "hoverlabel": {
           "align": "left"
          },
          "hovermode": "closest",
          "mapbox": {
           "style": "dark"
          },
          "paper_bgcolor": "rgb(17,17,17)",
          "plot_bgcolor": "rgb(17,17,17)",
          "polar": {
           "angularaxis": {
            "gridcolor": "#506784",
            "linecolor": "#506784",
            "ticks": ""
           },
           "bgcolor": "rgb(17,17,17)",
           "radialaxis": {
            "gridcolor": "#506784",
            "linecolor": "#506784",
            "ticks": ""
           }
          },
          "scene": {
           "xaxis": {
            "backgroundcolor": "rgb(17,17,17)",
            "gridcolor": "#506784",
            "gridwidth": 2,
            "linecolor": "#506784",
            "showbackground": true,
            "ticks": "",
            "zerolinecolor": "#C8D4E3"
           },
           "yaxis": {
            "backgroundcolor": "rgb(17,17,17)",
            "gridcolor": "#506784",
            "gridwidth": 2,
            "linecolor": "#506784",
            "showbackground": true,
            "ticks": "",
            "zerolinecolor": "#C8D4E3"
           },
           "zaxis": {
            "backgroundcolor": "rgb(17,17,17)",
            "gridcolor": "#506784",
            "gridwidth": 2,
            "linecolor": "#506784",
            "showbackground": true,
            "ticks": "",
            "zerolinecolor": "#C8D4E3"
           }
          },
          "shapedefaults": {
           "line": {
            "color": "#f2f5fa"
           }
          },
          "sliderdefaults": {
           "bgcolor": "#C8D4E3",
           "bordercolor": "rgb(17,17,17)",
           "borderwidth": 1,
           "tickwidth": 0
          },
          "ternary": {
           "aaxis": {
            "gridcolor": "#506784",
            "linecolor": "#506784",
            "ticks": ""
           },
           "baxis": {
            "gridcolor": "#506784",
            "linecolor": "#506784",
            "ticks": ""
           },
           "bgcolor": "rgb(17,17,17)",
           "caxis": {
            "gridcolor": "#506784",
            "linecolor": "#506784",
            "ticks": ""
           }
          },
          "title": {
           "x": 0.05
          },
          "updatemenudefaults": {
           "bgcolor": "#506784",
           "borderwidth": 0
          },
          "xaxis": {
           "automargin": true,
           "gridcolor": "#283442",
           "linecolor": "#506784",
           "ticks": "",
           "title": {
            "standoff": 15
           },
           "zerolinecolor": "#283442",
           "zerolinewidth": 2
          },
          "yaxis": {
           "automargin": true,
           "gridcolor": "#283442",
           "linecolor": "#506784",
           "ticks": "",
           "title": {
            "standoff": 15
           },
           "zerolinecolor": "#283442",
           "zerolinewidth": 2
          }
         }
        },
        "title": {
         "text": "Average Sale Price by Year Sold"
        },
        "xaxis": {
         "anchor": "y",
         "domain": [
          0,
          1
         ],
         "title": {
          "text": "Year Sold"
         }
        },
        "yaxis": {
         "anchor": "x",
         "domain": [
          0,
          1
         ],
         "tickformat": ",",
         "tickprefix": "$",
         "title": {
          "text": "Sale Price"
         }
        }
       }
      }
     },
     "metadata": {},
     "output_type": "display_data"
    }
   ],
   "source": [
    "#Does price change year to year?\n",
    "year_prices = df_train.groupby('YrSold')['SalePrice'].mean().reset_index()\n",
    "fig10 = px.line(year_prices, x='YrSold', y='SalePrice', title='Average Sale Price by Year Sold',\n",
    "                color_discrete_sequence=['purple'], template='plotly_dark')\n",
    "fig10.update_traces(mode='lines+markers')\n",
    "fig10.update_yaxes(title='Sale Price', tickprefix='$', tickformat=',')\n",
    "fig10.update_xaxes(title='Year Sold')\n",
    "fig10.update_layout(showlegend=False)\n",
    "fig10.show()"
   ]
  },
  {
   "cell_type": "code",
   "execution_count": 45,
   "metadata": {},
   "outputs": [],
   "source": [
    "#Create a Data Pipeline\n",
    "from sklearn.pipeline import Pipeline\n",
    "from sklearn.compose import ColumnTransformer\n",
    "from sklearn.preprocessing import StandardScaler, OneHotEncoder\n",
    "from sklearn.impute import SimpleImputer\n",
    "\n",
    "# Define the numeric transformer\n",
    "numerical_transformer = Pipeline(steps=[\n",
    "    ('imputer', SimpleImputer(strategy='median')),\n",
    "    ('scaler', StandardScaler())\n",
    "])\n",
    "\n",
    "categorical_transformer = Pipeline(steps=[\n",
    "    ('imputer', SimpleImputer(strategy='constant', fill_value='None')),\n",
    "    ('onehot', OneHotEncoder(handle_unknown='ignore'))\n",
    "])\n"
   ]
  },
  {
   "cell_type": "code",
   "execution_count": 46,
   "metadata": {},
   "outputs": [],
   "source": [
    "categorical_cols = df_train.select_dtypes(include=['object', 'category']).columns\n",
    "numerical_cols = df_train.select_dtypes(exclude=['object', 'category']).columns\n",
    "\n",
    "# remove the target column from the numerical columns\n",
    "numerical_cols = numerical_cols.drop('SalePrice')\n",
    "\n",
    "# combine the transformers\n",
    "preprocessor = ColumnTransformer(\n",
    "    transformers=[\n",
    "        ('num', numerical_transformer, numerical_cols),\n",
    "        ('cat', categorical_transformer, categorical_cols)\n",
    "    ], remainder='passthrough')\n",
    "\n",
    "# Create a pipeline with the preprocessor\n",
    "\n",
    "pipeline = Pipeline(steps=[('preprocessor', preprocessor)])\n",
    "\n",
    "# apply pipeline to the dataset\n",
    "\n",
    "X = df_train.drop('SalePrice', axis=1)\n",
    "y = np.log(df_train['SalePrice'])\n",
    "\n",
    "X_transformed = pipeline.fit_transform(X)"
   ]
  },
  {
   "cell_type": "code",
   "execution_count": 47,
   "metadata": {},
   "outputs": [
    {
     "name": "stdout",
     "output_type": "stream",
     "text": [
      "Linear Regression Best RMSE: 0.16000463953008456\n",
      "Random Forest Best RMSE: 0.14446523651758053\n",
      "XGBoost Best RMSE: 0.1293519467207218\n",
      "CatBoost Best RMSE: 0.12285734427606212\n"
     ]
    }
   ],
   "source": [
    "# trying different models\n",
    "from sklearn.model_selection import cross_val_score\n",
    "from sklearn.linear_model import LinearRegression\n",
    "from sklearn.ensemble import RandomForestRegressor\n",
    "from xgboost import XGBRegressor\n",
    "from catboost import CatBoostRegressor\n",
    "from sklearn.model_selection import RandomizedSearchCV\n",
    "from sklearn.model_selection import train_test_split\n",
    "# split the data into training and testing sets\n",
    "X_train, X_test, y_train, y_test = train_test_split(X_transformed, y, test_size=0.2, random_state=42)\n",
    "\n",
    "# Define models and hyperparameter grids\n",
    "models_params = {\n",
    "    'Linear Regression': {\n",
    "        'model': LinearRegression(),\n",
    "        'params': {}  # No hyperparameters to tune\n",
    "    },\n",
    "    'Random Forest': {\n",
    "        'model': RandomForestRegressor(),\n",
    "        'params': {\n",
    "            'n_estimators': [50, 100, 200, 300],\n",
    "            'max_depth': [None, 10, 20, 30],\n",
    "            'min_samples_split': [2, 5, 10],\n",
    "            'min_samples_leaf': [1, 2, 4]\n",
    "        }\n",
    "    },\n",
    "    'XGBoost': {\n",
    "        'model': XGBRegressor(),\n",
    "        'params': {\n",
    "            'n_estimators': [100, 200, 300],\n",
    "            'learning_rate': [0.01, 0.05, 0.1],\n",
    "            'max_depth': [3, 5, 7, 10],\n",
    "            'subsample': [0.6, 0.8, 1.0]\n",
    "        }\n",
    "    },\n",
    "    'CatBoost': {\n",
    "        'model': CatBoostRegressor(verbose=0),\n",
    "        'params': {\n",
    "            'iterations': [100, 300, 500],\n",
    "            'learning_rate': [0.01, 0.05, 0.1],\n",
    "            'depth': [3, 6, 10]\n",
    "        }\n",
    "    }\n",
    "}\n",
    "\n",
    "# Train and evaluate the models\n",
    "best_models = {}\n",
    "\n",
    "for model_name, config in models_params.items():\n",
    "    model = config['model']\n",
    "    param_grid = config['params']\n",
    "    \n",
    "    if param_grid:  # Tune if there are parameters to search\n",
    "        search = RandomizedSearchCV(model, param_distributions=param_grid, n_iter=10, cv=5, scoring='neg_mean_squared_error', n_jobs=-1, random_state=42)\n",
    "        search.fit(X_train, y_train)\n",
    "        best_model = search.best_estimator_\n",
    "    else:\n",
    "        best_model = model  # Use default model for Linear Regression\n",
    "    \n",
    "    best_models[model_name] = best_model  # Store best model\n",
    "    \n",
    "    # Evaluate with cross-validation\n",
    "    scores = cross_val_score(best_model, X_train, y_train, cv=5, scoring='neg_mean_squared_error')\n",
    "    rmse_scores = np.sqrt(-scores)\n",
    "    \n",
    "    print(f\"{model_name} Best RMSE: {rmse_scores.mean()}\")\n",
    "\n",
    "\n",
    "\n"
   ]
  },
  {
   "cell_type": "code",
   "execution_count": 48,
   "metadata": {},
   "outputs": [],
   "source": [
    "#pca\n",
    "from sklearn.decomposition import PCA\n",
    "\n",
    "pca = PCA()\n",
    "X_pca_pre = pca.fit_transform(X_transformed)\n",
    "\n",
    "# Calculate the cumulative explained variance\n",
    "cumulative_explained_variance = np.cumsum(pca.explained_variance_ratio_)\n",
    "\n",
    "# Choose the number of components based on the explained variance threshold\n",
    "n_components = np.argmax(cumulative_explained_variance >= 0.95) + 1\n",
    "\n",
    "pca = PCA(n_components=n_components)\n",
    "pipeline_pca = Pipeline(steps=\n",
    "                        [('preprocessor', preprocessor),\n",
    "                        ('pca', pca)])\n",
    "\n",
    "X_pca = pipeline_pca.fit_transform(X)"
   ]
  },
  {
   "cell_type": "code",
   "execution_count": 49,
   "metadata": {},
   "outputs": [
    {
     "name": "stdout",
     "output_type": "stream",
     "text": [
      "Linear Regression Best RMSE: 0.1524293194342065\n",
      "Random Forest Best RMSE: 0.1480742645072429\n",
      "XGBoost Best RMSE: 0.13891842878907276\n",
      "CatBoost Best RMSE: 0.13369260751539963\n"
     ]
    }
   ],
   "source": [
    "# split the data into training and testing sets\n",
    "X_train_pca, X_test_pca, y_train_pca, y_test_pca = train_test_split(X_pca, y, test_size=0.2, random_state=42)\n",
    "\n",
    "# Define models and hyperparameter grids\n",
    "models_params = {\n",
    "    'Linear Regression': {\n",
    "        'model': LinearRegression(),\n",
    "        'params': {}  # No hyperparameters to tune\n",
    "    },\n",
    "    'Random Forest': {\n",
    "        'model': RandomForestRegressor(),\n",
    "        'params': {\n",
    "            'n_estimators': [50, 100, 200, 300],\n",
    "            'max_depth': [None, 10, 20, 30],\n",
    "            'min_samples_split': [2, 5, 10],\n",
    "            'min_samples_leaf': [1, 2, 4]\n",
    "        }\n",
    "    },\n",
    "    'XGBoost': {\n",
    "        'model': XGBRegressor(),\n",
    "        'params': {\n",
    "            'n_estimators': [100, 200, 300],\n",
    "            'learning_rate': [0.01, 0.05, 0.1],\n",
    "            'max_depth': [3, 5, 7, 10],\n",
    "            'subsample': [0.6, 0.8, 1.0]\n",
    "        }\n",
    "    },\n",
    "    'CatBoost': {\n",
    "        'model': CatBoostRegressor(verbose=0),\n",
    "        'params': {\n",
    "            'iterations': [100, 300, 500],\n",
    "            'learning_rate': [0.01, 0.05, 0.1],\n",
    "            'depth': [3, 6, 10]\n",
    "        }\n",
    "    }\n",
    "}\n",
    "\n",
    "# Train and evaluate the models\n",
    "best_models_pca = {}\n",
    "\n",
    "for model_name, config in models_params.items():\n",
    "    model = config['model']\n",
    "    param_grid = config['params']\n",
    "    \n",
    "    if param_grid:  # Tune if there are parameters to search\n",
    "        search = RandomizedSearchCV(model, param_distributions=param_grid, n_iter=10, cv=5, scoring='neg_mean_squared_error', n_jobs=-1, random_state=42)\n",
    "        search.fit(X_train_pca, y_train_pca)\n",
    "        best_model_pca = search.best_estimator_\n",
    "    else:\n",
    "        best_model_pca = model  # Use default model for Linear Regression\n",
    "    \n",
    "    best_models_pca[model_name] = best_model_pca  # Store best model\n",
    "    \n",
    "    # Evaluate with cross-validation\n",
    "    scores = cross_val_score(best_model_pca, X_train_pca, y_train_pca, cv=5, scoring='neg_mean_squared_error')\n",
    "    rmse_scores = np.sqrt(-scores)\n",
    "    \n",
    "    print(f\"{model_name} Best RMSE: {rmse_scores.mean()}\")"
   ]
  },
  {
   "cell_type": "code",
   "execution_count": 50,
   "metadata": {},
   "outputs": [
    {
     "data": {
      "text/html": [
       "<div>\n",
       "<style scoped>\n",
       "    .dataframe tbody tr th:only-of-type {\n",
       "        vertical-align: middle;\n",
       "    }\n",
       "\n",
       "    .dataframe tbody tr th {\n",
       "        vertical-align: top;\n",
       "    }\n",
       "\n",
       "    .dataframe thead th {\n",
       "        text-align: right;\n",
       "    }\n",
       "</style>\n",
       "<table border=\"1\" class=\"dataframe\">\n",
       "  <thead>\n",
       "    <tr style=\"text-align: right;\">\n",
       "      <th></th>\n",
       "      <th>Fence</th>\n",
       "      <th>Alley</th>\n",
       "      <th>MiscFeature</th>\n",
       "      <th>PoolQC</th>\n",
       "      <th>FireplaceQu</th>\n",
       "      <th>GarageCond</th>\n",
       "      <th>GarageQual</th>\n",
       "      <th>GarageFinish</th>\n",
       "      <th>GarageType</th>\n",
       "      <th>BsmtExposure</th>\n",
       "      <th>...</th>\n",
       "      <th>Functional</th>\n",
       "      <th>SaleType</th>\n",
       "      <th>LotFrontage</th>\n",
       "      <th>GarageYrBlt</th>\n",
       "      <th>MasVnrArea</th>\n",
       "      <th>BsmtFullBath</th>\n",
       "      <th>BsmtHalfBath</th>\n",
       "      <th>GarageCars</th>\n",
       "      <th>GarageArea</th>\n",
       "      <th>TotalBsmtSF</th>\n",
       "    </tr>\n",
       "    <tr>\n",
       "      <th>Id</th>\n",
       "      <th></th>\n",
       "      <th></th>\n",
       "      <th></th>\n",
       "      <th></th>\n",
       "      <th></th>\n",
       "      <th></th>\n",
       "      <th></th>\n",
       "      <th></th>\n",
       "      <th></th>\n",
       "      <th></th>\n",
       "      <th></th>\n",
       "      <th></th>\n",
       "      <th></th>\n",
       "      <th></th>\n",
       "      <th></th>\n",
       "      <th></th>\n",
       "      <th></th>\n",
       "      <th></th>\n",
       "      <th></th>\n",
       "      <th></th>\n",
       "      <th></th>\n",
       "    </tr>\n",
       "  </thead>\n",
       "  <tbody>\n",
       "    <tr>\n",
       "      <th>1</th>\n",
       "      <td>None</td>\n",
       "      <td>None</td>\n",
       "      <td>None</td>\n",
       "      <td>None</td>\n",
       "      <td>None</td>\n",
       "      <td>TA</td>\n",
       "      <td>TA</td>\n",
       "      <td>RFn</td>\n",
       "      <td>Attchd</td>\n",
       "      <td>No</td>\n",
       "      <td>...</td>\n",
       "      <td>Typ</td>\n",
       "      <td>WD</td>\n",
       "      <td>65.0</td>\n",
       "      <td>2003.0</td>\n",
       "      <td>196.0</td>\n",
       "      <td>1</td>\n",
       "      <td>0</td>\n",
       "      <td>2</td>\n",
       "      <td>548</td>\n",
       "      <td>856</td>\n",
       "    </tr>\n",
       "    <tr>\n",
       "      <th>2</th>\n",
       "      <td>None</td>\n",
       "      <td>None</td>\n",
       "      <td>None</td>\n",
       "      <td>None</td>\n",
       "      <td>TA</td>\n",
       "      <td>TA</td>\n",
       "      <td>TA</td>\n",
       "      <td>RFn</td>\n",
       "      <td>Attchd</td>\n",
       "      <td>Gd</td>\n",
       "      <td>...</td>\n",
       "      <td>Typ</td>\n",
       "      <td>WD</td>\n",
       "      <td>80.0</td>\n",
       "      <td>1976.0</td>\n",
       "      <td>0.0</td>\n",
       "      <td>0</td>\n",
       "      <td>1</td>\n",
       "      <td>2</td>\n",
       "      <td>460</td>\n",
       "      <td>1262</td>\n",
       "    </tr>\n",
       "    <tr>\n",
       "      <th>3</th>\n",
       "      <td>None</td>\n",
       "      <td>None</td>\n",
       "      <td>None</td>\n",
       "      <td>None</td>\n",
       "      <td>TA</td>\n",
       "      <td>TA</td>\n",
       "      <td>TA</td>\n",
       "      <td>RFn</td>\n",
       "      <td>Attchd</td>\n",
       "      <td>Mn</td>\n",
       "      <td>...</td>\n",
       "      <td>Typ</td>\n",
       "      <td>WD</td>\n",
       "      <td>68.0</td>\n",
       "      <td>2001.0</td>\n",
       "      <td>162.0</td>\n",
       "      <td>1</td>\n",
       "      <td>0</td>\n",
       "      <td>2</td>\n",
       "      <td>608</td>\n",
       "      <td>920</td>\n",
       "    </tr>\n",
       "    <tr>\n",
       "      <th>4</th>\n",
       "      <td>None</td>\n",
       "      <td>None</td>\n",
       "      <td>None</td>\n",
       "      <td>None</td>\n",
       "      <td>Gd</td>\n",
       "      <td>TA</td>\n",
       "      <td>TA</td>\n",
       "      <td>Unf</td>\n",
       "      <td>Detchd</td>\n",
       "      <td>No</td>\n",
       "      <td>...</td>\n",
       "      <td>Typ</td>\n",
       "      <td>WD</td>\n",
       "      <td>60.0</td>\n",
       "      <td>1998.0</td>\n",
       "      <td>0.0</td>\n",
       "      <td>1</td>\n",
       "      <td>0</td>\n",
       "      <td>3</td>\n",
       "      <td>642</td>\n",
       "      <td>756</td>\n",
       "    </tr>\n",
       "    <tr>\n",
       "      <th>5</th>\n",
       "      <td>None</td>\n",
       "      <td>None</td>\n",
       "      <td>None</td>\n",
       "      <td>None</td>\n",
       "      <td>TA</td>\n",
       "      <td>TA</td>\n",
       "      <td>TA</td>\n",
       "      <td>RFn</td>\n",
       "      <td>Attchd</td>\n",
       "      <td>Av</td>\n",
       "      <td>...</td>\n",
       "      <td>Typ</td>\n",
       "      <td>WD</td>\n",
       "      <td>84.0</td>\n",
       "      <td>2000.0</td>\n",
       "      <td>350.0</td>\n",
       "      <td>1</td>\n",
       "      <td>0</td>\n",
       "      <td>3</td>\n",
       "      <td>836</td>\n",
       "      <td>1145</td>\n",
       "    </tr>\n",
       "    <tr>\n",
       "      <th>...</th>\n",
       "      <td>...</td>\n",
       "      <td>...</td>\n",
       "      <td>...</td>\n",
       "      <td>...</td>\n",
       "      <td>...</td>\n",
       "      <td>...</td>\n",
       "      <td>...</td>\n",
       "      <td>...</td>\n",
       "      <td>...</td>\n",
       "      <td>...</td>\n",
       "      <td>...</td>\n",
       "      <td>...</td>\n",
       "      <td>...</td>\n",
       "      <td>...</td>\n",
       "      <td>...</td>\n",
       "      <td>...</td>\n",
       "      <td>...</td>\n",
       "      <td>...</td>\n",
       "      <td>...</td>\n",
       "      <td>...</td>\n",
       "      <td>...</td>\n",
       "    </tr>\n",
       "    <tr>\n",
       "      <th>1456</th>\n",
       "      <td>None</td>\n",
       "      <td>None</td>\n",
       "      <td>None</td>\n",
       "      <td>None</td>\n",
       "      <td>TA</td>\n",
       "      <td>TA</td>\n",
       "      <td>TA</td>\n",
       "      <td>RFn</td>\n",
       "      <td>Attchd</td>\n",
       "      <td>No</td>\n",
       "      <td>...</td>\n",
       "      <td>Typ</td>\n",
       "      <td>WD</td>\n",
       "      <td>62.0</td>\n",
       "      <td>1999.0</td>\n",
       "      <td>0.0</td>\n",
       "      <td>0</td>\n",
       "      <td>0</td>\n",
       "      <td>2</td>\n",
       "      <td>460</td>\n",
       "      <td>953</td>\n",
       "    </tr>\n",
       "    <tr>\n",
       "      <th>1457</th>\n",
       "      <td>MnPrv</td>\n",
       "      <td>None</td>\n",
       "      <td>None</td>\n",
       "      <td>None</td>\n",
       "      <td>TA</td>\n",
       "      <td>TA</td>\n",
       "      <td>TA</td>\n",
       "      <td>Unf</td>\n",
       "      <td>Attchd</td>\n",
       "      <td>No</td>\n",
       "      <td>...</td>\n",
       "      <td>Min1</td>\n",
       "      <td>WD</td>\n",
       "      <td>85.0</td>\n",
       "      <td>1978.0</td>\n",
       "      <td>119.0</td>\n",
       "      <td>1</td>\n",
       "      <td>0</td>\n",
       "      <td>2</td>\n",
       "      <td>500</td>\n",
       "      <td>1542</td>\n",
       "    </tr>\n",
       "    <tr>\n",
       "      <th>1458</th>\n",
       "      <td>GdPrv</td>\n",
       "      <td>None</td>\n",
       "      <td>Shed</td>\n",
       "      <td>None</td>\n",
       "      <td>Gd</td>\n",
       "      <td>TA</td>\n",
       "      <td>TA</td>\n",
       "      <td>RFn</td>\n",
       "      <td>Attchd</td>\n",
       "      <td>No</td>\n",
       "      <td>...</td>\n",
       "      <td>Typ</td>\n",
       "      <td>WD</td>\n",
       "      <td>66.0</td>\n",
       "      <td>1941.0</td>\n",
       "      <td>0.0</td>\n",
       "      <td>0</td>\n",
       "      <td>0</td>\n",
       "      <td>1</td>\n",
       "      <td>252</td>\n",
       "      <td>1152</td>\n",
       "    </tr>\n",
       "    <tr>\n",
       "      <th>1459</th>\n",
       "      <td>None</td>\n",
       "      <td>None</td>\n",
       "      <td>None</td>\n",
       "      <td>None</td>\n",
       "      <td>None</td>\n",
       "      <td>TA</td>\n",
       "      <td>TA</td>\n",
       "      <td>Unf</td>\n",
       "      <td>Attchd</td>\n",
       "      <td>Mn</td>\n",
       "      <td>...</td>\n",
       "      <td>Typ</td>\n",
       "      <td>WD</td>\n",
       "      <td>68.0</td>\n",
       "      <td>1950.0</td>\n",
       "      <td>0.0</td>\n",
       "      <td>1</td>\n",
       "      <td>0</td>\n",
       "      <td>1</td>\n",
       "      <td>240</td>\n",
       "      <td>1078</td>\n",
       "    </tr>\n",
       "    <tr>\n",
       "      <th>1460</th>\n",
       "      <td>None</td>\n",
       "      <td>None</td>\n",
       "      <td>None</td>\n",
       "      <td>None</td>\n",
       "      <td>None</td>\n",
       "      <td>TA</td>\n",
       "      <td>TA</td>\n",
       "      <td>Fin</td>\n",
       "      <td>Attchd</td>\n",
       "      <td>No</td>\n",
       "      <td>...</td>\n",
       "      <td>Typ</td>\n",
       "      <td>WD</td>\n",
       "      <td>75.0</td>\n",
       "      <td>1965.0</td>\n",
       "      <td>0.0</td>\n",
       "      <td>1</td>\n",
       "      <td>0</td>\n",
       "      <td>1</td>\n",
       "      <td>276</td>\n",
       "      <td>1256</td>\n",
       "    </tr>\n",
       "  </tbody>\n",
       "</table>\n",
       "<p>1460 rows × 31 columns</p>\n",
       "</div>"
      ],
      "text/plain": [
       "      Fence Alley MiscFeature PoolQC FireplaceQu GarageCond GarageQual  \\\n",
       "Id                                                                       \n",
       "1      None  None        None   None        None         TA         TA   \n",
       "2      None  None        None   None          TA         TA         TA   \n",
       "3      None  None        None   None          TA         TA         TA   \n",
       "4      None  None        None   None          Gd         TA         TA   \n",
       "5      None  None        None   None          TA         TA         TA   \n",
       "...     ...   ...         ...    ...         ...        ...        ...   \n",
       "1456   None  None        None   None          TA         TA         TA   \n",
       "1457  MnPrv  None        None   None          TA         TA         TA   \n",
       "1458  GdPrv  None        Shed   None          Gd         TA         TA   \n",
       "1459   None  None        None   None        None         TA         TA   \n",
       "1460   None  None        None   None        None         TA         TA   \n",
       "\n",
       "     GarageFinish GarageType BsmtExposure  ... Functional SaleType  \\\n",
       "Id                                         ...                       \n",
       "1             RFn     Attchd           No  ...        Typ       WD   \n",
       "2             RFn     Attchd           Gd  ...        Typ       WD   \n",
       "3             RFn     Attchd           Mn  ...        Typ       WD   \n",
       "4             Unf     Detchd           No  ...        Typ       WD   \n",
       "5             RFn     Attchd           Av  ...        Typ       WD   \n",
       "...           ...        ...          ...  ...        ...      ...   \n",
       "1456          RFn     Attchd           No  ...        Typ       WD   \n",
       "1457          Unf     Attchd           No  ...       Min1       WD   \n",
       "1458          RFn     Attchd           No  ...        Typ       WD   \n",
       "1459          Unf     Attchd           Mn  ...        Typ       WD   \n",
       "1460          Fin     Attchd           No  ...        Typ       WD   \n",
       "\n",
       "     LotFrontage GarageYrBlt MasVnrArea BsmtFullBath BsmtHalfBath GarageCars  \\\n",
       "Id                                                                             \n",
       "1           65.0      2003.0      196.0            1            0          2   \n",
       "2           80.0      1976.0        0.0            0            1          2   \n",
       "3           68.0      2001.0      162.0            1            0          2   \n",
       "4           60.0      1998.0        0.0            1            0          3   \n",
       "5           84.0      2000.0      350.0            1            0          3   \n",
       "...          ...         ...        ...          ...          ...        ...   \n",
       "1456        62.0      1999.0        0.0            0            0          2   \n",
       "1457        85.0      1978.0      119.0            1            0          2   \n",
       "1458        66.0      1941.0        0.0            0            0          1   \n",
       "1459        68.0      1950.0        0.0            1            0          1   \n",
       "1460        75.0      1965.0        0.0            1            0          1   \n",
       "\n",
       "     GarageArea TotalBsmtSF  \n",
       "Id                           \n",
       "1           548         856  \n",
       "2           460        1262  \n",
       "3           608         920  \n",
       "4           642         756  \n",
       "5           836        1145  \n",
       "...         ...         ...  \n",
       "1456        460         953  \n",
       "1457        500        1542  \n",
       "1458        252        1152  \n",
       "1459        240        1078  \n",
       "1460        276        1256  \n",
       "\n",
       "[1460 rows x 31 columns]"
      ]
     },
     "execution_count": 50,
     "metadata": {},
     "output_type": "execute_result"
    }
   ],
   "source": [
    "var_explore = df_train[['Fence','Alley','MiscFeature','PoolQC','FireplaceQu','GarageCond','GarageQual','GarageFinish','GarageType','BsmtExposure','BsmtFinType2','BsmtFinType1','BsmtCond','BsmtQual','MasVnrType','Electrical','MSZoning','Utilities','Exterior1st','Exterior2nd','KitchenQual','Functional','SaleType','LotFrontage','GarageYrBlt','MasVnrArea','BsmtFullBath','BsmtHalfBath','GarageCars','GarageArea','TotalBsmtSF']]\n",
    "var_explore"
   ]
  },
  {
   "cell_type": "code",
   "execution_count": 51,
   "metadata": {},
   "outputs": [],
   "source": [
    "from sklearn.preprocessing import FunctionTransformer\n",
    "\n",
    "# Feature engineering functions\n",
    "def custom_features(df):\n",
    "    df_out = df.copy()\n",
    "    df_out['PropertyAge'] = df_out['YrSold'] - df_out['YearBuilt']\n",
    "    df_out['TotalBathrooms'] = df_out['FullBath'] + 0.5 * df_out['HalfBath'] + df_out['BsmtFullBath'] + 0.5 * df_out['BsmtHalfBath']\n",
    "    df_out['TotalPorchSF'] = df_out['OpenPorchSF'] + df_out['EnclosedPorch'] + df_out['3SsnPorch'] + df_out['ScreenPorch']\n",
    "    df_out['TotalSF'] = df_out['TotalBsmtSF'] + df_out['1stFlrSF'] + df_out['2ndFlrSF']\n",
    "    df_out['HasPool'] = df_out['PoolArea'].apply(lambda x: 1 if x > 0 else 0)\n",
    "    df_out['HasFireplace'] = df_out[['Fireplaces', 'FireplaceQu']].apply(\n",
    "        lambda x: 1 if x['Fireplaces'] > 0 and x['FireplaceQu'] != 'None' else 0, axis=1)\n",
    "    df_out['HasGarage'] = df_out['GarageArea'].apply(lambda x: 1 if x > 0 else 0)\n",
    "    df_out['HasBsmt'] = df_out['TotalBsmtSF'].apply(lambda x: 1 if x > 0 else 0)\n",
    "    df_out['HasPorch'] = df_out['TotalPorchSF'].apply(lambda x: 1 if x > 0 else 0)\n",
    "    df_out['HasFence'] = df_out['Fence'].apply(lambda x: 1 if x != 'None' else 0)\n",
    "    df_out['HasAlley'] = df_out['Alley'].apply(lambda x: 1 if x != 'None' else 0)\n",
    "    df_out['HasMiscFeature'] = df_out['MiscFeature'].apply(lambda x: 1 if x != 'None' else 0)\n",
    "    df_out['HasRemodeled'] = (df_out['YearRemodAdd'] != df_out['YearBuilt']).astype(int)\n",
    "    df_out['Has2ndFloor'] = df_out['2ndFlrSF'].apply(lambda x: 1 if x > 0 else 0)\n",
    "    df_out['HasMasVnr'] = df_out['MasVnrArea'].apply(lambda x: 1 if x > 0 else 0)\n",
    "    df_out['Total_space_quality']= df_out['TotalSF']*df_out['OverallQual']\n",
    "    df_out['Total_space_condition']= df_out['TotalSF']*df_out['OverallCond']\n",
    "    df_out['effective_age'] = df_out['PropertyAge'] * df_out['HasRemodeled']\n",
    "    return df_out\n",
    "\n",
    "feature_engineering_transformer = FunctionTransformer(custom_features)\n"
   ]
  },
  {
   "cell_type": "code",
   "execution_count": 71,
   "metadata": {},
   "outputs": [
    {
     "name": "stdout",
     "output_type": "stream",
     "text": [
      "✅ Transformed Columns: Index(['MSSubClass', 'MSZoning', 'LotFrontage', 'LotArea', 'Street', 'Alley',\n",
      "       'LotShape', 'LandContour', 'Utilities', 'LotConfig', 'LandSlope',\n",
      "       'Neighborhood', 'Condition1', 'Condition2', 'BldgType', 'HouseStyle',\n",
      "       'OverallQual', 'OverallCond', 'YearBuilt', 'YearRemodAdd', 'RoofStyle',\n",
      "       'RoofMatl', 'Exterior1st', 'Exterior2nd', 'MasVnrType', 'MasVnrArea',\n",
      "       'ExterQual', 'ExterCond', 'Foundation', 'BsmtQual', 'BsmtCond',\n",
      "       'BsmtExposure', 'BsmtFinType1', 'BsmtFinSF1', 'BsmtFinType2',\n",
      "       'BsmtFinSF2', 'BsmtUnfSF', 'TotalBsmtSF', 'Heating', 'HeatingQC',\n",
      "       'CentralAir', 'Electrical', '1stFlrSF', '2ndFlrSF', 'LowQualFinSF',\n",
      "       'GrLivArea', 'BsmtFullBath', 'BsmtHalfBath', 'FullBath', 'HalfBath',\n",
      "       'BedroomAbvGr', 'KitchenAbvGr', 'KitchenQual', 'TotRmsAbvGrd',\n",
      "       'Functional', 'Fireplaces', 'FireplaceQu', 'GarageType', 'GarageYrBlt',\n",
      "       'GarageFinish', 'GarageCars', 'GarageArea', 'GarageQual', 'GarageCond',\n",
      "       'PavedDrive', 'WoodDeckSF', 'OpenPorchSF', 'EnclosedPorch', '3SsnPorch',\n",
      "       'ScreenPorch', 'PoolArea', 'PoolQC', 'Fence', 'MiscFeature', 'MiscVal',\n",
      "       'MoSold', 'YrSold', 'SaleType', 'SaleCondition', 'SalePrice',\n",
      "       'PropertyAge', 'TotalBathrooms', 'TotalPorchSF', 'TotalSF', 'HasPool',\n",
      "       'HasFireplace', 'HasGarage', 'HasBsmt', 'HasPorch', 'HasFence',\n",
      "       'HasAlley', 'HasMiscFeature', 'HasRemodeled', 'Has2ndFloor',\n",
      "       'HasMasVnr', 'Total_space_quality', 'Total_space_condition',\n",
      "       'effective_age'],\n",
      "      dtype='object')\n"
     ]
    }
   ],
   "source": [
    "df_transformed = feature_engineering_transformer.fit_transform(df_train)\n",
    "print(\"✅ Transformed Columns:\", df_transformed.columns)\n"
   ]
  },
  {
   "cell_type": "code",
   "execution_count": 52,
   "metadata": {},
   "outputs": [],
   "source": [
    "# Identify categorical and numerical columns\n",
    "new_cols_categorical = pd.Index(['HasPool', 'HasFireplace', 'HasGarage', 'HasBsmt', 'HasPorch', 'HasFence', 'HasAlley', 'HasMiscFeature', 'HasRemodeled', 'Has2ndFloor', 'HasMasVnr'])\n",
    "new_cols_numerical = pd.Index(['PropertyAge', 'TotalBathrooms', 'TotalPorchSF', 'TotalSF', 'Total_space_quality', 'Total_space_condition', 'effective_age'])\n",
    "\n",
    "# update categorical and numerical columns\n",
    "categorical_columns = df_train.select_dtypes(include=['object', 'category']).columns.append(new_cols_categorical)\n",
    "numerical_columns = df_train.select_dtypes(exclude=['object', 'category']).columns.append(new_cols_numerical)\n",
    "\n",
    "numerical_columns = numerical_columns.drop('SalePrice')\n",
    "\n",
    "# Combine the transformers\n",
    "preprocessor = ColumnTransformer(\n",
    "    transformers=[\n",
    "        ('num', numerical_transformer, numerical_columns),\n",
    "        ('cat', categorical_transformer, categorical_columns)\n",
    "    ], remainder='passthrough')\n",
    "# Create a pipeline with the preprocessor and feature engineering\n",
    "pipeline_fe = Pipeline(steps=[('feature_engineering', feature_engineering_transformer),\n",
    "                           ('preprocessor', preprocessor)])\n",
    "\n",
    "# Apply the pipeline to the dataset\n",
    "X = df_train.drop('SalePrice', axis=1)\n",
    "y = np.log(df_train['SalePrice'])\n",
    "X_preprocessed_fe = pipeline_fe.fit_transform(X)\n",
    "\n"
   ]
  },
  {
   "cell_type": "code",
   "execution_count": 53,
   "metadata": {},
   "outputs": [
    {
     "name": "stdout",
     "output_type": "stream",
     "text": [
      "Best parameters for Linear Regression: {'copy_X': True, 'fit_intercept': True, 'n_jobs': None, 'positive': False}\n",
      "Linear Regression Best RMSE: 0.1508473860331942\n",
      "Best parameters for Random Forest: {'bootstrap': True, 'ccp_alpha': 0.0, 'criterion': 'squared_error', 'max_depth': None, 'max_features': 1.0, 'max_leaf_nodes': None, 'max_samples': None, 'min_impurity_decrease': 0.0, 'min_samples_leaf': 2, 'min_samples_split': 5, 'min_weight_fraction_leaf': 0.0, 'monotonic_cst': None, 'n_estimators': 200, 'n_jobs': None, 'oob_score': False, 'random_state': None, 'verbose': 0, 'warm_start': False}\n",
      "Random Forest Best RMSE: 0.13857395183428856\n",
      "Best parameters for XGBoost: {'objective': 'reg:squarederror', 'base_score': None, 'booster': None, 'callbacks': None, 'colsample_bylevel': None, 'colsample_bynode': None, 'colsample_bytree': None, 'device': None, 'early_stopping_rounds': None, 'enable_categorical': False, 'eval_metric': None, 'feature_types': None, 'gamma': None, 'grow_policy': None, 'importance_type': None, 'interaction_constraints': None, 'learning_rate': 0.1, 'max_bin': None, 'max_cat_threshold': None, 'max_cat_to_onehot': None, 'max_delta_step': None, 'max_depth': 3, 'max_leaves': None, 'min_child_weight': None, 'missing': nan, 'monotone_constraints': None, 'multi_strategy': None, 'n_estimators': 200, 'n_jobs': None, 'num_parallel_tree': None, 'random_state': None, 'reg_alpha': None, 'reg_lambda': None, 'sampling_method': None, 'scale_pos_weight': None, 'subsample': 1.0, 'tree_method': None, 'validate_parameters': None, 'verbosity': None}\n",
      "XGBoost Best RMSE: 0.12694397041410288\n",
      "Best parameters for CatBoost: {'loss_function': 'RMSE', 'verbose': 0, 'learning_rate': 0.05, 'iterations': 500, 'depth': 6}\n",
      "CatBoost Best RMSE: 0.12046253260059461\n"
     ]
    }
   ],
   "source": [
    "#split the data into training and testing sets\n",
    "X_train_fe, X_test_fe, y_train_fe, y_test_fe = train_test_split(X_preprocessed_fe, y, test_size=0.2, random_state=42)\n",
    "\n",
    "# Train and evaluate the models\n",
    "best_models_fe = {}\n",
    "\n",
    "for model_name, config in models_params.items():\n",
    "    model = config['model']\n",
    "    param_grid = config['params']\n",
    "    \n",
    "    if param_grid:  # Tune if there are parameters to search\n",
    "        search = RandomizedSearchCV(model, param_distributions=param_grid, n_iter=10, cv=5, scoring='neg_mean_squared_error', n_jobs=-1, random_state=42)\n",
    "        search.fit(X_train_fe, y_train_fe)\n",
    "        best_model_fe = search.best_estimator_\n",
    "    else:\n",
    "        best_model_fe = model  # Use default model for Linear Regression\n",
    "    \n",
    "    best_models_fe[model_name] = best_model_fe  # Store best model\n",
    "    \n",
    "    # Evaluate with cross-validation\n",
    "    scores = cross_val_score(best_model_fe, X_train_fe, y_train_fe, cv=5, scoring='neg_mean_squared_error')\n",
    "    rmse_scores = np.sqrt(-scores)\n",
    "    print(f'Best parameters for {model_name}: {best_model_fe.get_params()}')\n",
    "    print(f\"{model_name} Best RMSE: {rmse_scores.mean()}\")"
   ]
  },
  {
   "cell_type": "code",
   "execution_count": 54,
   "metadata": {},
   "outputs": [
    {
     "name": "stdout",
     "output_type": "stream",
     "text": [
      "Test RMSE: 0.12426331218091044\n"
     ]
    }
   ],
   "source": [
    "# mean squared error\n",
    "from sklearn.metrics import mean_squared_error\n",
    "\n",
    "# Evaluate the best model on the test set\n",
    "best_model = best_models_fe['CatBoost']\n",
    "y_pred = best_model.predict(X_test_fe)\n",
    "rmse = np.sqrt(mean_squared_error(y_test_fe, y_pred))\n",
    "print(f\"Test RMSE: {rmse}\")"
   ]
  },
  {
   "cell_type": "code",
   "execution_count": 55,
   "metadata": {},
   "outputs": [
    {
     "name": "stdout",
     "output_type": "stream",
     "text": [
      "Numerical Columns: Index(['MSSubClass', 'LotFrontage', 'LotArea', 'OverallQual', 'OverallCond',\n",
      "       'YearBuilt', 'YearRemodAdd', 'MasVnrArea', 'BsmtFinSF1', 'BsmtFinSF2',\n",
      "       'BsmtUnfSF', 'TotalBsmtSF', '1stFlrSF', '2ndFlrSF', 'LowQualFinSF',\n",
      "       'GrLivArea', 'BsmtFullBath', 'BsmtHalfBath', 'FullBath', 'HalfBath',\n",
      "       'BedroomAbvGr', 'KitchenAbvGr', 'TotRmsAbvGrd', 'Fireplaces',\n",
      "       'GarageYrBlt', 'GarageCars', 'GarageArea', 'WoodDeckSF', 'OpenPorchSF',\n",
      "       'EnclosedPorch', '3SsnPorch', 'ScreenPorch', 'PoolArea', 'MiscVal',\n",
      "       'MoSold', 'YrSold', 'PropertyAge', 'PropertyAge', 'TotalBathrooms',\n",
      "       'TotalPorchSF', 'TotalSF', 'Total_space_quality',\n",
      "       'Total_space_condition', 'effective_age'],\n",
      "      dtype='object')\n",
      "Categorical Columns: Index(['MSZoning', 'Street', 'Alley', 'LotShape', 'LandContour', 'Utilities',\n",
      "       'LotConfig', 'LandSlope', 'Neighborhood', 'Condition1', 'Condition2',\n",
      "       'BldgType', 'HouseStyle', 'RoofStyle', 'RoofMatl', 'Exterior1st',\n",
      "       'Exterior2nd', 'MasVnrType', 'ExterQual', 'ExterCond', 'Foundation',\n",
      "       'BsmtQual', 'BsmtCond', 'BsmtExposure', 'BsmtFinType1', 'BsmtFinType2',\n",
      "       'Heating', 'HeatingQC', 'CentralAir', 'Electrical', 'KitchenQual',\n",
      "       'Functional', 'FireplaceQu', 'GarageType', 'GarageFinish', 'GarageQual',\n",
      "       'GarageCond', 'PavedDrive', 'PoolQC', 'Fence', 'MiscFeature',\n",
      "       'SaleType', 'SaleCondition', 'HasPool', 'HasFireplace', 'HasGarage',\n",
      "       'HasBsmt', 'HasPorch', 'HasFence', 'HasAlley', 'HasMiscFeature',\n",
      "       'HasRemodeled', 'Has2ndFloor', 'HasMasVnr'],\n",
      "      dtype='object')\n"
     ]
    }
   ],
   "source": [
    "print(f\"Numerical Columns: {numerical_columns}\")\n",
    "print(f\"Categorical Columns: {categorical_columns}\")\n"
   ]
  },
  {
   "cell_type": "code",
   "execution_count": 89,
   "metadata": {},
   "outputs": [
    {
     "name": "stdout",
     "output_type": "stream",
     "text": [
      "✅ Corrected Extracted Features Count: 333\n",
      "🔹 Model Feature Importance Count: 333\n",
      "🔹 Final Feature Importance DataFrame:\n",
      "                       Feature  Importance\n",
      "41    num__Total_space_quality   20.701443\n",
      "42  num__Total_space_condition    9.687872\n",
      "40                num__TotalSF    8.239951\n",
      "3             num__OverallQual    8.209023\n",
      "37            num__PropertyAge    3.719218\n",
      "15              num__GrLivArea    3.038822\n",
      "2                 num__LotArea    2.440751\n",
      "38         num__TotalBathrooms    2.421875\n",
      "36            num__PropertyAge    2.145090\n",
      "6            num__YearRemodAdd    1.967605\n"
     ]
    }
   ],
   "source": [
    "# Extract feature importances\n",
    "feature_importance = best_model.feature_importances_\n",
    "\n",
    "# Extract feature names from the trained pipeline (same as model training)\n",
    "feature_names = pipeline_fe.named_steps['preprocessor'].get_feature_names_out()\n",
    "\n",
    "# Debugging print\n",
    "print(f\"✅ Corrected Extracted Features Count: {len(feature_names)}\")\n",
    "print(f\"🔹 Model Feature Importance Count: {len(best_model_fe.feature_importances_)}\")\n",
    "\n",
    "# Ensure number of features matches\n",
    "if len(feature_names) != len(best_model_fe.feature_importances_):\n",
    "    raise ValueError(f\"🚨 Mismatch! Extracted features ({len(feature_names)}) ≠ Model feature count ({len(best_model_fe.feature_importances_)})\")\n",
    "\n",
    "# Create Feature Importance DataFrame\n",
    "feature_importance_df = pd.DataFrame({\n",
    "    'Feature': feature_names,\n",
    "    'Importance': best_model_fe.feature_importances_\n",
    "})\n",
    "\n",
    "# Sort and display top features\n",
    "feature_importance_df = feature_importance_df.sort_values('Importance', ascending=False)\n",
    "print(\"🔹 Final Feature Importance DataFrame:\")\n",
    "print(feature_importance_df.head(10))\n"
   ]
  },
  {
   "cell_type": "code",
   "execution_count": 90,
   "metadata": {},
   "outputs": [
    {
     "data": {
      "image/png": "[encoded data removed]",
      "text/plain": [
       "<Figure size 1000x600 with 1 Axes>"
      ]
     },
     "metadata": {},
     "output_type": "display_data"
    }
   ],
   "source": [
    "import matplotlib.pyplot as plt\n",
    "import seaborn as sns\n",
    "\n",
    "plt.figure(figsize=(10, 6))\n",
    "sns.barplot(x=feature_importance_df['Importance'], y=feature_importance_df['Feature'])\n",
    "plt.title(\"Top 10 Most Important Features\")\n",
    "plt.xlabel(\"Feature Importance\")\n",
    "plt.ylabel(\"Features\")\n",
    "plt.show()\n"
   ]
  },
  {
   "cell_type": "code",
   "execution_count": 116,
   "metadata": {},
   "outputs": [
    {
     "name": "stdout",
     "output_type": "stream",
     "text": [
      "✅ Cleaned Important Features: ['Total_space_condition', 'GarageYrBlt', 'BsmtUnfSF', 'GrLivArea', 'BsmtFinSF1', 'GarageArea', 'YearRemodAdd', 'GarageCars', 'PropertyAge', 'OverallQual', 'TotalBathrooms', '1stFlrSF', 'BsmtQual_Gd', 'Functional_Typ', 'Total_space_quality', 'FireplaceQu_None', 'CentralAir_N', 'TotalSF', 'TotalPorchSF', '2ndFlrSF', 'MSZoning_RM', 'Neighborhood_Edwards', 'HeatingQC_Ex', 'SaleCondition_Abnorml', 'BsmtQual_TA', 'YearBuilt', 'GarageFinish_None', 'Neighborhood_Crawfor', 'HasFireplace_0', 'ExterQual_TA', 'OverallCond', 'LotArea']\n"
     ]
    }
   ],
   "source": [
    "threshold = 0.5  # Adjust based on analysis\n",
    "important_features = feature_importance_df[feature_importance_df[\"Importance\"] >= threshold][\"Feature\"].tolist()\n",
    "\n",
    "# Extract base feature names (removing prefix like 'num__' or 'cat__')\n",
    "important_features_cleaned = list(set(feat.split(\"__\")[-1] for feat in important_features))\n",
    "\n",
    "print(f\"✅ Cleaned Important Features: {important_features_cleaned}\")\n"
   ]
  },
  {
   "cell_type": "code",
   "execution_count": 117,
   "metadata": {},
   "outputs": [
    {
     "name": "stdout",
     "output_type": "stream",
     "text": [
      "🟢 Numerical Columns After Transformation: ['LotArea', 'OverallQual', 'OverallCond', 'YearBuilt', 'YearRemodAdd', 'BsmtFinSF1', 'BsmtUnfSF', '1stFlrSF', '2ndFlrSF', 'GrLivArea', 'GarageYrBlt', 'GarageCars', 'GarageArea', 'PropertyAge', 'TotalBathrooms', 'TotalPorchSF', 'TotalSF', 'Total_space_quality', 'Total_space_condition']\n",
      "🟢 Categorical Columns After Transformation: []\n",
      "🔹 Final Shape of Transformed Data: (1460, 19)\n"
     ]
    }
   ],
   "source": [
    "# Apply feature engineering FIRST\n",
    "df_transformed = feature_engineering_transformer.fit_transform(df_train)\n",
    "\n",
    "# Extract **all** numerical and categorical features after transformation\n",
    "all_numerical = df_transformed.select_dtypes(include=[np.number]).columns.tolist()\n",
    "all_categorical = df_transformed.select_dtypes(exclude=[np.number]).columns.tolist()\n",
    "\n",
    "# Filter numerical columns based on feature importance AFTER transformation\n",
    "numerical_columns = [col for col in all_numerical if col in important_features_cleaned]\n",
    "categorical_columns = [col for col in all_categorical if col in important_features_cleaned]\n",
    "\n",
    "# Debugging\n",
    "print(f\"🟢 Numerical Columns After Transformation: {numerical_columns}\")\n",
    "print(f\"🟢 Categorical Columns After Transformation: {categorical_columns}\")\n",
    "\n",
    "# Ensure there are selected features\n",
    "if not numerical_columns and not categorical_columns:\n",
    "    print(\"⚠️ Warning: No important features selected! Adjust threshold or check feature names.\")\n",
    "\n",
    "# Update preprocessing pipeline\n",
    "preprocessor = ColumnTransformer(\n",
    "    transformers=[\n",
    "        ('num', numerical_transformer, numerical_columns),\n",
    "        ('cat', categorical_transformer, categorical_columns)\n",
    "    ], remainder='passthrough')\n",
    "\n",
    "# Create a pipeline with the preprocessor and feature engineering\n",
    "pipeline_ife = Pipeline(steps=[\n",
    "    ('preprocessor', preprocessor)  # Feature engineering is already applied\n",
    "])\n",
    "\n",
    "# Transform X with updated columns\n",
    "X = df_transformed[numerical_columns + categorical_columns]  # Now extract features\n",
    "X_preprocessed_ife = pipeline_ife.fit_transform(X)  # Apply pipeline\n",
    "\n",
    "# Debugging print\n",
    "print(f\"🔹 Final Shape of Transformed Data: {X_preprocessed_ife.shape}\")\n"
   ]
  },
  {
   "cell_type": "code",
   "execution_count": 118,
   "metadata": {},
   "outputs": [
    {
     "name": "stdout",
     "output_type": "stream",
     "text": [
      "Best parameters for Linear Regression: {'loss_function': 'RMSE', 'verbose': 0, 'learning_rate': 0.05, 'iterations': 500, 'depth': 6}\n",
      "Linear Regression Best RMSE: 0.1585349481206236\n",
      "Best parameters for Random Forest: {'loss_function': 'RMSE', 'verbose': 0, 'learning_rate': 0.05, 'iterations': 500, 'depth': 6}\n",
      "Random Forest Best RMSE: 0.14116258124276032\n",
      "Best parameters for XGBoost: {'loss_function': 'RMSE', 'verbose': 0, 'learning_rate': 0.05, 'iterations': 500, 'depth': 6}\n",
      "XGBoost Best RMSE: 0.13201242340469255\n",
      "Best parameters for CatBoost: {'loss_function': 'RMSE', 'verbose': 0, 'learning_rate': 0.05, 'iterations': 500, 'depth': 6}\n",
      "CatBoost Best RMSE: 0.12804590041292335\n"
     ]
    }
   ],
   "source": [
    "# split the data into training and testing sets\n",
    "X_train_ife, X_test_ife, y_train_ife, y_test_ife = train_test_split(X_preprocessed_ife, y, test_size=0.2, random_state=42)\n",
    "\n",
    "\n",
    "# Train and evaluate the models\n",
    "best_models_ife = {}\n",
    "\n",
    "for model_name, config in models_params.items():\n",
    "    model = config['model']\n",
    "    param_grid = config['params']\n",
    "    \n",
    "    if param_grid:  # Tune if there are parameters to search\n",
    "        search = RandomizedSearchCV(model, param_distributions=param_grid, n_iter=10, cv=5, scoring='neg_mean_squared_error', n_jobs=-1, random_state=42)\n",
    "        search.fit(X_train_ife, y_train_ife)\n",
    "        best_model_ife = search.best_estimator_\n",
    "    else:\n",
    "        best_model_ife = model  # Use default model for Linear Regression\n",
    "    \n",
    "    best_models_ife[model_name] = best_model_ife  # Store best model\n",
    "    \n",
    "    # Evaluate with cross-validation\n",
    "    scores = cross_val_score(best_model_ife, X_train_ife, y_train_ife, cv=5, scoring='neg_mean_squared_error')\n",
    "    rmse_scores = np.sqrt(-scores)\n",
    "    print(f'Best parameters for {model_name}: {best_model_fe.get_params()}')\n",
    "    print(f\"{model_name} Best RMSE: {rmse_scores.mean()}\")\n"
   ]
  },
  {
   "cell_type": "code",
   "execution_count": 119,
   "metadata": {},
   "outputs": [
    {
     "name": "stdout",
     "output_type": "stream",
     "text": [
      "Test RMSE: 0.14225508184892327\n"
     ]
    }
   ],
   "source": [
    "# Evaluate the best model on the test set\n",
    "best_model = best_models_ife['CatBoost']\n",
    "y_pred = best_model.predict(X_test_ife)\n",
    "rmse = np.sqrt(mean_squared_error(y_test_ife, y_pred))\n",
    "print(f\"Test RMSE: {rmse}\")"
   ]
  },
  {
   "cell_type": "code",
   "execution_count": 127,
   "metadata": {},
   "outputs": [
    {
     "name": "stdout",
     "output_type": "stream",
     "text": [
      "Fitting 3 folds for each of 12 candidates, totalling 36 fits\n",
      "✅ Best Stacking Model RMSE (CatBoost Meta-Model): 0.12709\n",
      "🏆 Best CatBoost Meta-Model Parameters: {'final_estimator__depth': 6, 'final_estimator__iterations': 1000, 'final_estimator__learning_rate': 0.05}\n"
     ]
    }
   ],
   "source": [
    "from sklearn.model_selection import GridSearchCV\n",
    "from sklearn.ensemble import StackingRegressor\n",
    "# Split preprocessed features and target\n",
    "X_train_fe, X_val_fe, y_train_fe, y_val = train_test_split(X_preprocessed_fe, y, test_size=0.2, random_state=42)\n",
    "\n",
    "# Define base models with best parameters\n",
    "base_models = [\n",
    "    ('random_forest', RandomForestRegressor(n_estimators=200, min_samples_leaf=2, min_samples_split=5, random_state=42)),\n",
    "    ('xgboost', XGBRegressor(n_estimators=200, learning_rate=0.1, max_depth=3, random_state=42)),\n",
    "]\n",
    "\n",
    "# Define CatBoost meta-model (with default parameters before tuning)\n",
    "meta_model = CatBoostRegressor(loss_function='RMSE', learning_rate=0.05, iterations=500, depth=6, verbose=0)\n",
    "\n",
    "# Create Stacking Regressor\n",
    "stacking_model = StackingRegressor(estimators=base_models, final_estimator=meta_model, passthrough=True)\n",
    "\n",
    "# Define hyperparameter grid for tuning CatBoost meta-model\n",
    "param_grid = {\n",
    "    'final_estimator__iterations': [500, 1000],\n",
    "    'final_estimator__learning_rate': [0.05, 0.1],\n",
    "    'final_estimator__depth': [6, 8, 10]\n",
    "}\n",
    "\n",
    "# Perform GridSearchCV to find the best parameters for the meta-model\n",
    "grid_search = GridSearchCV(stacking_model, param_grid, cv=3, scoring='neg_root_mean_squared_error', verbose=1, n_jobs=-1)\n",
    "\n",
    "# Train the tuned stacking model\n",
    "grid_search.fit(X_train_fe, y_train_fe)\n",
    "\n",
    "# Get best model\n",
    "best_stacking_model = grid_search.best_estimator_\n",
    "\n",
    "# Predict on validation set\n",
    "y_pred_stack = best_stacking_model.predict(X_val_fe)\n",
    "\n",
    "# Calculate RMSE\n",
    "rmse_stack = np.sqrt(mean_squared_error(y_val, y_pred_stack))\n",
    "\n",
    "print(f\"✅ Best Stacking Model RMSE (CatBoost Meta-Model): {rmse_stack:.5f}\")\n",
    "print(f\"🏆 Best CatBoost Meta-Model Parameters: {grid_search.best_params_}\")"
   ]
  },
  {
   "cell_type": "code",
   "execution_count": null,
   "metadata": {},
   "outputs": [],
   "source": [
    "#Best parameters for Linear Regression: {'copy_X': True, 'fit_intercept': True, 'n_jobs': None, 'positive': False}\n",
    "#Linear Regression Best RMSE: 0.1508473860331942\n",
    "#Best parameters for Random Forest: {'bootstrap': True, 'ccp_alpha': 0.0, 'criterion': 'squared_error', 'max_depth': None, 'max_features': 1.0, 'max_leaf_nodes': None, 'max_samples': None, 'min_impurity_decrease': 0.0, 'min_samples_leaf': 2, 'min_samples_split': 5, 'min_weight_fraction_leaf': 0.0, 'monotonic_cst': None, 'n_estimators': 200, 'n_jobs': None, 'oob_score': False, 'random_state': None, 'verbose': 0, 'warm_start': False}\n",
    "#Random Forest Best RMSE: 0.13857395183428856\n",
    "#Best parameters for XGBoost: {'objective': 'reg:squarederror', 'base_score': None, 'booster': None, 'callbacks': None, 'colsample_bylevel': None, 'colsample_bynode': None, 'colsample_bytree': None, 'device': None, 'early_stopping_rounds': None, 'enable_categorical': False, 'eval_metric': None, 'feature_types': None, 'gamma': None, 'grow_policy': None, 'importance_type': None, 'interaction_constraints': None, 'learning_rate': 0.1, 'max_bin': None, 'max_cat_threshold': None, 'max_cat_to_onehot': None, 'max_delta_step': None, 'max_depth': 3, 'max_leaves': None, 'min_child_weight': None, 'missing': nan, 'monotone_constraints': None, 'multi_strategy': None, 'n_estimators': 200, 'n_jobs': None, 'num_parallel_tree': None, 'random_state': None, 'reg_alpha': None, 'reg_lambda': None, 'sampling_method': None, 'scale_pos_weight': None, 'subsample': 1.0, 'tree_method': None, 'validate_parameters': None, 'verbosity': None}\n",
    "#XGBoost Best RMSE: 0.12694397041410288\n",
    "#Best parameters for CatBoost: {'loss_function': 'RMSE', 'verbose': 0, 'learning_rate': 0.05, 'iterations': 500, 'depth': 6}\n",
    "#CatBoost Best RMSE: 0.12046253260059461"
   ]
  },
  {
   "cell_type": "code",
   "execution_count": 130,
   "metadata": {},
   "outputs": [],
   "source": [
    "X_train_preprocessed, X_val_fe, y_train_fe, y_val = train_test_split(X_preprocessed_fe, y, test_size=0.2, random_state=42)"
   ]
  },
  {
   "cell_type": "code",
   "execution_count": null,
   "metadata": {},
   "outputs": [
    {
     "name": "stdout",
     "output_type": "stream",
     "text": [
      "Best Parameters: {'depth': 4, 'iterations': 1500, 'l2_leaf_reg': 1, 'learning_rate': 0.03}\n",
      "Best RMSE: 0.11897973822094887\n"
     ]
    }
   ],
   "source": [
    "\n",
    "# Define parameter grid\n",
    "param_grid = {\n",
    "    'iterations': [1000, 1500, 2000],\n",
    "    'depth': [4, 6, 8],\n",
    "    'learning_rate': [0.03, 0.05, 0.1],\n",
    "    'l2_leaf_reg': [1, 3, 5]\n",
    "}\n",
    "\n",
    "# Initialize model\n",
    "catboost = CatBoostRegressor(loss_function='RMSE', verbose=0)\n",
    "\n",
    "# GridSearch\n",
    "grid_search = GridSearchCV(catboost, param_grid, cv=3, scoring='neg_root_mean_squared_error', n_jobs=-1)\n",
    "grid_search.fit(X_train_preprocessed, y_train_fe)\n",
    "\n",
    "# Best parameters & score\n",
    "print(\"Best Parameters:\", grid_search.best_params_)\n",
    "print(\"Best RMSE:\", -grid_search.best_score_)"
   ]
  },
  {
   "cell_type": "code",
   "execution_count": 134,
   "metadata": {},
   "outputs": [
    {
     "data": {
      "text/plain": [
       "Index(['MSSubClass', 'MSZoning', 'LotFrontage', 'LotArea', 'Street', 'Alley',\n",
       "       'LotShape', 'LandContour', 'Utilities', 'LotConfig', 'LandSlope',\n",
       "       'Neighborhood', 'Condition1', 'Condition2', 'BldgType', 'HouseStyle',\n",
       "       'OverallQual', 'OverallCond', 'YearBuilt', 'YearRemodAdd', 'RoofStyle',\n",
       "       'RoofMatl', 'Exterior1st', 'Exterior2nd', 'MasVnrType', 'MasVnrArea',\n",
       "       'ExterQual', 'ExterCond', 'Foundation', 'BsmtQual', 'BsmtCond',\n",
       "       'BsmtExposure', 'BsmtFinType1', 'BsmtFinSF1', 'BsmtFinType2',\n",
       "       'BsmtFinSF2', 'BsmtUnfSF', 'TotalBsmtSF', 'Heating', 'HeatingQC',\n",
       "       'CentralAir', 'Electrical', '1stFlrSF', '2ndFlrSF', 'LowQualFinSF',\n",
       "       'GrLivArea', 'BsmtFullBath', 'BsmtHalfBath', 'FullBath', 'HalfBath',\n",
       "       'BedroomAbvGr', 'KitchenAbvGr', 'KitchenQual', 'TotRmsAbvGrd',\n",
       "       'Functional', 'Fireplaces', 'FireplaceQu', 'GarageType', 'GarageYrBlt',\n",
       "       'GarageFinish', 'GarageCars', 'GarageArea', 'GarageQual', 'GarageCond',\n",
       "       'PavedDrive', 'WoodDeckSF', 'OpenPorchSF', 'EnclosedPorch', '3SsnPorch',\n",
       "       'ScreenPorch', 'PoolArea', 'PoolQC', 'Fence', 'MiscFeature', 'MiscVal',\n",
       "       'MoSold', 'YrSold', 'SaleType', 'SaleCondition'],\n",
       "      dtype='object')"
      ]
     },
     "execution_count": 134,
     "metadata": {},
     "output_type": "execute_result"
    }
   ],
   "source": [
    "df_test.columns"
   ]
  },
  {
   "cell_type": "code",
   "execution_count": 142,
   "metadata": {},
   "outputs": [
    {
     "name": "stdout",
     "output_type": "stream",
     "text": [
      "✅ Submission file saved successfully!\n"
     ]
    }
   ],
   "source": [
    "# Apply the same preprocessing pipeline\n",
    "df_test_preprocessed = pipeline_fe.transform(df_test)\n",
    "\n",
    "# Train the best CatBoost model on full data\n",
    "best_catboost = CatBoostRegressor(\n",
    "    depth=4, iterations=1500, l2_leaf_reg=1, learning_rate=0.03, loss_function='RMSE', verbose=0\n",
    ")\n",
    "\n",
    "# Fit the model on the full training data\n",
    "best_catboost.fit(X_train_preprocessed, y_train_fe)  # Ensure correct training data is used\n",
    "\n",
    "# Predict on test set (log scale)\n",
    "y_test_pred_log = best_catboost.predict(df_test_preprocessed)  \n",
    "\n",
    "# Convert back to original scale\n",
    "y_test_pred = np.exp(y_test_pred_log)  \n",
    "\n",
    "# Create DataFrame\n",
    "submission = pd.DataFrame({'Id': df_test.index, 'SalePrice': y_test_pred})\n",
    "\n",
    "# Save as CSV\n",
    "submission.to_csv('submission.csv', index=False)\n",
    "\n",
    "print(\"✅ Submission file saved successfully!\")\n"
   ]
  }
 ],
 "metadata": {
  "kernelspec": {
   "display_name": "Python 3",
   "language": "python",
   "name": "python3"
  },
  "language_info": {
   "codemirror_mode": {
    "name": "ipython",
    "version": 3
   },
   "file_extension": ".py",
   "mimetype": "text/x-python",
   "name": "python",
   "nbconvert_exporter": "python",
   "pygments_lexer": "ipython3",
   "version": "3.12.6"
  }
 },
 "nbformat": 4,
 "nbformat_minor": 2
}
